{
 "cells": [
  {
   "cell_type": "markdown",
   "id": "bronze-fairy",
   "metadata": {},
   "source": [
    "## Problem 1: APT"
   ]
  },
  {
   "cell_type": "markdown",
   "id": "orange-animation",
   "metadata": {},
   "source": [
    "### c)"
   ]
  },
  {
   "cell_type": "code",
   "execution_count": 4,
   "id": "artistic-elephant",
   "metadata": {},
   "outputs": [],
   "source": [
    "import numpy as np\n",
    "import matplotlib.pyplot as plt"
   ]
  },
  {
   "cell_type": "code",
   "execution_count": 17,
   "id": "painted-harvest",
   "metadata": {},
   "outputs": [],
   "source": [
    "# parameters\n",
    "alpha_b = 0.03\n",
    "beta_b = 0.5\n",
    "beta_a = 0.5\n",
    "w_a = 0.5\n",
    "mu_f = 0.08\n",
    "sigma_b = 0.3\n",
    "sigma_a = 0.3\n",
    "r_0 = 0.04\n",
    "\n",
    "N_A = np.arange(1,1000)\n",
    "\n",
    "# expected return of hedged portfolio\n",
    "R_h = alpha_b + beta_b * mu_f - w_a*mu_f\n",
    "# idiosyncratic risk of hedged portfolio\n",
    "u_h = sigma_b**2 + (1/4)*(sigma_a/beta_a)**2*N_A\n",
    "# systematic risk of hedged portfolio\n",
    "s_h = beta_b**2 - 1/4\n",
    "# total risk of hedged portfolio\n",
    "t_h = beta_b**2 + sigma_b**2 + 1/4 + (1/4)*(sigma_a/beta_a)**2*N_A\n",
    "# sharpe ratio of hedged portfolio\n",
    "sr_h = (R_h-r_0)/np.sqrt(t_h)"
   ]
  },
  {
   "cell_type": "markdown",
   "id": "incomplete-farming",
   "metadata": {},
   "source": [
    "## Problem 2: Understanding Warren Buffett's Performance"
   ]
  },
  {
   "cell_type": "code",
   "execution_count": 67,
   "id": "welcome-investigation",
   "metadata": {},
   "outputs": [],
   "source": [
    "import wrds\n",
    "import pandas as pd"
   ]
  },
  {
   "cell_type": "code",
   "execution_count": 34,
   "id": "environmental-modem",
   "metadata": {
    "scrolled": true
   },
   "outputs": [
    {
     "name": "stdout",
     "output_type": "stream",
     "text": [
      "Loading library list...\n",
      "Done\n",
      "Enter your WRDS username [jonkq]:jonkq\n",
      "Enter your password:········\n"
     ]
    }
   ],
   "source": [
    "db = wrds.Connection()\n",
    "db.create_pgpass_file()"
   ]
  },
  {
   "cell_type": "code",
   "execution_count": 93,
   "id": "fifth-water",
   "metadata": {},
   "outputs": [],
   "source": [
    "brk=db.raw_sql(\"select date, ret from crsp.msf where permno in (17778) and date>='1976-01-01' and date<='2019-12-31'\")\n",
    "brk.to_csv('brk.csv')"
   ]
  },
  {
   "cell_type": "code",
   "execution_count": 96,
   "id": "loved-manchester",
   "metadata": {},
   "outputs": [],
   "source": [
    "r0 = db.raw_sql(\"select mcaldt, tmytm from crsp.tfz_mth_rf where kytreasnox=2000001 and mcaldt>='1976-09-01' and mcaldt<='2019-12-31'\")\n",
    "# brk starts at 1971-09 (not 1971-01)"
   ]
  },
  {
   "cell_type": "code",
   "execution_count": 97,
   "id": "laden-philadelphia",
   "metadata": {
    "scrolled": false
   },
   "outputs": [
    {
     "data": {
      "text/plain": [
       "True"
      ]
     },
     "execution_count": 97,
     "metadata": {},
     "output_type": "execute_result"
    }
   ],
   "source": [
    "# conformity check\n",
    "len(r0) == len(brk)"
   ]
  },
  {
   "cell_type": "code",
   "execution_count": 95,
   "id": "bizarre-rebate",
   "metadata": {},
   "outputs": [],
   "source": [
    "dates = brk.date\n",
    "brk = brk.ret"
   ]
  },
  {
   "cell_type": "code",
   "execution_count": 100,
   "id": "previous-ambassador",
   "metadata": {
    "scrolled": true
   },
   "outputs": [],
   "source": [
    "r0 = r0.tmytm.squeeze()"
   ]
  },
  {
   "cell_type": "code",
   "execution_count": 102,
   "id": "perceived-amount",
   "metadata": {
    "scrolled": true
   },
   "outputs": [],
   "source": [
    "r0 = (np.exp(r0/100)-1)/12"
   ]
  },
  {
   "cell_type": "code",
   "execution_count": 107,
   "id": "latin-gossip",
   "metadata": {},
   "outputs": [],
   "source": [
    "rets = pd.DataFrame({'brk':brk, 'r0':r0})\n",
    "rets['date'] = dates\n",
    "rets = rets.set_index('date')"
   ]
  },
  {
   "cell_type": "code",
   "execution_count": 119,
   "id": "improving-consensus",
   "metadata": {},
   "outputs": [],
   "source": [
    "# remove rows containing NaN\n",
    "nan = rets.brk.isna()\n",
    "nas = [i for i, x in enumerate(nan) if x]\n",
    "nas = dates[nas]\n",
    "rets = rets.drop(nas)"
   ]
  }
 ],
 "metadata": {
  "kernelspec": {
   "display_name": "Python 3",
   "language": "python",
   "name": "python3"
  },
  "language_info": {
   "codemirror_mode": {
    "name": "ipython",
    "version": 3
   },
   "file_extension": ".py",
   "mimetype": "text/x-python",
   "name": "python",
   "nbconvert_exporter": "python",
   "pygments_lexer": "ipython3",
   "version": "3.8.8"
  }
 },
 "nbformat": 4,
 "nbformat_minor": 5
}
