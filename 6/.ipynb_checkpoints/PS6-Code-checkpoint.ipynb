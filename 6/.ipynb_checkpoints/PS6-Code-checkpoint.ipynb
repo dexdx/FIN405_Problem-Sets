{
 "cells": [
  {
   "cell_type": "markdown",
   "id": "bronze-fairy",
   "metadata": {},
   "source": [
    "## Problem 1: APT"
   ]
  },
  {
   "cell_type": "markdown",
   "id": "transparent-edition",
   "metadata": {},
   "source": [
    "### c)"
   ]
  },
  {
   "cell_type": "code",
   "execution_count": 1,
   "id": "private-notion",
   "metadata": {},
   "outputs": [],
   "source": [
    "import numpy as np\n",
    "import matplotlib.pyplot as plt"
   ]
  },
  {
   "cell_type": "code",
   "execution_count": 2,
   "id": "formal-syntax",
   "metadata": {},
   "outputs": [],
   "source": [
    "# parameters\n",
    "alpha_b = 0.03\n",
    "beta_b = 0.5\n",
    "beta_a = 0.5\n",
    "w_a = 0.5\n",
    "mu_f = 0.08\n",
    "sigma_b = 0.3\n",
    "sigma_a = 0.3\n",
    "r_0 = 0.04\n",
    "\n",
    "N_A = np.arange(1,1000)\n",
    "\n",
    "# expected return of hedged portfolio\n",
    "R_h = alpha_b + beta_b * mu_f - w_a*mu_f\n",
    "# idiosyncratic risk of hedged portfolio\n",
    "u_h = sigma_b**2 + (1/4)*(sigma_a/beta_a)**2*N_A\n",
    "# systematic risk of hedged portfolio\n",
    "s_h = beta_b**2 - 1/4\n",
    "# total risk of hedged portfolio\n",
    "t_h = beta_b**2 + sigma_b**2 + 1/4 + (1/4)*(sigma_a/beta_a)**2*N_A\n",
    "# sharpe ratio of hedged portfolio\n",
    "sr_h = (R_h-r_0)/np.sqrt(t_h)"
   ]
  },
  {
   "cell_type": "markdown",
   "id": "ahead-workplace",
   "metadata": {},
   "source": [
    "## Problem 2: Understanding Warren Buffett's Performance"
   ]
  },
  {
   "cell_type": "code",
   "execution_count": 3,
   "id": "remarkable-indian",
   "metadata": {},
   "outputs": [],
   "source": [
    "import wrds\n",
    "import pandas as pd"
   ]
  },
  {
   "cell_type": "code",
   "execution_count": 4,
   "id": "lined-madrid",
   "metadata": {
    "scrolled": true
   },
   "outputs": [
    {
     "name": "stdout",
     "output_type": "stream",
     "text": [
      "Loading library list...\n",
      "Done\n",
      "Enter your WRDS username [jonkq]:jonkq\n",
      "Enter your password:········\n"
     ]
    }
   ],
   "source": [
    "db = wrds.Connection()\n",
    "db.create_pgpass_file()"
   ]
  },
  {
   "cell_type": "code",
   "execution_count": 5,
   "id": "coral-columbia",
   "metadata": {},
   "outputs": [],
   "source": [
    "brk=db.raw_sql(\"select date, ret from crsp.msf where permno in (17778) and date>='1976-01-01' and date<='2019-12-31'\")\n",
    "brk.to_csv('brk.csv')"
   ]
  },
  {
   "cell_type": "code",
   "execution_count": 6,
   "id": "continuous-copper",
   "metadata": {},
   "outputs": [],
   "source": [
    "r0 = db.raw_sql(\"select mcaldt, tmytm from crsp.tfz_mth_rf where kytreasnox=2000001 and mcaldt>='1976-09-01' and mcaldt<='2019-12-31'\")\n",
    "# brk starts at 1971-09 (not 1971-01)"
   ]
  },
  {
   "cell_type": "code",
   "execution_count": 7,
   "id": "indoor-depression",
   "metadata": {
    "scrolled": false
   },
   "outputs": [
    {
     "data": {
      "text/plain": [
       "True"
      ]
     },
     "execution_count": 7,
     "metadata": {},
     "output_type": "execute_result"
    }
   ],
   "source": [
    "# conformity check\n",
    "len(r0) == len(brk)"
   ]
  },
  {
   "cell_type": "code",
   "execution_count": 8,
   "id": "contained-maine",
   "metadata": {},
   "outputs": [],
   "source": [
    "dates = brk.date\n",
    "brk = brk.ret"
   ]
  },
  {
   "cell_type": "code",
   "execution_count": 9,
   "id": "herbal-sitting",
   "metadata": {
    "scrolled": true
   },
   "outputs": [],
   "source": [
    "r0 = r0.tmytm.squeeze()"
   ]
  },
  {
   "cell_type": "code",
   "execution_count": 10,
   "id": "auburn-encyclopedia",
   "metadata": {
    "scrolled": true
   },
   "outputs": [],
   "source": [
    "# simple monthly rates\n",
    "r0 = (np.exp(r0/100)-1)/12"
   ]
  },
  {
   "cell_type": "code",
   "execution_count": 11,
   "id": "faced-arbor",
   "metadata": {},
   "outputs": [],
   "source": [
    "# create data frame\n",
    "rets = pd.DataFrame({'brk':brk, 'r0':r0})\n",
    "rets['date'] = dates\n",
    "rets = rets.set_index('date')"
   ]
  },
  {
   "cell_type": "code",
   "execution_count": 12,
   "id": "fifteen-copying",
   "metadata": {},
   "outputs": [],
   "source": [
    "# remove rows containing NaN\n",
    "nan = rets.brk.isna()\n",
    "nas = [i for i, x in enumerate(nan) if x]\n",
    "nas = dates[nas]\n",
    "rets = rets.drop(nas)"
   ]
  },
  {
   "cell_type": "markdown",
   "id": "educational-capacity",
   "metadata": {},
   "source": [
    "### b)"
   ]
  },
  {
   "cell_type": "code",
   "execution_count": 13,
   "id": "successful-adventure",
   "metadata": {
    "scrolled": true
   },
   "outputs": [
    {
     "name": "stdout",
     "output_type": "stream",
     "text": [
      "Annualized excess returns\n",
      "\n",
      "Mean: 18.2%\n",
      "StDev: 23.2%\n",
      "Sharpe ratio: 0.785\n"
     ]
    }
   ],
   "source": [
    "brk_m = 12*100*((rets.brk-rets.r0).mean())\n",
    "brk_s = 100*np.sqrt(12)*((rets.brk-rets.r0).std())\n",
    "print('Annualized excess returns\\n\\nMean: {:0.3}%\\nStDev: {:0.3}%\\nSharpe ratio: {:0.3}'.format(brk_m, brk_s, brk_m/brk_s))"
   ]
  },
  {
   "cell_type": "code",
   "execution_count": 14,
   "id": "broken-oliver",
   "metadata": {},
   "outputs": [],
   "source": [
    "# fama-french factors\n",
    "fff = pd.read_table('F-F_Research_Data_5_Factors_2x3.CSV', sep=',', index_col=0)\n",
    "fff = fff/100"
   ]
  },
  {
   "cell_type": "code",
   "execution_count": 15,
   "id": "postal-induction",
   "metadata": {},
   "outputs": [],
   "source": [
    "dates2 = list(fff.index)"
   ]
  },
  {
   "cell_type": "code",
   "execution_count": 16,
   "id": "deadly-teacher",
   "metadata": {},
   "outputs": [],
   "source": [
    "x1 = list(range(13*12+4))\n",
    "x2 = list(range(len(fff)-14,len(fff)))\n",
    "x1 = [dates2[i] for i in x1]\n",
    "x2 = [dates2[i] for i in x2]\n",
    "fff = fff.drop(x1)\n",
    "fff = fff.drop(x2)"
   ]
  },
  {
   "cell_type": "code",
   "execution_count": 17,
   "id": "bearing-journalist",
   "metadata": {},
   "outputs": [],
   "source": [
    "# there are 3 missing months in rets\n",
    "# drop them in fff"
   ]
  },
  {
   "cell_type": "code",
   "execution_count": 64,
   "id": "unique-basement",
   "metadata": {
    "scrolled": true
   },
   "outputs": [],
   "source": [
    "dates = list(rets.index)\n",
    "dates = [dates[i].strftime('%Y-%m-%d') for i in  range(len(dates))]\n",
    "dates3 = [dates[i].split('-')[0] + dates[i].split('-')[1] for i in range(len(dates))]"
   ]
  },
  {
   "cell_type": "code",
   "execution_count": 65,
   "id": "offshore-comment",
   "metadata": {},
   "outputs": [],
   "source": [
    "dates2 = list(fff.index)\n",
    "dates3 = [int(dates3[i]) for i in range(len(dates3))]"
   ]
  },
  {
   "cell_type": "code",
   "execution_count": 66,
   "id": "cardiac-spell",
   "metadata": {},
   "outputs": [],
   "source": [
    "mis = []\n",
    "\n",
    "for i in range(518):\n",
    "    if dates2[i] < dates3[i]:\n",
    "        dates3.insert(i, dates2[i])\n",
    "        mis.append(i)\n",
    "    if dates3[i] < dates2[i]:\n",
    "        dates2.insert(i, dates3[i])\n",
    "        mis.append(i)"
   ]
  },
  {
   "cell_type": "code",
   "execution_count": 71,
   "id": "quiet-negative",
   "metadata": {},
   "outputs": [],
   "source": [
    "mis_dates = [dates2[i] for i in mis]\n",
    "fff = fff.drop(mis_dates)"
   ]
  },
  {
   "cell_type": "markdown",
   "id": "proud-composite",
   "metadata": {},
   "source": [
    "##### Fama-French"
   ]
  },
  {
   "cell_type": "code",
   "execution_count": 74,
   "id": "collaborative-prescription",
   "metadata": {},
   "outputs": [
    {
     "data": {
      "text/html": [
       "<div>\n",
       "<style scoped>\n",
       "    .dataframe tbody tr th:only-of-type {\n",
       "        vertical-align: middle;\n",
       "    }\n",
       "\n",
       "    .dataframe tbody tr th {\n",
       "        vertical-align: top;\n",
       "    }\n",
       "\n",
       "    .dataframe thead th {\n",
       "        text-align: right;\n",
       "    }\n",
       "</style>\n",
       "<table border=\"1\" class=\"dataframe\">\n",
       "  <thead>\n",
       "    <tr style=\"text-align: right;\">\n",
       "      <th></th>\n",
       "      <th>Mkt-RF</th>\n",
       "      <th>SMB</th>\n",
       "      <th>HML</th>\n",
       "      <th>RMW</th>\n",
       "      <th>CMA</th>\n",
       "      <th>RF</th>\n",
       "    </tr>\n",
       "    <tr>\n",
       "      <th>Date</th>\n",
       "      <th></th>\n",
       "      <th></th>\n",
       "      <th></th>\n",
       "      <th></th>\n",
       "      <th></th>\n",
       "      <th></th>\n",
       "    </tr>\n",
       "  </thead>\n",
       "  <tbody>\n",
       "    <tr>\n",
       "      <th>197611</th>\n",
       "      <td>0.0036</td>\n",
       "      <td>0.0266</td>\n",
       "      <td>0.0151</td>\n",
       "      <td>-0.0139</td>\n",
       "      <td>0.0007</td>\n",
       "      <td>0.0040</td>\n",
       "    </tr>\n",
       "    <tr>\n",
       "      <th>197612</th>\n",
       "      <td>0.0565</td>\n",
       "      <td>0.0360</td>\n",
       "      <td>0.0220</td>\n",
       "      <td>-0.0062</td>\n",
       "      <td>0.0223</td>\n",
       "      <td>0.0040</td>\n",
       "    </tr>\n",
       "    <tr>\n",
       "      <th>197702</th>\n",
       "      <td>-0.0194</td>\n",
       "      <td>0.0111</td>\n",
       "      <td>0.0052</td>\n",
       "      <td>-0.0013</td>\n",
       "      <td>-0.0019</td>\n",
       "      <td>0.0035</td>\n",
       "    </tr>\n",
       "    <tr>\n",
       "      <th>197703</th>\n",
       "      <td>-0.0137</td>\n",
       "      <td>0.0129</td>\n",
       "      <td>0.0106</td>\n",
       "      <td>-0.0032</td>\n",
       "      <td>-0.0009</td>\n",
       "      <td>0.0038</td>\n",
       "    </tr>\n",
       "    <tr>\n",
       "      <th>197704</th>\n",
       "      <td>0.0015</td>\n",
       "      <td>0.0060</td>\n",
       "      <td>0.0344</td>\n",
       "      <td>-0.0205</td>\n",
       "      <td>0.0114</td>\n",
       "      <td>0.0038</td>\n",
       "    </tr>\n",
       "    <tr>\n",
       "      <th>...</th>\n",
       "      <td>...</td>\n",
       "      <td>...</td>\n",
       "      <td>...</td>\n",
       "      <td>...</td>\n",
       "      <td>...</td>\n",
       "      <td>...</td>\n",
       "    </tr>\n",
       "    <tr>\n",
       "      <th>201908</th>\n",
       "      <td>-0.0258</td>\n",
       "      <td>-0.0328</td>\n",
       "      <td>-0.0485</td>\n",
       "      <td>0.0042</td>\n",
       "      <td>-0.0089</td>\n",
       "      <td>0.0016</td>\n",
       "    </tr>\n",
       "    <tr>\n",
       "      <th>201909</th>\n",
       "      <td>0.0143</td>\n",
       "      <td>0.0024</td>\n",
       "      <td>0.0677</td>\n",
       "      <td>0.0199</td>\n",
       "      <td>0.0350</td>\n",
       "      <td>0.0018</td>\n",
       "    </tr>\n",
       "    <tr>\n",
       "      <th>201910</th>\n",
       "      <td>0.0206</td>\n",
       "      <td>0.0020</td>\n",
       "      <td>-0.0188</td>\n",
       "      <td>0.0025</td>\n",
       "      <td>-0.0099</td>\n",
       "      <td>0.0015</td>\n",
       "    </tr>\n",
       "    <tr>\n",
       "      <th>201911</th>\n",
       "      <td>0.0387</td>\n",
       "      <td>0.0052</td>\n",
       "      <td>-0.0205</td>\n",
       "      <td>-0.0158</td>\n",
       "      <td>-0.0124</td>\n",
       "      <td>0.0012</td>\n",
       "    </tr>\n",
       "    <tr>\n",
       "      <th>201912</th>\n",
       "      <td>0.0277</td>\n",
       "      <td>0.0094</td>\n",
       "      <td>0.0191</td>\n",
       "      <td>0.0009</td>\n",
       "      <td>0.0129</td>\n",
       "      <td>0.0014</td>\n",
       "    </tr>\n",
       "  </tbody>\n",
       "</table>\n",
       "<p>515 rows × 6 columns</p>\n",
       "</div>"
      ],
      "text/plain": [
       "        Mkt-RF     SMB     HML     RMW     CMA      RF\n",
       "Date                                                  \n",
       "197611  0.0036  0.0266  0.0151 -0.0139  0.0007  0.0040\n",
       "197612  0.0565  0.0360  0.0220 -0.0062  0.0223  0.0040\n",
       "197702 -0.0194  0.0111  0.0052 -0.0013 -0.0019  0.0035\n",
       "197703 -0.0137  0.0129  0.0106 -0.0032 -0.0009  0.0038\n",
       "197704  0.0015  0.0060  0.0344 -0.0205  0.0114  0.0038\n",
       "...        ...     ...     ...     ...     ...     ...\n",
       "201908 -0.0258 -0.0328 -0.0485  0.0042 -0.0089  0.0016\n",
       "201909  0.0143  0.0024  0.0677  0.0199  0.0350  0.0018\n",
       "201910  0.0206  0.0020 -0.0188  0.0025 -0.0099  0.0015\n",
       "201911  0.0387  0.0052 -0.0205 -0.0158 -0.0124  0.0012\n",
       "201912  0.0277  0.0094  0.0191  0.0009  0.0129  0.0014\n",
       "\n",
       "[515 rows x 6 columns]"
      ]
     },
     "execution_count": 74,
     "metadata": {},
     "output_type": "execute_result"
    }
   ],
   "source": [
    "fff"
   ]
  },
  {
   "cell_type": "code",
   "execution_count": 75,
   "id": "solid-louis",
   "metadata": {},
   "outputs": [],
   "source": [
    "# sharpes"
   ]
  },
  {
   "cell_type": "markdown",
   "id": "leading-release",
   "metadata": {},
   "source": [
    "### c)"
   ]
  },
  {
   "cell_type": "code",
   "execution_count": 78,
   "id": "random-specific",
   "metadata": {},
   "outputs": [],
   "source": [
    "rets['brk_e'] = rets.brk-rets.r0"
   ]
  },
  {
   "cell_type": "code",
   "execution_count": 119,
   "id": "floppy-exhibition",
   "metadata": {},
   "outputs": [],
   "source": [
    "mom = pd.read_table('F-F_Momentum_Factor.CSV', sep=',', index_col=0)\n",
    "mom = mom/100\n",
    "mom = mom.drop(mis_dates)"
   ]
  },
  {
   "cell_type": "code",
   "execution_count": 80,
   "id": "virtual-devil",
   "metadata": {},
   "outputs": [],
   "source": [
    "from sklearn.linear_model import LinearRegression"
   ]
  },
  {
   "cell_type": "code",
   "execution_count": 150,
   "id": "devoted-ukraine",
   "metadata": {},
   "outputs": [],
   "source": [
    "Y = np.asarray(rets.brk_e)\n",
    "betas = []\n",
    "resid = []\n",
    "X = np.array([fff['Mkt-RF'], fff.SMB, fff.HML, mom.squeeze(), fff.RMW, fff.CMA])\n",
    "X = X.transpose()"
   ]
  },
  {
   "cell_type": "code",
   "execution_count": 151,
   "id": "affecting-prefix",
   "metadata": {},
   "outputs": [],
   "source": [
    "for j in range(X.shape[1]):\n",
    "    x = X[:,:j+1]\n",
    "    fit = LinearRegression().fit(x,Y)\n",
    "    betas.append(fit.coef_)"
   ]
  },
  {
   "cell_type": "code",
   "execution_count": 152,
   "id": "basic-petroleum",
   "metadata": {
    "scrolled": false
   },
   "outputs": [
    {
     "data": {
      "text/plain": [
       "[array([0.69294322]),\n",
       " array([ 0.74021652, -0.30512799]),\n",
       " array([ 0.82446237, -0.27136907,  0.50844583]),\n",
       " array([ 0.83640535, -0.27557777,  0.53338199,  0.06070191]),\n",
       " array([ 0.86748582, -0.15481063,  0.4772694 ,  0.03116522,  0.42371761]),\n",
       " array([ 0.86597504, -0.15451405,  0.48425876,  0.0319012 ,  0.42264091,\n",
       "        -0.01519991])]"
      ]
     },
     "execution_count": 152,
     "metadata": {},
     "output_type": "execute_result"
    }
   ],
   "source": [
    "betas"
   ]
  }
 ],
 "metadata": {
  "kernelspec": {
   "display_name": "Python 3",
   "language": "python",
   "name": "python3"
  },
  "language_info": {
   "codemirror_mode": {
    "name": "ipython",
    "version": 3
   },
   "file_extension": ".py",
   "mimetype": "text/x-python",
   "name": "python",
   "nbconvert_exporter": "python",
   "pygments_lexer": "ipython3",
   "version": "3.8.8"
  }
 },
 "nbformat": 4,
 "nbformat_minor": 5
}
