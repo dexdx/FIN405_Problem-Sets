{
 "cells": [
  {
   "cell_type": "markdown",
   "id": "bronze-fairy",
   "metadata": {},
   "source": [
    "## Problem 1: APT"
   ]
  },
  {
   "cell_type": "markdown",
   "id": "transparent-edition",
   "metadata": {},
   "source": [
    "### c)"
   ]
  },
  {
   "cell_type": "code",
   "execution_count": 4,
   "id": "private-notion",
   "metadata": {},
   "outputs": [],
   "source": [
    "import numpy as np\n",
    "import matplotlib.pyplot as plt"
   ]
  },
  {
   "cell_type": "code",
   "execution_count": 17,
   "id": "formal-syntax",
   "metadata": {},
   "outputs": [],
   "source": [
    "# parameters\n",
    "alpha_b = 0.03\n",
    "beta_b = 0.5\n",
    "beta_a = 0.5\n",
    "w_a = 0.5\n",
    "mu_f = 0.08\n",
    "sigma_b = 0.3\n",
    "sigma_a = 0.3\n",
    "r_0 = 0.04\n",
    "\n",
    "N_A = np.arange(1,1000)\n",
    "\n",
    "# expected return of hedged portfolio\n",
    "R_h = alpha_b + beta_b * mu_f - w_a*mu_f\n",
    "# idiosyncratic risk of hedged portfolio\n",
    "u_h = sigma_b**2 + (1/4)*(sigma_a/beta_a)**2*N_A\n",
    "# systematic risk of hedged portfolio\n",
    "s_h = beta_b**2 - 1/4\n",
    "# total risk of hedged portfolio\n",
    "t_h = beta_b**2 + sigma_b**2 + 1/4 + (1/4)*(sigma_a/beta_a)**2*N_A\n",
    "# sharpe ratio of hedged portfolio\n",
    "sr_h = (R_h-r_0)/np.sqrt(t_h)"
   ]
  },
  {
   "cell_type": "markdown",
   "id": "ahead-workplace",
   "metadata": {},
   "source": [
    "## Problem 2: Understanding Warren Buffett's Performance"
   ]
  },
  {
   "cell_type": "code",
   "execution_count": 67,
   "id": "remarkable-indian",
   "metadata": {},
   "outputs": [],
   "source": [
    "import wrds\n",
    "import pandas as pd"
   ]
  },
  {
   "cell_type": "code",
   "execution_count": 34,
   "id": "lined-madrid",
   "metadata": {
    "scrolled": true
   },
   "outputs": [
    {
     "name": "stdout",
     "output_type": "stream",
     "text": [
      "Loading library list...\n",
      "Done\n",
      "Enter your WRDS username [jonkq]:jonkq\n",
      "Enter your password:········\n"
     ]
    }
   ],
   "source": [
    "db = wrds.Connection()\n",
    "db.create_pgpass_file()"
   ]
  },
  {
   "cell_type": "code",
   "execution_count": 93,
   "id": "coral-columbia",
   "metadata": {},
   "outputs": [],
   "source": [
    "brk=db.raw_sql(\"select date, ret from crsp.msf where permno in (17778) and date>='1976-01-01' and date<='2019-12-31'\")\n",
    "brk.to_csv('brk.csv')"
   ]
  },
  {
   "cell_type": "code",
   "execution_count": 96,
   "id": "continuous-copper",
   "metadata": {},
   "outputs": [],
   "source": [
    "r0 = db.raw_sql(\"select mcaldt, tmytm from crsp.tfz_mth_rf where kytreasnox=2000001 and mcaldt>='1976-09-01' and mcaldt<='2019-12-31'\")\n",
    "# brk starts at 1971-09 (not 1971-01)"
   ]
  },
  {
   "cell_type": "code",
   "execution_count": 97,
   "id": "indoor-depression",
   "metadata": {
    "scrolled": false
   },
   "outputs": [
    {
     "data": {
      "text/plain": [
       "True"
      ]
     },
     "execution_count": 97,
     "metadata": {},
     "output_type": "execute_result"
    }
   ],
   "source": [
    "# conformity check\n",
    "len(r0) == len(brk)"
   ]
  },
  {
   "cell_type": "code",
   "execution_count": 95,
   "id": "contained-maine",
   "metadata": {},
   "outputs": [],
   "source": [
    "dates = brk.date\n",
    "brk = brk.ret"
   ]
  },
  {
   "cell_type": "code",
   "execution_count": 100,
   "id": "herbal-sitting",
   "metadata": {
    "scrolled": true
   },
   "outputs": [],
   "source": [
    "r0 = r0.tmytm.squeeze()"
   ]
  },
  {
   "cell_type": "code",
   "execution_count": 102,
   "id": "auburn-encyclopedia",
   "metadata": {
    "scrolled": true
   },
   "outputs": [],
   "source": [
    "# simple monthly rates\n",
    "r0 = (np.exp(r0/100)-1)/12"
   ]
  },
  {
   "cell_type": "code",
   "execution_count": 107,
   "id": "faced-arbor",
   "metadata": {},
   "outputs": [],
   "source": [
    "# create data frame\n",
    "rets = pd.DataFrame({'brk':brk, 'r0':r0})\n",
    "rets['date'] = dates\n",
    "rets = rets.set_index('date')"
   ]
  },
  {
   "cell_type": "code",
   "execution_count": 119,
   "id": "fifteen-copying",
   "metadata": {},
   "outputs": [],
   "source": [
    "# remove rows containing NaN\n",
    "nan = rets.brk.isna()\n",
    "nas = [i for i, x in enumerate(nan) if x]\n",
    "nas = dates[nas]\n",
    "rets = rets.drop(nas)"
   ]
  },
  {
   "cell_type": "markdown",
   "id": "educational-capacity",
   "metadata": {},
   "source": [
    "### b)"
   ]
  },
  {
   "cell_type": "code",
   "execution_count": 141,
   "id": "successful-adventure",
   "metadata": {
    "scrolled": true
   },
   "outputs": [
    {
     "name": "stdout",
     "output_type": "stream",
     "text": [
      "Annualized excess returns\n",
      "\n",
      "Mean: 18.2%\n",
      "StDev: 23.2%\n",
      "Sharpe ratio: 0.785\n"
     ]
    }
   ],
   "source": [
    "brk_m = 12*100*((rets.brk-rets.r0).mean())\n",
    "brk_s = 100*np.sqrt(12)*((rets.brk-rets.r0).std())\n",
    "print('Annualized excess returns\\n\\nMean: {:0.3}%\\nStDev: {:0.3}%\\nSharpe ratio: {:0.3}'.format(brk_m, brk_s, brk_m/brk_s))"
   ]
  },
  {
   "cell_type": "code",
   "execution_count": 194,
   "id": "broken-oliver",
   "metadata": {},
   "outputs": [],
   "source": [
    "# fama-french factors\n",
    "fff = pd.read_table('F-F_Research_Data_5_Factors_2x3.CSV', sep=',', index_col=0)\n",
    "fff = fff/100"
   ]
  },
  {
   "cell_type": "code",
   "execution_count": 183,
   "id": "postal-induction",
   "metadata": {},
   "outputs": [],
   "source": [
    "dates2 = list(fff.index)"
   ]
  },
  {
   "cell_type": "code",
   "execution_count": 195,
   "id": "deadly-teacher",
   "metadata": {},
   "outputs": [],
   "source": [
    "x1 = list(range(13*12+4))\n",
    "x2 = list(range(len(fff)-14,len(fff)))\n",
    "x1 = [dates2[i] for i in x1]\n",
    "x2 = [dates2[i] for i in x2]\n",
    "fff = fff.drop(x1)\n",
    "fff = fff.drop(x2)"
   ]
  },
  {
   "cell_type": "code",
   "execution_count": null,
   "id": "bearing-journalist",
   "metadata": {},
   "outputs": [],
   "source": [
    "# there are 3 missing months in rets"
   ]
  },
  {
   "cell_type": "code",
   "execution_count": 196,
   "id": "mental-occasions",
   "metadata": {
    "scrolled": false
   },
   "outputs": [
    {
     "data": {
      "text/html": [
       "<div>\n",
       "<style scoped>\n",
       "    .dataframe tbody tr th:only-of-type {\n",
       "        vertical-align: middle;\n",
       "    }\n",
       "\n",
       "    .dataframe tbody tr th {\n",
       "        vertical-align: top;\n",
       "    }\n",
       "\n",
       "    .dataframe thead th {\n",
       "        text-align: right;\n",
       "    }\n",
       "</style>\n",
       "<table border=\"1\" class=\"dataframe\">\n",
       "  <thead>\n",
       "    <tr style=\"text-align: right;\">\n",
       "      <th></th>\n",
       "      <th>Mkt-RF</th>\n",
       "      <th>SMB</th>\n",
       "      <th>HML</th>\n",
       "      <th>RMW</th>\n",
       "      <th>CMA</th>\n",
       "      <th>RF</th>\n",
       "    </tr>\n",
       "    <tr>\n",
       "      <th>Date</th>\n",
       "      <th></th>\n",
       "      <th></th>\n",
       "      <th></th>\n",
       "      <th></th>\n",
       "      <th></th>\n",
       "      <th></th>\n",
       "    </tr>\n",
       "  </thead>\n",
       "  <tbody>\n",
       "    <tr>\n",
       "      <th>197611</th>\n",
       "      <td>0.0036</td>\n",
       "      <td>0.0266</td>\n",
       "      <td>0.0151</td>\n",
       "      <td>-0.0139</td>\n",
       "      <td>0.0007</td>\n",
       "      <td>0.0040</td>\n",
       "    </tr>\n",
       "    <tr>\n",
       "      <th>197612</th>\n",
       "      <td>0.0565</td>\n",
       "      <td>0.0360</td>\n",
       "      <td>0.0220</td>\n",
       "      <td>-0.0062</td>\n",
       "      <td>0.0223</td>\n",
       "      <td>0.0040</td>\n",
       "    </tr>\n",
       "    <tr>\n",
       "      <th>197701</th>\n",
       "      <td>-0.0405</td>\n",
       "      <td>0.0589</td>\n",
       "      <td>0.0425</td>\n",
       "      <td>-0.0053</td>\n",
       "      <td>0.0193</td>\n",
       "      <td>0.0036</td>\n",
       "    </tr>\n",
       "    <tr>\n",
       "      <th>197702</th>\n",
       "      <td>-0.0194</td>\n",
       "      <td>0.0111</td>\n",
       "      <td>0.0052</td>\n",
       "      <td>-0.0013</td>\n",
       "      <td>-0.0019</td>\n",
       "      <td>0.0035</td>\n",
       "    </tr>\n",
       "    <tr>\n",
       "      <th>197703</th>\n",
       "      <td>-0.0137</td>\n",
       "      <td>0.0129</td>\n",
       "      <td>0.0106</td>\n",
       "      <td>-0.0032</td>\n",
       "      <td>-0.0009</td>\n",
       "      <td>0.0038</td>\n",
       "    </tr>\n",
       "    <tr>\n",
       "      <th>...</th>\n",
       "      <td>...</td>\n",
       "      <td>...</td>\n",
       "      <td>...</td>\n",
       "      <td>...</td>\n",
       "      <td>...</td>\n",
       "      <td>...</td>\n",
       "    </tr>\n",
       "    <tr>\n",
       "      <th>201908</th>\n",
       "      <td>-0.0258</td>\n",
       "      <td>-0.0328</td>\n",
       "      <td>-0.0485</td>\n",
       "      <td>0.0042</td>\n",
       "      <td>-0.0089</td>\n",
       "      <td>0.0016</td>\n",
       "    </tr>\n",
       "    <tr>\n",
       "      <th>201909</th>\n",
       "      <td>0.0143</td>\n",
       "      <td>0.0024</td>\n",
       "      <td>0.0677</td>\n",
       "      <td>0.0199</td>\n",
       "      <td>0.0350</td>\n",
       "      <td>0.0018</td>\n",
       "    </tr>\n",
       "    <tr>\n",
       "      <th>201910</th>\n",
       "      <td>0.0206</td>\n",
       "      <td>0.0020</td>\n",
       "      <td>-0.0188</td>\n",
       "      <td>0.0025</td>\n",
       "      <td>-0.0099</td>\n",
       "      <td>0.0015</td>\n",
       "    </tr>\n",
       "    <tr>\n",
       "      <th>201911</th>\n",
       "      <td>0.0387</td>\n",
       "      <td>0.0052</td>\n",
       "      <td>-0.0205</td>\n",
       "      <td>-0.0158</td>\n",
       "      <td>-0.0124</td>\n",
       "      <td>0.0012</td>\n",
       "    </tr>\n",
       "    <tr>\n",
       "      <th>201912</th>\n",
       "      <td>0.0277</td>\n",
       "      <td>0.0094</td>\n",
       "      <td>0.0191</td>\n",
       "      <td>0.0009</td>\n",
       "      <td>0.0129</td>\n",
       "      <td>0.0014</td>\n",
       "    </tr>\n",
       "  </tbody>\n",
       "</table>\n",
       "<p>518 rows × 6 columns</p>\n",
       "</div>"
      ],
      "text/plain": [
       "        Mkt-RF     SMB     HML     RMW     CMA      RF\n",
       "Date                                                  \n",
       "197611  0.0036  0.0266  0.0151 -0.0139  0.0007  0.0040\n",
       "197612  0.0565  0.0360  0.0220 -0.0062  0.0223  0.0040\n",
       "197701 -0.0405  0.0589  0.0425 -0.0053  0.0193  0.0036\n",
       "197702 -0.0194  0.0111  0.0052 -0.0013 -0.0019  0.0035\n",
       "197703 -0.0137  0.0129  0.0106 -0.0032 -0.0009  0.0038\n",
       "...        ...     ...     ...     ...     ...     ...\n",
       "201908 -0.0258 -0.0328 -0.0485  0.0042 -0.0089  0.0016\n",
       "201909  0.0143  0.0024  0.0677  0.0199  0.0350  0.0018\n",
       "201910  0.0206  0.0020 -0.0188  0.0025 -0.0099  0.0015\n",
       "201911  0.0387  0.0052 -0.0205 -0.0158 -0.0124  0.0012\n",
       "201912  0.0277  0.0094  0.0191  0.0009  0.0129  0.0014\n",
       "\n",
       "[518 rows x 6 columns]"
      ]
     },
     "execution_count": 196,
     "metadata": {},
     "output_type": "execute_result"
    }
   ],
   "source": [
    "fff"
   ]
  },
  {
   "cell_type": "code",
   "execution_count": 214,
   "id": "centered-knife",
   "metadata": {},
   "outputs": [
    {
     "data": {
      "text/html": [
       "<div>\n",
       "<style scoped>\n",
       "    .dataframe tbody tr th:only-of-type {\n",
       "        vertical-align: middle;\n",
       "    }\n",
       "\n",
       "    .dataframe tbody tr th {\n",
       "        vertical-align: top;\n",
       "    }\n",
       "\n",
       "    .dataframe thead th {\n",
       "        text-align: right;\n",
       "    }\n",
       "</style>\n",
       "<table border=\"1\" class=\"dataframe\">\n",
       "  <thead>\n",
       "    <tr style=\"text-align: right;\">\n",
       "      <th></th>\n",
       "      <th>brk</th>\n",
       "      <th>r0</th>\n",
       "    </tr>\n",
       "    <tr>\n",
       "      <th>date</th>\n",
       "      <th></th>\n",
       "      <th></th>\n",
       "    </tr>\n",
       "  </thead>\n",
       "  <tbody>\n",
       "    <tr>\n",
       "      <th>1976-11-30</th>\n",
       "      <td>0.154412</td>\n",
       "      <td>0.003703</td>\n",
       "    </tr>\n",
       "    <tr>\n",
       "      <th>1976-12-31</th>\n",
       "      <td>0.146497</td>\n",
       "      <td>0.003624</td>\n",
       "    </tr>\n",
       "    <tr>\n",
       "      <th>1977-02-28</th>\n",
       "      <td>0.000000</td>\n",
       "      <td>0.003774</td>\n",
       "    </tr>\n",
       "    <tr>\n",
       "      <th>1977-03-31</th>\n",
       "      <td>0.077778</td>\n",
       "      <td>0.003872</td>\n",
       "    </tr>\n",
       "    <tr>\n",
       "      <th>1977-04-29</th>\n",
       "      <td>-0.010309</td>\n",
       "      <td>0.003738</td>\n",
       "    </tr>\n",
       "    <tr>\n",
       "      <th>...</th>\n",
       "      <td>...</td>\n",
       "      <td>...</td>\n",
       "    </tr>\n",
       "    <tr>\n",
       "      <th>2019-08-30</th>\n",
       "      <td>-0.018104</td>\n",
       "      <td>0.001756</td>\n",
       "    </tr>\n",
       "    <tr>\n",
       "      <th>2019-09-30</th>\n",
       "      <td>0.028884</td>\n",
       "      <td>0.001514</td>\n",
       "    </tr>\n",
       "    <tr>\n",
       "      <th>2019-10-31</th>\n",
       "      <td>0.022791</td>\n",
       "      <td>0.001274</td>\n",
       "    </tr>\n",
       "    <tr>\n",
       "      <th>2019-11-29</th>\n",
       "      <td>0.036233</td>\n",
       "      <td>0.001370</td>\n",
       "    </tr>\n",
       "    <tr>\n",
       "      <th>2019-12-31</th>\n",
       "      <td>0.027519</td>\n",
       "      <td>0.001188</td>\n",
       "    </tr>\n",
       "  </tbody>\n",
       "</table>\n",
       "<p>515 rows × 2 columns</p>\n",
       "</div>"
      ],
      "text/plain": [
       "                 brk        r0\n",
       "date                          \n",
       "1976-11-30  0.154412  0.003703\n",
       "1976-12-31  0.146497  0.003624\n",
       "1977-02-28  0.000000  0.003774\n",
       "1977-03-31  0.077778  0.003872\n",
       "1977-04-29 -0.010309  0.003738\n",
       "...              ...       ...\n",
       "2019-08-30 -0.018104  0.001756\n",
       "2019-09-30  0.028884  0.001514\n",
       "2019-10-31  0.022791  0.001274\n",
       "2019-11-29  0.036233  0.001370\n",
       "2019-12-31  0.027519  0.001188\n",
       "\n",
       "[515 rows x 2 columns]"
      ]
     },
     "execution_count": 214,
     "metadata": {},
     "output_type": "execute_result"
    }
   ],
   "source": [
    "rets"
   ]
  },
  {
   "cell_type": "code",
   "execution_count": 218,
   "id": "unique-basement",
   "metadata": {
    "scrolled": true
   },
   "outputs": [],
   "source": [
    "dates = list(rets.index)\n",
    "dates = [dates[i].strftime('%Y-%m-%d') for i in  range(len(dates))]\n",
    "dates3 = [dates[i].split('-')[0] + dates[i].split('-')[1] for i in range(len(dates))]"
   ]
  },
  {
   "cell_type": "code",
   "execution_count": 206,
   "id": "offshore-comment",
   "metadata": {},
   "outputs": [],
   "source": [
    "dates2 = list(fff.index)"
   ]
  },
  {
   "cell_type": "code",
   "execution_count": 221,
   "id": "sitting-leisure",
   "metadata": {},
   "outputs": [
    {
     "data": {
      "text/plain": [
       "515"
      ]
     },
     "execution_count": 221,
     "metadata": {},
     "output_type": "execute_result"
    }
   ],
   "source": [
    "len(dates3)"
   ]
  }
 ],
 "metadata": {
  "kernelspec": {
   "display_name": "Python 3",
   "language": "python",
   "name": "python3"
  },
  "language_info": {
   "codemirror_mode": {
    "name": "ipython",
    "version": 3
   },
   "file_extension": ".py",
   "mimetype": "text/x-python",
   "name": "python",
   "nbconvert_exporter": "python",
   "pygments_lexer": "ipython3",
   "version": "3.8.8"
  }
 },
 "nbformat": 4,
 "nbformat_minor": 5
}
