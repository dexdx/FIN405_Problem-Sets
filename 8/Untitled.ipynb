{
 "cells": [
  {
   "cell_type": "code",
   "execution_count": 1,
   "id": "superb-delay",
   "metadata": {},
   "outputs": [],
   "source": [
    "import wrds\n",
    "import pandas as pd\n",
    "import matplotlib.pyplot as plt\n",
    "import numpy as np\n",
    "from sklearn.linear_model import LinearRegression"
   ]
  },
  {
   "cell_type": "code",
   "execution_count": 2,
   "id": "hearing-armor",
   "metadata": {
    "scrolled": true
   },
   "outputs": [
    {
     "name": "stdout",
     "output_type": "stream",
     "text": [
      "Loading library list...\n",
      "Done\n",
      "Enter your WRDS username [jonkq]:jonkq\n",
      "Enter your password:········\n"
     ]
    }
   ],
   "source": [
    "db = wrds.Connection()\n",
    "db.create_pgpass_file()"
   ]
  },
  {
   "cell_type": "code",
   "execution_count": 3,
   "id": "textile-chuck",
   "metadata": {},
   "outputs": [],
   "source": [
    "stocks = db.raw_sql(\"\"\"\n",
    "                select a.permno, a.date, a.ret, b.exchcd, b.shrcd, a.shrout, a.prc \n",
    "\n",
    "                from crsp.msf as a left join crsp.msenames as b \n",
    "                \n",
    "                on a.permno = b.permno and b.namedt <= a.date and a.date<=b.nameendt\n",
    "                \n",
    "                where a.date between '1980-01-01' and '2019-12-31'\n",
    "                and b.exchcd between 1 and 2\n",
    "                and b.shrcd between 10 and 11\"\"\",date_cols=['date'])\n",
    "\n",
    "stocks.to_csv('stocks.csv')"
   ]
  },
  {
   "cell_type": "code",
   "execution_count": 75,
   "id": "tough-substitute",
   "metadata": {},
   "outputs": [],
   "source": [
    "# change table format from long to wide\n",
    "stocks_ret = pd.pivot_table(data=stocks, values='ret', index='date', columns='permno')\n",
    "stocks_shrout = pd.pivot_table(data=stocks, values='shrout', index='date', columns='permno')\n",
    "stocks_prc = pd.pivot_table(data=stocks, values='prc', index='date', columns='permno')"
   ]
  },
  {
   "cell_type": "code",
   "execution_count": 76,
   "id": "complex-weekend",
   "metadata": {},
   "outputs": [],
   "source": [
    "s = stocks_ret.apply(sum)\n",
    "s = list(s.isna())\n",
    "s_i = []\n",
    "for i in range(len(s)):\n",
    "    if not s[i]:\n",
    "        s_i.append(i)"
   ]
  },
  {
   "cell_type": "code",
   "execution_count": 77,
   "id": "alike-optics",
   "metadata": {},
   "outputs": [],
   "source": [
    "# removing stocks containing NaN values\n",
    "stocks_ret = stocks_ret.iloc[:,s_i]\n",
    "stocks_shrout = stocks_shrout.iloc[:,s_i]\n",
    "stocks_prc = stocks_prc.iloc[:,s_i]"
   ]
  },
  {
   "cell_type": "code",
   "execution_count": 78,
   "id": "criminal-sheet",
   "metadata": {},
   "outputs": [],
   "source": [
    "stocks_prc = stocks_prc.abs()"
   ]
  },
  {
   "cell_type": "code",
   "execution_count": 88,
   "id": "enormous-valuable",
   "metadata": {},
   "outputs": [],
   "source": [
    "for j in range(stocks_shrout.shape[1]):\n",
    "    for i in range(stocks_shrout.shape[0]):\n",
    "        if pd.isna(stocks_shrout.iloc[i,j]) or pd.isnull(stocks_shrout.iloc[i,j]):\n",
    "            if i == 0:\n",
    "                s = 1\n",
    "                while pd.isna(stocks_shrout.iloc[i+s,j]) or pd.isnull(stocks_shrout.iloc[i+s,j]):\n",
    "                    s += 1\n",
    "                stocks_shrout.iloc[i:(i+s+1),j] = stocks_shrout.iloc[i+s,j]\n",
    "            else:\n",
    "                stocks_shrout.iloc[i,j] = stocks_shrout.iloc[i-1,j]"
   ]
  },
  {
   "cell_type": "code",
   "execution_count": 90,
   "id": "royal-factor",
   "metadata": {},
   "outputs": [],
   "source": [
    "for j in range(stocks_prc.shape[1]):\n",
    "    for i in range(stocks_prc.shape[0]):\n",
    "        if pd.isna(stocks_prc.iloc[i,j]) or pd.isnull(stocks_prc.iloc[i,j]):\n",
    "            if i == 0:\n",
    "                s = 1\n",
    "                while pd.isna(stocks_prc.iloc[i+s,j]) or pd.isnull(stocks_prc.iloc[i+s,j]):\n",
    "                    s += 1\n",
    "                stocks_prc.iloc[i:(i+s+1),j] = stocks_prc.iloc[i+s,j]\n",
    "            else:\n",
    "                stocks_prc.iloc[i,j] = stocks_prc.iloc[i-1,j]"
   ]
  },
  {
   "cell_type": "code",
   "execution_count": 92,
   "id": "conditional-survivor",
   "metadata": {},
   "outputs": [],
   "source": [
    "stocks_mcap = pd.DataFrame(stocks_shrout.values*stocks_prc.values, columns=stocks_shrout.columns, index=stocks_shrout.index)"
   ]
  },
  {
   "cell_type": "code",
   "execution_count": 102,
   "id": "offensive-announcement",
   "metadata": {},
   "outputs": [],
   "source": [
    "last_mcap = stocks_mcap.iloc[len(stocks_mcap)-1,:]\n",
    "permnos = np.array(last_mcap.index)\n",
    "mcap_ord = np.array(np.argsort(last_mcap))\n",
    "mcap_sort = np.sort(last_mcap)"
   ]
  },
  {
   "cell_type": "code",
   "execution_count": 105,
   "id": "metallic-disney",
   "metadata": {},
   "outputs": [
    {
     "data": {
      "text/plain": [
       "271"
      ]
     },
     "execution_count": 105,
     "metadata": {},
     "output_type": "execute_result"
    }
   ],
   "source": [
    "len(mcap_ord)"
   ]
  },
  {
   "cell_type": "code",
   "execution_count": 103,
   "id": "instructional-emission",
   "metadata": {
    "scrolled": true
   },
   "outputs": [
    {
     "data": {
      "text/plain": [
       "array([9.60750000e+02, 1.04400000e+03, 2.23062500e+03, 2.46684375e+03,\n",
       "       2.63789011e+03, 3.09956250e+03, 3.21637500e+03, 4.31775000e+03,\n",
       "       4.38200000e+03, 5.31562500e+03, 5.91250000e+03, 5.99137500e+03,\n",
       "       6.24510011e+03, 6.77250000e+03, 7.06400000e+03, 7.49375000e+03,\n",
       "       8.30250000e+03, 9.78600000e+03, 9.92816981e+03, 1.13557500e+04,\n",
       "       1.17633750e+04, 1.26652812e+04, 1.37523750e+04, 1.51510399e+04,\n",
       "       1.52638750e+04, 1.69830000e+04, 1.70002592e+04, 1.73755000e+04,\n",
       "       1.74287500e+04, 1.75964744e+04, 1.78733750e+04, 1.88515196e+04,\n",
       "       2.04802500e+04, 2.12467500e+04, 2.19676250e+04, 2.21556606e+04,\n",
       "       2.22430000e+04, 2.24191084e+04, 2.60730215e+04, 2.69550000e+04,\n",
       "       2.83353750e+04, 2.90257500e+04, 2.97620312e+04, 3.14243999e+04,\n",
       "       3.19435804e+04, 3.26340000e+04, 3.52217986e+04, 3.59707500e+04,\n",
       "       3.61568750e+04, 3.62256250e+04, 3.92740000e+04, 4.00365000e+04,\n",
       "       4.05899375e+04, 4.09850000e+04, 4.14686780e+04, 4.18470000e+04,\n",
       "       4.25430000e+04, 4.37512500e+04, 4.39231001e+04, 4.47825000e+04,\n",
       "       4.58482500e+04, 4.74704298e+04, 5.16986250e+04, 5.24190993e+04,\n",
       "       5.51722500e+04, 5.55549987e+04, 6.34908750e+04, 6.39862500e+04,\n",
       "       6.55137500e+04, 7.26322500e+04, 7.42770000e+04, 7.49308750e+04,\n",
       "       7.84575000e+04, 7.99076250e+04, 8.37348750e+04, 8.42945000e+04,\n",
       "       8.57475000e+04, 8.83966250e+04, 8.91111014e+04, 8.94980000e+04,\n",
       "       9.29060000e+04, 9.37722485e+04, 9.71120000e+04, 9.74286016e+04,\n",
       "       9.82550000e+04, 1.09477500e+05, 1.17512472e+05, 1.20171375e+05,\n",
       "       1.20538500e+05, 1.21512600e+05, 1.30135500e+05, 1.31225250e+05,\n",
       "       1.31738440e+05, 1.33804125e+05, 1.36870946e+05, 1.39144500e+05,\n",
       "       1.48104003e+05, 1.54922000e+05, 1.56910500e+05, 1.58912625e+05,\n",
       "       1.59550125e+05, 1.61112000e+05, 1.61903250e+05, 1.65100000e+05,\n",
       "       1.66103438e+05, 1.75310750e+05, 1.77045000e+05, 1.81346250e+05,\n",
       "       1.96076684e+05, 2.02223875e+05, 2.03778750e+05, 2.09361812e+05,\n",
       "       2.12440670e+05, 2.13333000e+05, 2.13549750e+05, 2.15257000e+05,\n",
       "       2.18400000e+05, 2.32427484e+05, 2.32959375e+05, 2.57006750e+05,\n",
       "       2.58492000e+05, 2.61659375e+05, 2.71365000e+05, 2.76450000e+05,\n",
       "       2.81700375e+05, 2.87969062e+05, 2.88187000e+05, 2.89765000e+05,\n",
       "       2.96209041e+05, 3.10499477e+05, 3.13264125e+05, 3.31140818e+05,\n",
       "       3.46923797e+05, 3.47189000e+05, 3.47863154e+05, 3.50945000e+05,\n",
       "       3.51500625e+05, 3.58395522e+05, 3.63996000e+05, 3.91228250e+05,\n",
       "       4.00314000e+05, 4.07355485e+05, 4.18138546e+05, 4.33263597e+05,\n",
       "       4.46188500e+05, 4.56571500e+05, 4.72742500e+05, 4.78408875e+05,\n",
       "       4.81963500e+05, 5.73355312e+05, 5.88830000e+05, 6.43188266e+05,\n",
       "       6.52423723e+05, 6.58378000e+05, 7.04423973e+05, 7.25489750e+05,\n",
       "       7.40004679e+05, 7.45729183e+05, 7.48577161e+05, 7.84996250e+05,\n",
       "       7.97216937e+05, 7.98246766e+05, 8.08147750e+05, 8.15635875e+05,\n",
       "       8.39698836e+05, 8.46975750e+05, 8.81120625e+05, 9.12300000e+05,\n",
       "       9.16826000e+05, 9.22082000e+05, 9.56255500e+05, 9.62706250e+05,\n",
       "       9.90960000e+05, 1.00856700e+06, 1.03264671e+06, 1.05120458e+06,\n",
       "       1.06973925e+06, 1.07692500e+06, 1.08143750e+06, 1.09774238e+06,\n",
       "       1.15790400e+06, 1.16531250e+06, 1.28378800e+06, 1.35882883e+06,\n",
       "       1.36702269e+06, 1.40089950e+06, 1.50759750e+06, 1.55077500e+06,\n",
       "       1.58049797e+06, 1.62649050e+06, 1.72282084e+06, 1.75499409e+06,\n",
       "       1.82048792e+06, 1.82801925e+06, 1.97191315e+06, 2.35483529e+06,\n",
       "       2.35980386e+06, 2.44024000e+06, 2.84637717e+06, 2.90428344e+06,\n",
       "       2.90803495e+06, 3.32801585e+06, 3.35702925e+06, 3.45849245e+06,\n",
       "       3.49941375e+06, 3.64456281e+06, 3.65647383e+06, 3.66808675e+06,\n",
       "       4.05585950e+06, 4.09911053e+06, 4.15944350e+06, 4.16849750e+06,\n",
       "       4.24149454e+06, 4.43002000e+06, 4.49263494e+06, 4.51783875e+06,\n",
       "       4.84573300e+06, 4.89280848e+06, 4.92001000e+06, 4.94780494e+06,\n",
       "       4.99770871e+06, 5.22790475e+06, 5.27711154e+06, 5.40544431e+06,\n",
       "       5.56743950e+06, 5.59686600e+06, 5.71034375e+06, 5.75013962e+06,\n",
       "       6.11760562e+06, 6.27342922e+06, 6.38016475e+06, 6.76488755e+06,\n",
       "       6.81433565e+06, 7.32013220e+06, 7.68755500e+06, 7.80344569e+06,\n",
       "       8.68829850e+06, 9.17195811e+06, 9.67388700e+06, 1.19681976e+07,\n",
       "       1.26919422e+07, 1.53949284e+07, 1.65135319e+07, 1.73373544e+07,\n",
       "       2.38524202e+07, 2.49486754e+07, 2.58023953e+07, 2.65279373e+07,\n",
       "       2.69230748e+07, 2.98631199e+07, 3.00749425e+07, 3.62146192e+07,\n",
       "       4.05820757e+07, 4.26926941e+07, 4.59170582e+07, 4.66834046e+07,\n",
       "       5.10191149e+07, 5.61060606e+07, 5.65658918e+07, 5.99314988e+07,\n",
       "       6.68371368e+07, 7.13554017e+07, 8.15426111e+07, 9.74664055e+07,\n",
       "       1.08115431e+08, 1.18710778e+08, 1.26472341e+08, 1.83334802e+08,\n",
       "       2.37146570e+08, 2.95246572e+08, 3.10276177e+08])"
      ]
     },
     "execution_count": 103,
     "metadata": {},
     "output_type": "execute_result"
    }
   ],
   "source": [
    "mcap_groups = "
   ]
  }
 ],
 "metadata": {
  "kernelspec": {
   "display_name": "Python 3",
   "language": "python",
   "name": "python3"
  },
  "language_info": {
   "codemirror_mode": {
    "name": "ipython",
    "version": 3
   },
   "file_extension": ".py",
   "mimetype": "text/x-python",
   "name": "python",
   "nbconvert_exporter": "python",
   "pygments_lexer": "ipython3",
   "version": "3.8.8"
  }
 },
 "nbformat": 4,
 "nbformat_minor": 5
}
