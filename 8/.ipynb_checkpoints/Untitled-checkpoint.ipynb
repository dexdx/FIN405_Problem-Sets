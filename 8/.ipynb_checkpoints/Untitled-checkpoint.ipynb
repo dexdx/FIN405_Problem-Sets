{
 "cells": [
  {
   "cell_type": "markdown",
   "metadata": {},
   "source": [
    "# Assignment 8"
   ]
  },
  {
   "cell_type": "markdown",
   "metadata": {},
   "source": [
    "## 2. Market capitalization and expected returns"
   ]
  },
  {
   "cell_type": "code",
   "execution_count": 1,
   "metadata": {},
   "outputs": [],
   "source": [
    "import wrds\n",
    "import pandas as pd\n",
    "import matplotlib.pyplot as plt\n",
    "import numpy as np\n",
    "from sklearn.linear_model import LinearRegression"
   ]
  },
  {
   "cell_type": "code",
   "execution_count": 2,
   "metadata": {
    "scrolled": true
   },
   "outputs": [
    {
     "name": "stdout",
     "output_type": "stream",
     "text": [
      "Enter your WRDS username [felicity]:alina925\n",
      "Enter your password:········\n",
      "WRDS recommends setting up a .pgpass file.\n",
      "You can find more info here:\n",
      "https://www.postgresql.org/docs/9.5/static/libpq-pgpass.html.\n",
      "Loading library list...\n",
      "Done\n"
     ]
    }
   ],
   "source": [
    "db = wrds.Connection()\n",
    "db.create_pgpass_file()"
   ]
  },
  {
   "cell_type": "code",
   "execution_count": 3,
   "metadata": {},
   "outputs": [],
   "source": [
    "# get rf\n",
    "rf=db.raw_sql(\"select mcaldt, tmytm from crsp.tfz_mth_rf where kytreasnox = 2000001 and mcaldt>='1980-01-01' and mcaldt<='2019-12-31'\")\n",
    "rf.to_csv('rf.csv')\n",
    "# get value-weighted CRSP market return\n",
    "vwret = db.raw_sql(\"select date, vwretd from crsp.msi where date>='1980-01-01' and date<='2019-12-31'\")\n",
    "vwret.to_csv('vwret.csv')"
   ]
  },
  {
   "cell_type": "code",
   "execution_count": 4,
   "metadata": {},
   "outputs": [],
   "source": [
    "rf = pd.read_csv('rf.csv', usecols=['tmytm']).squeeze()\n",
    "#Compute the monthly simple rate\n",
    "rf_m = np.exp(rf/12/100)-1\n",
    "\n",
    "vwret = pd.read_csv('vwret.csv', usecols=['vwretd']).squeeze()"
   ]
  },
  {
   "cell_type": "code",
   "execution_count": 5,
   "metadata": {},
   "outputs": [],
   "source": [
    "stocks = db.raw_sql(\"\"\"\n",
    "                select a.permno, a.date, a.ret, b.exchcd, b.shrcd, a.shrout, a.prc \n",
    "\n",
    "                from crsp.msf as a left join crsp.msenames as b \n",
    "                \n",
    "                on a.permno = b.permno and b.namedt <= a.date and a.date<=b.nameendt\n",
    "                \n",
    "                where a.date between '1980-01-01' and '2019-12-31'\n",
    "                and b.exchcd between 1 and 2\n",
    "                and b.shrcd between 10 and 11\"\"\",date_cols=['date'])\n",
    "\n",
    "stocks.to_csv('stocks.csv')"
   ]
  },
  {
   "cell_type": "code",
   "execution_count": 6,
   "metadata": {},
   "outputs": [],
   "source": [
    "# change table format from long to wide\n",
    "stocks_ret = pd.pivot_table(data=stocks, values='ret', index='date', columns='permno')\n",
    "stocks_shrout = pd.pivot_table(data=stocks, values='shrout', index='date', columns='permno')\n",
    "stocks_prc = pd.pivot_table(data=stocks, values='prc', index='date', columns='permno')"
   ]
  },
  {
   "cell_type": "code",
   "execution_count": 7,
   "metadata": {},
   "outputs": [],
   "source": [
    "s = stocks_ret.apply(sum)\n",
    "s = list(s.isna())\n",
    "s_i = []\n",
    "for i in range(len(s)):\n",
    "    if not s[i]:\n",
    "        s_i.append(i)"
   ]
  },
  {
   "cell_type": "code",
   "execution_count": 8,
   "metadata": {},
   "outputs": [],
   "source": [
    "# removing stocks containing NaN values\n",
    "stocks_ret = stocks_ret.iloc[:,s_i]\n",
    "stocks_shrout = stocks_shrout.iloc[:,s_i]\n",
    "stocks_prc = stocks_prc.iloc[:,s_i]"
   ]
  },
  {
   "cell_type": "markdown",
   "metadata": {},
   "source": [
    "### b)"
   ]
  },
  {
   "cell_type": "code",
   "execution_count": 9,
   "metadata": {},
   "outputs": [],
   "source": [
    "stocks_prc = stocks_prc.abs()"
   ]
  },
  {
   "cell_type": "code",
   "execution_count": 10,
   "metadata": {},
   "outputs": [],
   "source": [
    "for j in range(stocks_shrout.shape[1]):\n",
    "    for i in range(stocks_shrout.shape[0]):\n",
    "        if pd.isna(stocks_shrout.iloc[i,j]) or pd.isnull(stocks_shrout.iloc[i,j]):\n",
    "            if i == 0:\n",
    "                s = 1\n",
    "                while pd.isna(stocks_shrout.iloc[i+s,j]) or pd.isnull(stocks_shrout.iloc[i+s,j]):\n",
    "                    s += 1\n",
    "                stocks_shrout.iloc[i:(i+s+1),j] = stocks_shrout.iloc[i+s,j]\n",
    "            else:\n",
    "                stocks_shrout.iloc[i,j] = stocks_shrout.iloc[i-1,j]"
   ]
  },
  {
   "cell_type": "code",
   "execution_count": 11,
   "metadata": {},
   "outputs": [],
   "source": [
    "for j in range(stocks_prc.shape[1]):\n",
    "    for i in range(stocks_prc.shape[0]):\n",
    "        if pd.isna(stocks_prc.iloc[i,j]) or pd.isnull(stocks_prc.iloc[i,j]):\n",
    "            if i == 0:\n",
    "                s = 1\n",
    "                while pd.isna(stocks_prc.iloc[i+s,j]) or pd.isnull(stocks_prc.iloc[i+s,j]):\n",
    "                    s += 1\n",
    "                stocks_prc.iloc[i:(i+s+1),j] = stocks_prc.iloc[i+s,j]\n",
    "            else:\n",
    "                stocks_prc.iloc[i,j] = stocks_prc.iloc[i-1,j]"
   ]
  },
  {
   "cell_type": "code",
   "execution_count": 12,
   "metadata": {},
   "outputs": [],
   "source": [
    "stocks_mcap = pd.DataFrame(stocks_shrout.values*stocks_prc.values, columns=stocks_shrout.columns, index=stocks_shrout.index)"
   ]
  },
  {
   "cell_type": "code",
   "execution_count": 13,
   "metadata": {},
   "outputs": [],
   "source": [
    "last_mcap = stocks_mcap.iloc[len(stocks_mcap)-1,:]\n",
    "permnos = np.array(last_mcap.index)\n",
    "mcap_ord = np.array(np.argsort(last_mcap))\n",
    "mcap_sort = np.sort(last_mcap)"
   ]
  },
  {
   "cell_type": "code",
   "execution_count": 16,
   "metadata": {},
   "outputs": [
    {
     "data": {
      "text/plain": [
       "271"
      ]
     },
     "execution_count": 16,
     "metadata": {},
     "output_type": "execute_result"
    }
   ],
   "source": [
    "len(mcap_ord)"
   ]
  },
  {
   "cell_type": "code",
   "execution_count": null,
   "metadata": {},
   "outputs": [],
   "source": []
  },
  {
   "cell_type": "code",
   "execution_count": null,
   "metadata": {},
   "outputs": [],
   "source": []
  },
  {
   "cell_type": "code",
   "execution_count": 29,
   "metadata": {
    "scrolled": true
   },
   "outputs": [],
   "source": [
    "#take the last one out, and put in the last group\n",
    "last = mcap_sort[-1]\n",
    "ord_last = mcap_ord[-1]\n",
    "mcap_groups = np.reshape(mcap_sort[:-1],(10,27))\n",
    "ord_groups = np.reshape(mcap_ord[:-1],(10,27))"
   ]
  },
  {
   "cell_type": "code",
   "execution_count": null,
   "metadata": {},
   "outputs": [],
   "source": []
  },
  {
   "cell_type": "code",
   "execution_count": 60,
   "metadata": {},
   "outputs": [],
   "source": [
    "vwret_e = vwret - rf_m\n",
    "stocks_e = stocks_ret - rf_m\n",
    "rf_m.index = stocks_ret.index\n",
    "stocks_e = stocks_ret.subtract(rf_m, axis = 0)"
   ]
  },
  {
   "cell_type": "code",
   "execution_count": 90,
   "metadata": {},
   "outputs": [],
   "source": [
    "#Equally weighted portfolio\n",
    "\n",
    "alphas = []\n",
    "betas = []\n",
    "x = np.array(vwret_e).reshape((-1,1))\n",
    "\n",
    "#mean excess return\n",
    "avg_e = np.zeros(10)\n",
    "\n",
    "for i in range(9):\n",
    "    #equally weighted monthly return\n",
    "    eq_ret = stocks_ret.iloc[:,ord_groups[i]].mean(axis=1)\n",
    "    \n",
    "    #equally weighted excess return\n",
    "    eq_ret_e = eq_ret.subtract(rf_m, axis = 0)\n",
    "    avg_e[i] = eq_ret_e.mean()\n",
    "    \n",
    "    #regression\n",
    "    y = np.array(eq_ret_e).reshape((-1,1))\n",
    "    lm = LinearRegression().fit(x,y)\n",
    "    betas.append(lm.coef_.item())\n",
    "    alphas.append(lm.intercept_.item()) \n",
    "         \n",
    "    \n",
    "group10 = np.append(ord_groups[9],ord_last)\n",
    "eq_ret10 = stocks_ret.iloc[:,group10].mean(axis=1)    \n",
    "eq_ret_e10 = eq_ret10.subtract(rf_m, axis = 0)\n",
    "avg_e[9] = eq_ret_e10.mean()\n",
    "y = np.array(eq_ret_e10).reshape((-1,1))\n",
    "lm = LinearRegression().fit(x,y)\n",
    "betas.append(lm.coef_.item())\n",
    "alphas.append(lm.intercept_.item())\n",
    "\n"
   ]
  },
  {
   "cell_type": "code",
   "execution_count": 200,
   "metadata": {},
   "outputs": [],
   "source": [
    "#Value weighted \n",
    "\n",
    "al = []\n",
    "be = []\n",
    "x = np.array(vwret_e).reshape((-1,1))\n",
    "w = np.zeros((stocks_mcap.shape[0],27))\n",
    "\n",
    "#mean excess return\n",
    "avg_vw_e = np.zeros(10)\n",
    "\n",
    "for i in range(9):\n",
    "    #value weighted monthly return\n",
    "    stocks_mcap.iloc[:,ord_groups[i]]\n",
    "    for j in range(stocks_mcap.shape[0]):\n",
    "        ww = stocks_mcap.iloc[j,ord_groups[i]]\n",
    "        w[j,:] =np.reshape(np.array(ww)/ww.sum(),(1,27))\n",
    "    \n",
    "    vw_r = stocks_ret.iloc[:,ord_groups[i]] * w\n",
    "    vw_ret = vw_r.sum(axis = 1)\n",
    "    \n",
    "    #value weighted excess return\n",
    "    vw_ret_e = vw_ret.subtract(rf_m, axis = 0)\n",
    "    avg_vw_e[i] = vw_ret_e.mean()\n",
    "    \n",
    "    #regression\n",
    "    y = np.array(vw_ret_e).reshape((-1,1))\n",
    "    lm = LinearRegression().fit(x,y)\n",
    "    be.append(lm.coef_.item())\n",
    "    al.append(lm.intercept_.item()) \n",
    "         \n",
    "    \n",
    "gr10 = np.append(ord_groups[9],ord_last)\n",
    "for k in range(stocks_mcap.shape[0]):\n",
    "        ww = stocks_mcap.iloc[j,ord_groups[9]]\n",
    "        w[k,:] =np.reshape(np.array(ww)/ww.sum(),(1,27))\n",
    "vw_r10 = stocks_ret.iloc[:,ord_groups[9]] * w\n",
    "vw_ret10 = vw_r10.sum(axis = 1)\n",
    "vw_ret_e10 = vw_ret10 - rf_m\n",
    "avg_vw_e[9] = vw_ret_e10.mean()\n",
    "y = np.array(vw_ret_e10).reshape((-1,1))\n",
    "lm = LinearRegression().fit(x,y)\n",
    "be.append(lm.coef_.item())\n",
    "al.append(lm.intercept_.item())\n",
    "\n",
    "\n"
   ]
  },
  {
   "cell_type": "code",
   "execution_count": null,
   "metadata": {},
   "outputs": [],
   "source": []
  },
  {
   "cell_type": "code",
   "execution_count": null,
   "metadata": {},
   "outputs": [],
   "source": []
  },
  {
   "cell_type": "code",
   "execution_count": 203,
   "metadata": {},
   "outputs": [
    {
     "data": {
      "text/plain": [
       "Text(0.5, 0, 'Decile portfolio')"
      ]
     },
     "execution_count": 203,
     "metadata": {},
     "output_type": "execute_result"
    },
    {
     "data": {
      "image/png": "[encoded data removed]",
      "text/plain": [
       "<Figure size 432x288 with 1 Axes>"
      ]
     },
     "metadata": {
      "needs_background": "light"
     },
     "output_type": "display_data"
    },
    {
     "data": {
      "image/png": "[encoded data removed]",
      "text/plain": [
       "<Figure size 432x288 with 1 Axes>"
      ]
     },
     "metadata": {
      "needs_background": "light"
     },
     "output_type": "display_data"
    }
   ],
   "source": [
    "plt.figure()\n",
    "plt.plot(alphas, label='equally weighted')\n",
    "plt.plot(al, label='value weighted')\n",
    "plt.legend()\n",
    "plt.title('Alphas')\n",
    "plt.xlabel('Decile portfolio')\n",
    "\n",
    "\n",
    "plt.figure()\n",
    "plt.plot(betas, label='equally weighted')\n",
    "plt.plot(be, label='value weighted')\n",
    "plt.legend()\n",
    "plt.title('Betas')\n",
    "plt.xlabel('Decile portfolio')"
   ]
  },
  {
   "cell_type": "code",
   "execution_count": null,
   "metadata": {},
   "outputs": [],
   "source": []
  },
  {
   "cell_type": "code",
   "execution_count": null,
   "metadata": {},
   "outputs": [],
   "source": []
  },
  {
   "cell_type": "code",
   "execution_count": null,
   "metadata": {},
   "outputs": [],
   "source": []
  },
  {
   "cell_type": "code",
   "execution_count": 66,
   "metadata": {},
   "outputs": [],
   "source": [
    "\n",
    "\n",
    "    "
   ]
  },
  {
   "cell_type": "code",
   "execution_count": null,
   "metadata": {},
   "outputs": [],
   "source": []
  },
  {
   "cell_type": "code",
   "execution_count": null,
   "metadata": {},
   "outputs": [],
   "source": []
  },
  {
   "cell_type": "code",
   "execution_count": null,
   "metadata": {},
   "outputs": [],
   "source": []
  }
 ],
 "metadata": {
  "kernelspec": {
   "display_name": "Python 3",
   "language": "python",
   "name": "python3"
  },
  "language_info": {
   "codemirror_mode": {
    "name": "ipython",
    "version": 3
   },
   "file_extension": ".py",
   "mimetype": "text/x-python",
   "name": "python",
   "nbconvert_exporter": "python",
   "pygments_lexer": "ipython3",
   "version": "3.7.6"
  }
 },
 "nbformat": 4,
 "nbformat_minor": 5
}
