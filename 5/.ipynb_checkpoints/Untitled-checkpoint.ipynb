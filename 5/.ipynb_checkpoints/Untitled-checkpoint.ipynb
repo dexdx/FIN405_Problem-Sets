{
 "cells": [
  {
   "cell_type": "markdown",
   "id": "recognized-injury",
   "metadata": {},
   "source": [
    "## Problem 1"
   ]
  },
  {
   "cell_type": "code",
   "execution_count": 2,
   "id": "wicked-iraqi",
   "metadata": {},
   "outputs": [],
   "source": [
    "import numpy as np"
   ]
  },
  {
   "cell_type": "code",
   "execution_count": 32,
   "id": "expensive-reserve",
   "metadata": {
    "scrolled": true
   },
   "outputs": [],
   "source": [
    "mu = np.array([.08,.14,.16])\n",
    "std = np.array([.10,.30,.35])\n",
    "cor = .2\n",
    "r0 = .05\n",
    "\n",
    "cov = np.empty((3,3))\n",
    "for i in range(3):\n",
    "    for j in range(3):\n",
    "        if j==i:\n",
    "            cov[i,j] = std[i]**2\n",
    "        else:\n",
    "            cov[i,j] = cor * std[i] * std[j]\n",
    "\n",
    "cov_inv = np.linalg.inv(cov)"
   ]
  },
  {
   "cell_type": "code",
   "execution_count": 37,
   "id": "advance-rocket",
   "metadata": {},
   "outputs": [],
   "source": [
    "w_tan = np.matmul(cov_inv, mu-r0)/(np.matmul(cov_inv.sum(0), mu) - cov_inv.sum()*r0)"
   ]
  },
  {
   "cell_type": "code",
   "execution_count": 43,
   "id": "japanese-change",
   "metadata": {},
   "outputs": [],
   "source": [
    "P_tan = np.array([('mean', w_tan.dot(mu)), ('std', np.sqrt(np.matmul(w_tan,cov).dot(w_tan)))])"
   ]
  },
  {
   "cell_type": "code",
   "execution_count": 56,
   "id": "visible-scratch",
   "metadata": {},
   "outputs": [
    {
     "name": "stdout",
     "output_type": "stream",
     "text": [
      "Tangency portfolio summary\n",
      "\n",
      "mean: 10.73%\n",
      "std: 12.83%\n",
      "Sharpe ratio: 0.84\n"
     ]
    }
   ],
   "source": [
    "mean = w_tan.dot(mu)\n",
    "std = np.sqrt(np.matmul(w_tan,cov).dot(w_tan))\n",
    "print('Tangency portfolio summary\\n')\n",
    "print('mean: {:0.2f}%'.format(mean*100))\n",
    "print('std: {:0.2f}%'.format(std*100))\n",
    "print('Sharpe ratio: {:0.2f}'.format(mean/std))"
   ]
  }
 ],
 "metadata": {
  "kernelspec": {
   "display_name": "Python 3",
   "language": "python",
   "name": "python3"
  },
  "language_info": {
   "codemirror_mode": {
    "name": "ipython",
    "version": 3
   },
   "file_extension": ".py",
   "mimetype": "text/x-python",
   "name": "python",
   "nbconvert_exporter": "python",
   "pygments_lexer": "ipython3",
   "version": "3.8.8"
  }
 },
 "nbformat": 4,
 "nbformat_minor": 5
}
