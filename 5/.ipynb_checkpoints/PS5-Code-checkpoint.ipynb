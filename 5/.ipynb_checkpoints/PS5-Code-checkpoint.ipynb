{
 "cells": [
  {
   "cell_type": "markdown",
   "id": "recognized-injury",
   "metadata": {},
   "source": [
    "## Problem 1"
   ]
  },
  {
   "cell_type": "markdown",
   "id": "heard-sleeve",
   "metadata": {},
   "source": [
    "#### 1)"
   ]
  },
  {
   "cell_type": "code",
   "execution_count": 1,
   "id": "wicked-iraqi",
   "metadata": {},
   "outputs": [],
   "source": [
    "import numpy as np"
   ]
  },
  {
   "cell_type": "code",
   "execution_count": 2,
   "id": "expensive-reserve",
   "metadata": {
    "scrolled": true
   },
   "outputs": [],
   "source": [
    "mu = np.array([.08,.14,.16])\n",
    "std = np.array([.10,.30,.35])\n",
    "cor = .2\n",
    "r0 = .05\n",
    "\n",
    "cov = np.empty((3,3))\n",
    "for i in range(3):\n",
    "    for j in range(3):\n",
    "        if j==i:\n",
    "            cov[i,j] = std[i]**2\n",
    "        else:\n",
    "            cov[i,j] = cor * std[i] * std[j]\n",
    "\n",
    "cov_inv = np.linalg.inv(cov)"
   ]
  },
  {
   "cell_type": "code",
   "execution_count": 3,
   "id": "advance-rocket",
   "metadata": {},
   "outputs": [],
   "source": [
    "w_tan = np.matmul(cov_inv, mu-r0)/(np.matmul(cov_inv.sum(0), mu) - cov_inv.sum()*r0)"
   ]
  },
  {
   "cell_type": "code",
   "execution_count": 4,
   "id": "visible-scratch",
   "metadata": {},
   "outputs": [
    {
     "name": "stdout",
     "output_type": "stream",
     "text": [
      "Tangency portfolio summary:\n",
      "\n",
      "Mean: 10.73%\n",
      "Std: 12.83%\n",
      "Sharpe ratio: 0.45\n"
     ]
    }
   ],
   "source": [
    "mean = w_tan.dot(mu)\n",
    "stdv = np.sqrt(np.matmul(w_tan,cov).dot(w_tan))\n",
    "print('Tangency portfolio summary:\\n')\n",
    "print('Mean: {:0.2f}%'.format((mean)*100))\n",
    "print('Std: {:0.2f}%'.format(stdv*100))\n",
    "print('Sharpe ratio: {:0.2f}'.format((mean-r0)/stdv))"
   ]
  },
  {
   "cell_type": "markdown",
   "id": "addressed-eclipse",
   "metadata": {},
   "source": [
    "#### 2)"
   ]
  },
  {
   "cell_type": "code",
   "execution_count": 14,
   "id": "viral-traffic",
   "metadata": {},
   "outputs": [],
   "source": [
    "# fix mu_z at r0\n",
    "mu_z = r0\n",
    "A = cov_inv.sum()\n",
    "B = cov_inv.sum(0).dot(mu)\n",
    "C = mu.transpose().dot(cov_inv).dot(mu)\n",
    "D = A*C - B**2"
   ]
  },
  {
   "cell_type": "code",
   "execution_count": 35,
   "id": "biological-accreditation",
   "metadata": {},
   "outputs": [],
   "source": [
    "# find weights that minimize sigma_z for given mu_z\n",
    "lam = (C - mu_z*B)/D\n",
    "gam = (mu_z*A - B)/D\n",
    "\n",
    "w_z = lam * cov_inv.sum(1) + gam * cov_inv.dot(mu)\n",
    "std_z = np.sqrt(w_z.transpose().dot(cov).dot(w_z))"
   ]
  },
  {
   "cell_type": "code",
   "execution_count": 34,
   "id": "piano-music",
   "metadata": {},
   "outputs": [
    {
     "name": "stdout",
     "output_type": "stream",
     "text": [
      "Zero beta (to tangency) portfolio:\n",
      "\n",
      "Weights: [ 1.42362301 -0.19449204 -0.22913097]\n",
      "Mean: 5.00%\n",
      "Std: 15.52%\n",
      "Variance: 0.0241\n"
     ]
    }
   ],
   "source": [
    "print('Zero beta (to tangency) portfolio:\\n')\n",
    "print('Weights:', w_z)\n",
    "print('Mean: {:0.2f}%'.format(mu_z*100))\n",
    "print('Std: {:0.2f}%'.format(std_z*100))\n",
    "print('Variance: {:0.4f}'.format(std_z**2))"
   ]
  },
  {
   "cell_type": "code",
   "execution_count": 40,
   "id": "august-waterproof",
   "metadata": {
    "scrolled": true
   },
   "outputs": [
    {
     "data": {
      "image/png": "[encoded data removed]",
      "text/plain": [
       "<Figure size 432x288 with 1 Axes>"
      ]
     },
     "metadata": {
      "needs_background": "light"
     },
     "output_type": "display_data"
    }
   ],
   "source": [
    "import matplotlib.pyplot as plt\n",
    "\n",
    "n = ['R1','R2','R3']\n",
    "\n",
    "plt.plot(std,mu,'or')\n",
    "plt.plot(stdv,mean,'og')\n",
    "plt.plot(0,r0,'ob')\n",
    "plt.plot(std_z, mu_z, 'ob')\n",
    "\n",
    "for i, txt in enumerate(n):\n",
    "    plt.annotate(txt, (std[i],mu[i]))\n",
    "plt.annotate('TAN',(stdv,mean))\n",
    "plt.annotate('RF',(0,r0))\n",
    "plt.annotate('ZB',(std_z,mu_z));"
   ]
  },
  {
   "cell_type": "markdown",
   "id": "natural-giant",
   "metadata": {},
   "source": [
    "#### 3)"
   ]
  },
  {
   "cell_type": "code",
   "execution_count": 66,
   "id": "stretch-validity",
   "metadata": {},
   "outputs": [],
   "source": [
    "cov_tz = np.array([[stdv**2,0],[0,std_z**2]])\n",
    "cov_tz_inv = np.linalg.inv(cov_tz)\n",
    "lambd = 1\n",
    "m = 1.3\n",
    "a = np.arange(1,101,1)\n",
    "mu_tz = np.array([mean,mu_z])\n",
    "R_e = mu_tz - r0\n",
    "xs = np.empty((100,2))\n",
    "for i in range(len(xs)):\n",
    "    xs[i,] = (1/a[i] * (R_e - lambd).dot(cov_tz_inv))"
   ]
  },
  {
   "cell_type": "code",
   "execution_count": 71,
   "id": "proved-motivation",
   "metadata": {},
   "outputs": [],
   "source": [
    "mus = xs.dot(mu_tz)\n",
    "sds = np.empty(100)\n",
    "for i in range(len(sds)):\n",
    "    sds[i] = np.sqrt( xs[i].dot(cov_tz).dot(xs[i]) )\n",
    "srs = mus/sds"
   ]
  },
  {
   "cell_type": "code",
   "execution_count": 73,
   "id": "danish-timeline",
   "metadata": {},
   "outputs": [
    {
     "data": {
      "text/plain": [
       "[<matplotlib.lines.Line2D at 0x1da0a121160>]"
      ]
     },
     "execution_count": 73,
     "metadata": {},
     "output_type": "execute_result"
    },
    {
     "data": {
      "image/png": "[encoded data removed]",
      "text/plain": [
       "<Figure size 432x288 with 1 Axes>"
      ]
     },
     "metadata": {
      "needs_background": "light"
     },
     "output_type": "display_data"
    }
   ],
   "source": [
    "plt.plot(srs)"
   ]
  }
 ],
 "metadata": {
  "kernelspec": {
   "display_name": "Python 3",
   "language": "python",
   "name": "python3"
  },
  "language_info": {
   "codemirror_mode": {
    "name": "ipython",
    "version": 3
   },
   "file_extension": ".py",
   "mimetype": "text/x-python",
   "name": "python",
   "nbconvert_exporter": "python",
   "pygments_lexer": "ipython3",
   "version": "3.8.8"
  }
 },
 "nbformat": 4,
 "nbformat_minor": 5
}
