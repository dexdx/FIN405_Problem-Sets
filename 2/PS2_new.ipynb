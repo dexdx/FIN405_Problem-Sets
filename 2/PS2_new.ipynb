{
 "cells": [
  {
   "cell_type": "markdown",
   "id": "sorted-hanging",
   "metadata": {},
   "source": [
    "# Assignment 2"
   ]
  },
  {
   "cell_type": "markdown",
   "id": "sized-enterprise",
   "metadata": {},
   "source": [
    "## Exercise 1"
   ]
  },
  {
   "cell_type": "code",
   "execution_count": 1,
   "id": "quantitative-twelve",
   "metadata": {},
   "outputs": [],
   "source": [
    "import wrds\n",
    "import pandas as pd\n",
    "import matplotlib.pyplot as plt\n",
    "import numpy as np\n",
    "from scipy.stats import norm"
   ]
  },
  {
   "cell_type": "code",
   "execution_count": 3,
   "id": "broken-nation",
   "metadata": {
    "scrolled": true
   },
   "outputs": [
    {
     "name": "stdout",
     "output_type": "stream",
     "text": [
      "Enter your WRDS username [felicity]:alina925\n",
      "Enter your password:········\n",
      "WRDS recommends setting up a .pgpass file.\n",
      "You can find more info here:\n",
      "https://www.postgresql.org/docs/9.5/static/libpq-pgpass.html.\n",
      "Loading library list...\n",
      "Done\n"
     ]
    }
   ],
   "source": [
    "db = wrds.Connection()\n",
    "db.create_pgpass_file()"
   ]
  },
  {
   "cell_type": "code",
   "execution_count": 4,
   "id": "waiting-indie",
   "metadata": {
    "scrolled": true
   },
   "outputs": [],
   "source": [
    "aapl=db.raw_sql(\"select date, ret from crsp.dsf where permco in (7) and date>='1999-12-31' and date<='2020-12-31'\")\n",
    "aapl.to_csv('aapl.csv')\n",
    "\n",
    "gs=db.raw_sql(\"select date, ret from crsp.dsf where permco in (35048) and date>='1999-12-31' and date<='2020-12-31'\")\n",
    "gs.to_csv('gs.csv')\n",
    "\n",
    "msft=db.raw_sql(\"select date, ret from crsp.dsf where permco in (8048) and date>='1999-12-31' and date<='2020-12-31'\")\n",
    "msft.to_csv('msft.csv')\n",
    "\n",
    "pg=db.raw_sql(\"select date, ret from crsp.dsf where permco in (21446) and date>='1999-12-31' and date<='2020-12-31'\")\n",
    "pg.to_csv('pg.csv')\n",
    "\n",
    "ge=db.raw_sql(\"select date, ret from crsp.dsf where permco in (20792) and date>='1999-12-31' and date<='2020-12-31'\")\n",
    "ge.to_csv('ge.csv')"
   ]
  },
  {
   "cell_type": "code",
   "execution_count": 5,
   "id": "deluxe-ethics",
   "metadata": {},
   "outputs": [],
   "source": [
    "aapl = pd.read_csv('aapl.csv', index_col=0)\n",
    "gs = pd.read_csv('gs.csv', usecols=['ret']).squeeze()\n",
    "msft = pd.read_csv('msft.csv', usecols=['ret']).squeeze()\n",
    "pg = pd.read_csv('pg.csv', usecols=['ret']).squeeze()\n",
    "ge = pd.read_csv('ge.csv', usecols=['ret']).squeeze()"
   ]
  },
  {
   "cell_type": "markdown",
   "id": "improving-breakdown",
   "metadata": {},
   "source": [
    "#### a)"
   ]
  },
  {
   "cell_type": "code",
   "execution_count": 6,
   "id": "harmful-article",
   "metadata": {},
   "outputs": [
    {
     "name": "stdout",
     "output_type": "stream",
     "text": [
      "Mean of daily returns:\n",
      "aapl    0.001317\n",
      "gs      0.000522\n",
      "msft    0.000526\n",
      "pg      0.000378\n",
      "ge      0.000046\n",
      "dtype: float64\n",
      "\n",
      "Std of daily returns:\n",
      "aapl    0.025622\n",
      "gs      0.023606\n",
      "msft    0.019470\n",
      "pg      0.013628\n",
      "ge      0.021166\n",
      "dtype: float64\n"
     ]
    }
   ],
   "source": [
    "aapl.date = pd.to_datetime(aapl.date)\n",
    "ret = pd.DataFrame({'date': aapl.date, 'aapl': aapl.ret, 'gs':gs,\n",
    "                   'msft':msft, 'pg':pg, 'ge':ge})\n",
    "ret = ret.set_index('date')\n",
    "\n",
    "print('Mean of daily returns:',ret.apply(np.mean),sep='\\n')\n",
    "print('\\nStd of daily returns:',ret.apply(np.std),sep='\\n')"
   ]
  },
  {
   "cell_type": "markdown",
   "id": "hairy-reporter",
   "metadata": {},
   "source": [
    "#### b)"
   ]
  },
  {
   "cell_type": "markdown",
   "id": "willing-surface",
   "metadata": {},
   "source": [
    "##### AAPL"
   ]
  },
  {
   "cell_type": "code",
   "execution_count": 7,
   "id": "supposed-sauce",
   "metadata": {
    "scrolled": false
   },
   "outputs": [
    {
     "data": {
      "image/png": "[encoded data removed]",
      "text/plain": [
       "<Figure size 432x288 with 1 Axes>"
      ]
     },
     "metadata": {
      "needs_background": "light"
     },
     "output_type": "display_data"
    }
   ],
   "source": [
    "N = len(ret)\n",
    "aapl = ret.aapl\n",
    "aapl_w = aapl[:]\n",
    "aapl_w = aapl_w.where(np.abs(aapl_w)<0.04)\n",
    "\n",
    "x = np.linspace(aapl.min(), aapl.max(), N)\n",
    "\n",
    "plt.title('Daily AAPL returns')\n",
    "plt.hist(aapl, bins=50, density=True);\n",
    "plt.plot(x, norm.pdf(x, aapl.mean(), aapl.std()), label='normal');\n",
    "plt.plot(x, norm.pdf(x, aapl_w.mean(), aapl_w.std()), label='winsorized');\n",
    "plt.legend();"
   ]
  },
  {
   "cell_type": "markdown",
   "id": "effective-football",
   "metadata": {},
   "source": [
    "##### GS"
   ]
  },
  {
   "cell_type": "code",
   "execution_count": 8,
   "id": "popular-alloy",
   "metadata": {
    "scrolled": true
   },
   "outputs": [
    {
     "data": {
      "image/png": "[encoded data removed]",
      "text/plain": [
       "<Figure size 432x288 with 1 Axes>"
      ]
     },
     "metadata": {
      "needs_background": "light"
     },
     "output_type": "display_data"
    }
   ],
   "source": [
    "gs_w = gs[:]\n",
    "gs_w = gs_w.where(np.abs(gs_w)<0.04)\n",
    "\n",
    "x = np.linspace(gs.min(), gs.max(), N)\n",
    "\n",
    "plt.title('Daily GS returns')\n",
    "plt.hist(gs, bins=50, density=True);\n",
    "plt.plot(x, norm.pdf(x, gs.mean(), gs.std()), label='normal');\n",
    "plt.plot(x, norm.pdf(x, gs_w.mean(), gs_w.std()), label='winsorized');\n",
    "plt.legend();"
   ]
  },
  {
   "cell_type": "markdown",
   "id": "sunset-palestine",
   "metadata": {},
   "source": [
    "##### MSFT"
   ]
  },
  {
   "cell_type": "code",
   "execution_count": 9,
   "id": "light-decline",
   "metadata": {
    "scrolled": true
   },
   "outputs": [
    {
     "data": {
      "image/png": "[encoded data removed]",
      "text/plain": [
       "<Figure size 432x288 with 1 Axes>"
      ]
     },
     "metadata": {
      "needs_background": "light"
     },
     "output_type": "display_data"
    }
   ],
   "source": [
    "msft_w = msft[:]\n",
    "msft_w = msft_w.where(np.abs(msft_w)<0.04)\n",
    "\n",
    "x = np.linspace(msft.min(), msft.max(), N)\n",
    "\n",
    "plt.title('Daily MSFT returns')\n",
    "plt.hist(msft, bins=50, density=True);\n",
    "plt.plot(x, norm.pdf(x, msft.mean(), msft.std()), label='normal');\n",
    "plt.plot(x, norm.pdf(x, msft_w.mean(), msft_w.std()), label='winsorized');\n",
    "plt.legend();"
   ]
  },
  {
   "cell_type": "markdown",
   "id": "inside-episode",
   "metadata": {},
   "source": [
    "##### PG"
   ]
  },
  {
   "cell_type": "code",
   "execution_count": 10,
   "id": "surrounded-analyst",
   "metadata": {
    "scrolled": false
   },
   "outputs": [
    {
     "data": {
      "image/png": "[encoded data removed]",
      "text/plain": [
       "<Figure size 432x288 with 1 Axes>"
      ]
     },
     "metadata": {
      "needs_background": "light"
     },
     "output_type": "display_data"
    }
   ],
   "source": [
    "pg_w = pg[:]\n",
    "pg_w = pg_w.where(np.abs(pg_w)<0.04)\n",
    "\n",
    "x = np.linspace(pg.min(), pg.max(), N)\n",
    "\n",
    "plt.title('Daily PG returns')\n",
    "plt.hist(pg, bins=50, density=True);\n",
    "plt.plot(x, norm.pdf(x, pg.mean(), pg.std()), label='normal');\n",
    "plt.plot(x, norm.pdf(x, pg_w.mean(), pg_w.std()), label='winsorized');\n",
    "plt.legend();"
   ]
  },
  {
   "cell_type": "markdown",
   "id": "operating-wiring",
   "metadata": {},
   "source": [
    "##### GE"
   ]
  },
  {
   "cell_type": "code",
   "execution_count": 11,
   "id": "aggressive-enzyme",
   "metadata": {
    "scrolled": true
   },
   "outputs": [
    {
     "data": {
      "image/png": "[encoded data removed]",
      "text/plain": [
       "<Figure size 432x288 with 1 Axes>"
      ]
     },
     "metadata": {
      "needs_background": "light"
     },
     "output_type": "display_data"
    }
   ],
   "source": [
    "ge_w = ge[:]\n",
    "ge_w = ge_w.where(np.abs(ge_w)<0.04)\n",
    "\n",
    "x = np.linspace(ge.min(), ge.max(), N)\n",
    "\n",
    "plt.title('Daily GE returns')\n",
    "plt.hist(ge, bins=50, density=True);\n",
    "plt.plot(x, norm.pdf(x, ge.mean(), ge.std()), label='normal');\n",
    "plt.plot(x, norm.pdf(x, ge_w.mean(), ge_w.std()), label='winsorized');\n",
    "plt.legend();"
   ]
  },
  {
   "cell_type": "markdown",
   "id": "golden-distribution",
   "metadata": {},
   "source": [
    "#### c)"
   ]
  },
  {
   "cell_type": "code",
   "execution_count": 12,
   "id": "helpful-socket",
   "metadata": {},
   "outputs": [
    {
     "name": "stdout",
     "output_type": "stream",
     "text": [
      "95% VaR (in %):\n",
      "aapl    3.762551\n",
      "gs      3.371767\n",
      "msft    2.869881\n",
      "pg      1.775496\n",
      "ge      3.134519\n",
      "Name: 0.05, dtype: float64\n",
      "\n",
      "99% VaR (in %):\n",
      "aapl    6.450919\n",
      "gs      6.317046\n",
      "msft    5.467889\n",
      "pg      3.608454\n",
      "ge      6.081851\n",
      "Name: 0.01, dtype: float64\n"
     ]
    }
   ],
   "source": [
    "print('95% VaR (in %):',ret.quantile(.05)*(-100),sep='\\n')\n",
    "print('\\n99% VaR (in %):',ret.quantile(.01)*(-100),sep='\\n')"
   ]
  },
  {
   "cell_type": "code",
   "execution_count": 13,
   "id": "strange-executive",
   "metadata": {},
   "outputs": [
    {
     "name": "stdout",
     "output_type": "stream",
     "text": [
      "95% Expected Shortfall (in %):\n",
      "       aapl        gs      msft     pg        ge\n",
      "0  5.700202  5.283197  4.504708  3.164  5.015128\n",
      "\n",
      "99% Expected Shortfall (in %):\n",
      "      aapl        gs      msft        pg        ge\n",
      "0  9.50909  9.213828  7.675747  5.901506  8.440496\n"
     ]
    }
   ],
   "source": [
    "var95 = ret.quantile(.05)\n",
    "var99 = ret.quantile(.01)\n",
    "k = ret.shape[1]\n",
    "\n",
    "esf95 = [0 for i in range(k)]\n",
    "esf99 = [0 for i in range(k)]\n",
    " \n",
    "for i in range(k):\n",
    "    sf95 = ret.iloc[:,i].where(ret.iloc[:,i]<var95[i])\n",
    "    esf95[i] = np.mean(sf95)*(-100)\n",
    "    sf99 = ret.iloc[:,i].where(ret.iloc[:,i]<var99[i])\n",
    "    esf99[i] = np.mean(sf99)*(-100)\n",
    "\n",
    "Esf95 = pd.DataFrame(columns=ret.columns)\n",
    "Esf95.loc[0] = esf95\n",
    "Esf99 = pd.DataFrame(columns=ret.columns)\n",
    "Esf99.loc[0] = esf99\n",
    "\n",
    "#Esf95.Index.rename('95')\n",
    "print('95% Expected Shortfall (in %):',Esf95,sep='\\n')\n",
    "print('\\n99% Expected Shortfall (in %):',Esf99,sep='\\n')"
   ]
  },
  {
   "cell_type": "markdown",
   "id": "considerable-coordinate",
   "metadata": {},
   "source": [
    "#### d)"
   ]
  },
  {
   "cell_type": "markdown",
   "id": "impressed-smoke",
   "metadata": {},
   "source": [
    "The normal distribution does not seem to approprietely describe the distribution of daily stock returns since the latter's kurtosis is far greater that that of a normal distribution. However, by removing extreme values from daily stock returns and reparametrizing the normal distribution with the parameters estimated from that reduced sample, the goodness of fit of the normal seems to improve towards the center, though daily returns leptokurticity increases since the standard deviation of the winsorized normal is reduced.\n",
    "\n",
    "There seems therefore to be a tradeoff between goodness of fit around the center and leptokurticity, when trying to fit a normal distribution to returns."
   ]
  },
  {
   "cell_type": "markdown",
   "id": "stuffed-skill",
   "metadata": {},
   "source": [
    "#### e)"
   ]
  },
  {
   "cell_type": "code",
   "execution_count": 14,
   "id": "interesting-there",
   "metadata": {},
   "outputs": [],
   "source": [
    "bonds=db.raw_sql(\"select caldt, b2ret, b10ret from crsp.mcti where caldt>='1999-12-31' and caldt<='2020-12-31'\", date_cols=['caldt'])\n",
    "\n",
    "# see: https://wrds-www.wharton.upenn.edu/documents/1443/wrds_connection.html\n",
    "bonds=bonds.rename(columns= {\"caldt\": \"date\"})\n",
    "bonds.to_csv('bonds.csv')\n",
    "\n",
    "bonds = pd.read_csv('bonds.csv', index_col=0)"
   ]
  },
  {
   "cell_type": "code",
   "execution_count": 31,
   "id": "supreme-produce",
   "metadata": {},
   "outputs": [],
   "source": [
    "bonds = pd.read_csv('bonds.csv', index_col=0)\n",
    "bonds = bonds.set_index('date')"
   ]
  },
  {
   "cell_type": "code",
   "execution_count": 30,
   "id": "incident-generation",
   "metadata": {
    "scrolled": true
   },
   "outputs": [
    {
     "data": {
      "image/png": "[encoded data removed]",
      "text/plain": [
       "<Figure size 432x288 with 1 Axes>"
      ]
     },
     "metadata": {
      "needs_background": "light"
     },
     "output_type": "display_data"
    }
   ],
   "source": [
    "N = len(bonds)\n",
    "b2ret = bonds.b2ret\n",
    "b2ret_w = b2ret[:]\n",
    "b2ret_w = b2ret_w.where(np.abs(b2ret_w)<0.04)\n",
    "\n",
    "x = np.linspace(b2ret.min(), b2ret.max(), N)\n",
    "\n",
    "plt.title('Monthly 2-year bond returns')\n",
    "plt.hist(b2ret, bins=20, density=True);\n",
    "plt.plot(x, norm.pdf(x, b2ret.mean(), b2ret.std()), label='normal');\n",
    "plt.plot(x, norm.pdf(x, b2ret_w.mean(), b2ret_w.std()), label='winsorized', ls=':');\n",
    "plt.legend();"
   ]
  },
  {
   "cell_type": "code",
   "execution_count": 27,
   "id": "another-spank",
   "metadata": {
    "scrolled": false
   },
   "outputs": [
    {
     "data": {
      "image/png": "[encoded data removed]",
      "text/plain": [
       "<Figure size 432x288 with 1 Axes>"
      ]
     },
     "metadata": {
      "needs_background": "light"
     },
     "output_type": "display_data"
    }
   ],
   "source": [
    "b10ret = bonds.b10ret\n",
    "b10ret_w = b10ret[:]\n",
    "b10ret_w = b10ret_w.where(np.abs(b10ret_w)<0.04)\n",
    "\n",
    "x = np.linspace(b10ret.min(), b10ret.max(), N)\n",
    "\n",
    "plt.title('Monthly 10-year bond returns')\n",
    "plt.hist(b10ret, bins=20, density=True);\n",
    "plt.plot(x, norm.pdf(x, b10ret.mean(), b10ret.std()), label='normal');\n",
    "plt.plot(x, norm.pdf(x, b10ret_w.mean(), b10ret_w.std()), label='winsorized');\n",
    "plt.legend();"
   ]
  },
  {
   "cell_type": "markdown",
   "id": "effective-sigma",
   "metadata": {},
   "source": [
    "Since there are no returns greater than 0.04 in absolute value for the 2-year bond, the normal and the winsorized normal are exactly the same. Therefore, both do not account well for the excess kurtosis also observed in bond returns. In addition, the 2-year bond returns seem to be positively skewed, which obviously is never captured by a normal distribution.\n",
    "\n",
    "Skewness for the 10-year bond returns seems to be less than that of the 2-year. However, the same conclusion about the above-mentionned tradeoff for stock returns can be applied for the 10-year bond."
   ]
  },
  {
   "cell_type": "markdown",
   "id": "fatal-merchandise",
   "metadata": {},
   "source": [
    "## Exercise 2"
   ]
  },
  {
   "cell_type": "code",
   "execution_count": 33,
   "id": "elect-lawrence",
   "metadata": {
    "scrolled": true
   },
   "outputs": [
    {
     "ename": "NameError",
     "evalue": "name 'db' is not defined",
     "output_type": "error",
     "traceback": [
      "\u001b[1;31m---------------------------------------------------------------------------\u001b[0m",
      "\u001b[1;31mNameError\u001b[0m                                 Traceback (most recent call last)",
      "\u001b[1;32m<ipython-input-33-d25793b82156>\u001b[0m in \u001b[0;36m<module>\u001b[1;34m\u001b[0m\n\u001b[0;32m      1\u001b[0m \u001b[1;31m# Download data\u001b[0m\u001b[1;33m\u001b[0m\u001b[1;33m\u001b[0m\u001b[1;33m\u001b[0m\u001b[0m\n\u001b[1;32m----> 2\u001b[1;33m \u001b[0maapl1\u001b[0m\u001b[1;33m=\u001b[0m\u001b[0mdb\u001b[0m\u001b[1;33m.\u001b[0m\u001b[0mraw_sql\u001b[0m\u001b[1;33m(\u001b[0m\u001b[1;34m\"select date, ret from crsp.dsf where permco in (7) and date>='2010-01-01' and date<='2020-12-31'\"\u001b[0m\u001b[1;33m)\u001b[0m\u001b[1;33m\u001b[0m\u001b[1;33m\u001b[0m\u001b[0m\n\u001b[0m\u001b[0;32m      3\u001b[0m \u001b[0maapl1\u001b[0m\u001b[1;33m.\u001b[0m\u001b[0mto_csv\u001b[0m\u001b[1;33m(\u001b[0m\u001b[1;34m'aapl1.csv'\u001b[0m\u001b[1;33m)\u001b[0m\u001b[1;33m\u001b[0m\u001b[1;33m\u001b[0m\u001b[0m\n\u001b[0;32m      4\u001b[0m \u001b[1;33m\u001b[0m\u001b[0m\n\u001b[0;32m      5\u001b[0m \u001b[0mpg1\u001b[0m\u001b[1;33m=\u001b[0m\u001b[0mdb\u001b[0m\u001b[1;33m.\u001b[0m\u001b[0mraw_sql\u001b[0m\u001b[1;33m(\u001b[0m\u001b[1;34m\"select date, ret from crsp.dsf where permco in (21446) and date>='2010-01-01' and date<='2020-12-31'\"\u001b[0m\u001b[1;33m)\u001b[0m\u001b[1;33m\u001b[0m\u001b[1;33m\u001b[0m\u001b[0m\n",
      "\u001b[1;31mNameError\u001b[0m: name 'db' is not defined"
     ]
    }
   ],
   "source": [
    "# Download data\n",
    "aapl1=db.raw_sql(\"select date, ret from crsp.dsf where permco in (7) and date>='2010-01-01' and date<='2020-12-31'\")\n",
    "aapl1.to_csv('aapl1.csv')\n",
    "\n",
    "pg1=db.raw_sql(\"select date, ret from crsp.dsf where permco in (21446) and date>='2010-01-01' and date<='2020-12-31'\")\n",
    "pg1.to_csv('pg1.csv')\n",
    "\n",
    "del aapl\n",
    "del pg\n",
    "\n",
    "aapl = pd.read_csv('aapl1.csv', index_col=0)\n",
    "pg = pd.read_csv('pg1.csv', usecols=['ret']).squeeze()\n",
    "\n",
    "# convert date string to datetime\n",
    "aapl.date = pd.to_datetime(aapl.date)\n",
    "\n",
    "# concatenate series into one dataframe\n",
    "ret = pd.DataFrame({'date': aapl.date, 'aapl': aapl.ret, 'pg':pg})\n",
    "\n",
    "# set datetime as pd index\n",
    "ret = ret.set_index('date')"
   ]
  },
  {
   "cell_type": "code",
   "execution_count": 36,
   "id": "electrical-resistance",
   "metadata": {},
   "outputs": [],
   "source": [
    "aapl = pd.read_csv('aapl1.csv', index_col=0)\n",
    "pg = pd.read_csv('pg1.csv', usecols=['ret']).squeeze()\n",
    "aapl.date = pd.to_datetime(aapl.date)\n",
    "ret = pd.DataFrame({'date': aapl.date, 'aapl': aapl.ret, 'pg':pg})\n",
    "ret = ret.set_index('date')"
   ]
  },
  {
   "cell_type": "markdown",
   "id": "stable-oxide",
   "metadata": {},
   "source": [
    "#### a)"
   ]
  },
  {
   "cell_type": "code",
   "execution_count": 37,
   "id": "dietary-jacob",
   "metadata": {
    "scrolled": true
   },
   "outputs": [
    {
     "data": {
      "text/html": [
       "<div>\n",
       "<style scoped>\n",
       "    .dataframe tbody tr th:only-of-type {\n",
       "        vertical-align: middle;\n",
       "    }\n",
       "\n",
       "    .dataframe tbody tr th {\n",
       "        vertical-align: top;\n",
       "    }\n",
       "\n",
       "    .dataframe thead th {\n",
       "        text-align: right;\n",
       "    }\n",
       "</style>\n",
       "<table border=\"1\" class=\"dataframe\">\n",
       "  <thead>\n",
       "    <tr style=\"text-align: right;\">\n",
       "      <th></th>\n",
       "      <th>aapl</th>\n",
       "      <th>pg</th>\n",
       "    </tr>\n",
       "  </thead>\n",
       "  <tbody>\n",
       "    <tr>\n",
       "      <th>count</th>\n",
       "      <td>574.000000</td>\n",
       "      <td>574.000000</td>\n",
       "    </tr>\n",
       "    <tr>\n",
       "      <th>mean</th>\n",
       "      <td>0.006027</td>\n",
       "      <td>0.002321</td>\n",
       "    </tr>\n",
       "    <tr>\n",
       "      <th>std</th>\n",
       "      <td>0.038903</td>\n",
       "      <td>0.021783</td>\n",
       "    </tr>\n",
       "    <tr>\n",
       "      <th>min</th>\n",
       "      <td>-0.180304</td>\n",
       "      <td>-0.110265</td>\n",
       "    </tr>\n",
       "    <tr>\n",
       "      <th>25%</th>\n",
       "      <td>-0.017382</td>\n",
       "      <td>-0.009292</td>\n",
       "    </tr>\n",
       "    <tr>\n",
       "      <th>50%</th>\n",
       "      <td>0.007690</td>\n",
       "      <td>0.002472</td>\n",
       "    </tr>\n",
       "    <tr>\n",
       "      <th>75%</th>\n",
       "      <td>0.029414</td>\n",
       "      <td>0.014700</td>\n",
       "    </tr>\n",
       "    <tr>\n",
       "      <th>max</th>\n",
       "      <td>0.143230</td>\n",
       "      <td>0.111966</td>\n",
       "    </tr>\n",
       "  </tbody>\n",
       "</table>\n",
       "</div>"
      ],
      "text/plain": [
       "             aapl          pg\n",
       "count  574.000000  574.000000\n",
       "mean     0.006027    0.002321\n",
       "std      0.038903    0.021783\n",
       "min     -0.180304   -0.110265\n",
       "25%     -0.017382   -0.009292\n",
       "50%      0.007690    0.002472\n",
       "75%      0.029414    0.014700\n",
       "max      0.143230    0.111966"
      ]
     },
     "execution_count": 37,
     "metadata": {},
     "output_type": "execute_result"
    }
   ],
   "source": [
    "ret_w = ret.resample('W').sum()\n",
    "ret_w.describe()"
   ]
  },
  {
   "cell_type": "code",
   "execution_count": 44,
   "id": "surprising-funeral",
   "metadata": {},
   "outputs": [
    {
     "name": "stdout",
     "output_type": "stream",
     "text": [
      "[[0.07869932 0.01413473]\n",
      " [0.01413473 0.0246748 ]]\n",
      "The expected return of Apple is  0.31341867549221086 standard deviation is 0.28053399340649265 \n",
      "\n",
      "The expected return of P&G is  0.12071312071235409 standard deviation is 0.1570821389597668 \n",
      "\n",
      "The correlation is 0.3207562042229808 \n",
      "\n"
     ]
    }
   ],
   "source": [
    "# expected return\n",
    "e_ret_aapl = ret_w.mean().aapl * 52\n",
    "e_ret_pg = ret_w.mean().pg * 52\n",
    "\n",
    "#std\n",
    "std_aapl = ret_w.std().aapl * np.sqrt(52)\n",
    "std_pg = ret_w.std().pg * np.sqrt(52)\n",
    "\n",
    "#correlation\n",
    "x = ret_w[\"aapl\"]\n",
    "y = ret_w[\"pg\"]\n",
    "coeff = x.corr(y)\n",
    "\n",
    "print(\"The expected return of Apple is \", e_ret_aapl, \"standard deviation is\", std_aapl, \"\\n\")\n",
    "print(\"The expected return of P&G is \", e_ret_pg, \"standard deviation is\", std_pg, \"\\n\")\n",
    "print(\"The correlation is\", coeff, \"\\n\")"
   ]
  },
  {
   "cell_type": "markdown",
   "id": "employed-clock",
   "metadata": {},
   "source": [
    "#### b)"
   ]
  },
  {
   "cell_type": "code",
   "execution_count": 62,
   "id": "described-behalf",
   "metadata": {},
   "outputs": [],
   "source": [
    "# set portfolio weights (also including leverage)\n",
    "w = np.arange(-0.5,1.6,0.1)"
   ]
  },
  {
   "cell_type": "code",
   "execution_count": 63,
   "id": "permanent-coordinator",
   "metadata": {
    "scrolled": true
   },
   "outputs": [
    {
     "data": {
      "image/png": "[encoded data removed]",
      "text/plain": [
       "<Figure size 432x288 with 1 Axes>"
      ]
     },
     "metadata": {
      "needs_background": "light"
     },
     "output_type": "display_data"
    }
   ],
   "source": [
    "# calculate portfolio return and std\n",
    "r_p = w * e_ret_aapl + (1-w) * e_ret_pg\n",
    "std_p = np.sqrt((w*std_aapl)**2 + (1-w)**2*std_pg**2 + 2*w*(1-w)*coeff*std_aapl*std_pg)\n",
    "\n",
    "#plot\n",
    "plt.plot(std_p*100,r_p*100,label=\"Frontier\")\n",
    "plt.xlabel('Portfolio std (%)')\n",
    "plt.ylabel('Portfolio expected return (%)')\n",
    "plt.title('Mean Standard deviation Frontier')\n",
    "plt.plot(std_aapl*100,e_ret_aapl*100,\"ro\", label=\"100% AAPL\")\n",
    "plt.plot(std_pg*100,e_ret_pg*100,\"bo\", label=\"100% P&G\")\n",
    "plt.legend()\n",
    "plt.show()"
   ]
  },
  {
   "cell_type": "markdown",
   "id": "mighty-dividend",
   "metadata": {},
   "source": [
    "#### c)"
   ]
  },
  {
   "cell_type": "code",
   "execution_count": 47,
   "id": "foreign-reaction",
   "metadata": {},
   "outputs": [
    {
     "name": "stdout",
     "output_type": "stream",
     "text": [
      "The minimum variance portfolio is composed of  14.033845496617973 % of Apple, and  85.96615450338203 % of P&G\n",
      "\n",
      "The expected return is  0.14775712053355972  The std is  0.15230108593641672 \n",
      "\n",
      "The Sharpe Ratio is  0.8716754691360749\n"
     ]
    }
   ],
   "source": [
    "# to minimize variance\n",
    "w_min = (std_pg**2 - coeff*std_aapl*std_pg)/(std_aapl**2 + std_pg**2 - 2*coeff*std_aapl*std_pg)\n",
    "\n",
    "wmin_r_p = w_min * e_ret_aapl + (1-w_min) * e_ret_pg\n",
    "wmin_std_p = np.sqrt((w_min*std_aapl)**2 + (1-w_min)**2*std_pg**2 + 2*w_min*(1-w_min)*coeff*std_aapl*std_pg)\n",
    "\n",
    "rf = 0.015\n",
    "sh = (wmin_r_p - rf)/wmin_std_p\n",
    "\n",
    "print(\"The minimum variance portfolio is composed of \" ,w_min*100, \"% of Apple, and \" ,(1-w_min)*100, \"% of P&G\\n\")\n",
    "print(\"The expected return is \", wmin_r_p, \" The std is \", wmin_std_p, \"\\n\")\n",
    "print(\"The Sharpe Ratio is \", sh)\n",
    "\n"
   ]
  },
  {
   "cell_type": "markdown",
   "id": "prompt-jenny",
   "metadata": {},
   "source": [
    "#### d)"
   ]
  },
  {
   "cell_type": "code",
   "execution_count": 85,
   "id": "fiscal-female",
   "metadata": {},
   "outputs": [
    {
     "name": "stdout",
     "output_type": "stream",
     "text": [
      "0.21914835948268285 0.038290091108651475\n"
     ]
    }
   ],
   "source": [
    "# Cov matrix\n",
    "cov_xy = coeff*std_aapl*std_pg\n",
    "Cov = np.diag([std_aapl**2,std_pg**2])\n",
    "Cov[0,1] = cov_xy\n",
    "Cov[1,0] = cov_xy\n",
    "Cov_inv = np.linalg.inv(Cov)\n",
    "\n",
    "# Excess mean return vector\n",
    "mu = np.asarray([e_ret_aapl, e_ret_pg]) - rf\n",
    "\n",
    "# Tangency portfolio weights (t)\n",
    "a = np.matmul(Cov_inv,mu)\n",
    "t = a/a.sum()\n",
    "\n",
    "# Capital market line\n",
    "tpf_mu = np.dot(t,mu)\n",
    "tpf_var = np.matmul(t,Cov)\n",
    "tpf_var = np.matmul(tpf_var,t)\n",
    "tpf_std = np.sqrt(tpf_var)\n",
    "print(tpf_mu,tpf_var)\n",
    "\n",
    "slope = (tpf_mu - rf)/tpf_std\n",
    "\n",
    "tpf_x = np.arange(0,40,0.1)\n",
    "tpf_y = np.empty(len(tpf_x))\n",
    "for i in range(len(tpf_y)):\n",
    "    tpf_y[i] = rf + tpf_x[i]*slope\n",
    "\n"
   ]
  },
  {
   "cell_type": "code",
   "execution_count": 91,
   "id": "opened-grade",
   "metadata": {},
   "outputs": [
    {
     "data": {
      "image/png": "[encoded data removed]",
      "text/plain": [
       "<Figure size 432x288 with 1 Axes>"
      ]
     },
     "metadata": {
      "needs_background": "light"
     },
     "output_type": "display_data"
    }
   ],
   "source": [
    "#plot\n",
    "plt.plot(std_p*100,r_p*100,label=\"Frontier\")\n",
    "plt.xlabel('Portfolio std (%)')\n",
    "plt.ylabel('Portfolio expected return (%)')\n",
    "plt.title('Mean Standard deviation Frontier')\n",
    "plt.plot(std_aapl*100,e_ret_aapl*100,\"ro\", label=\"100% AAPL\")\n",
    "plt.plot(std_pg*100,e_ret_pg*100,\"bo\", label=\"100% P&G\")\n",
    "plt.plot(tpf_std,tpf_mu*100,'go', label=\"'tangency' portfolio\")\n",
    "plt.plot(tpf_x,tpf_y*100, label=\"CML\")\n",
    "plt.plot(0,rf*100)\n",
    "\n",
    "\n",
    "plt.legend()\n",
    "plt.show()"
   ]
  },
  {
   "cell_type": "markdown",
   "id": "finnish-shakespeare",
   "metadata": {},
   "source": [
    "#### e)"
   ]
  },
  {
   "cell_type": "code",
   "execution_count": 22,
   "id": "accurate-helena",
   "metadata": {},
   "outputs": [],
   "source": [
    "from sympy import symbols, solve"
   ]
  },
  {
   "cell_type": "code",
   "execution_count": 23,
   "id": "daily-geography",
   "metadata": {},
   "outputs": [],
   "source": [
    "# check that the result from solver function is real number\n",
    "def goodnumber(str):\n",
    "    try: \n",
    "        float(str)\n",
    "    except TypeError: \n",
    "        return False\n",
    "    return True"
   ]
  },
  {
   "cell_type": "code",
   "execution_count": 24,
   "id": "cardiac-industry",
   "metadata": {},
   "outputs": [],
   "source": [
    "# std = 0.2\n",
    "w1opt = np.zeros(0)\n",
    "w2opt = np.zeros(0)\n",
    "\n",
    "for ii in range(1001):\n",
    "    w1 = ii/1000\n",
    "    x = symbols('x')\n",
    "    expr = (w1*std_aapl)**2 + x**2*std_pg**2 + 2*w1*x*coeff*std_aapl*std_pg - 0.2**2\n",
    "    w2 = solve(expr)\n",
    "    \n",
    "    if goodnumber(w2[1]):\n",
    "        if w1 + w2[1] < 1:\n",
    "            temp = w2[1]\n",
    "            w1opt = np.concatenate((w1opt,np.ones(1)*w1))\n",
    "            w2opt = np.concatenate((w2opt,np.ones(1)*temp))\n",
    "       "
   ]
  },
  {
   "cell_type": "code",
   "execution_count": 25,
   "id": "terminal-explosion",
   "metadata": {},
   "outputs": [
    {
     "name": "stdout",
     "output_type": "stream",
     "text": [
      "The optimal weight of Apple is  [61.4] %\n",
      "\n",
      "The optimal weight of P&G is  [38.4742323847997] %\n",
      "\n",
      "The optimal weight of the risk free is [0.125767615200301] %\n",
      "\n"
     ]
    }
   ],
   "source": [
    "# maximize return with given std\n",
    "mixr_p = w1opt*e_ret_aapl + w2opt*e_ret_pg + (1-w1opt-w2opt)*rf\n",
    "maxret = np.amax(mixr_p)\n",
    "index = np.where(mixr_p == maxret)\n",
    "\n",
    "print(\"The optimal weight of Apple is \", w1opt[index]*100, \"%\\n\")\n",
    "print(\"The optimal weight of P&G is \", w2opt[index]*100, \"%\\n\")\n",
    "print(\"The optimal weight of the risk free is\" ,(1-w1opt[index]-w2opt[index])*100, \"%\\n\")"
   ]
  },
  {
   "cell_type": "code",
   "execution_count": 26,
   "id": "distinct-spanking",
   "metadata": {},
   "outputs": [
    {
     "name": "stdout",
     "output_type": "stream",
     "text": [
      "The value of the risk aversion coefficient is [5.55098285806344]\n"
     ]
    }
   ],
   "source": [
    "# compute risk aversion coefficient\n",
    "## From the First Order Conditions deriving for Apple:\n",
    "a = (e_ret_aapl-rf)/(w1opt[index]*std_aapl**2 + w2opt[index]*coeff*std_aapl*std_pg)\n",
    "print(\"The value of the risk aversion coefficient is\", a)"
   ]
  },
  {
   "cell_type": "markdown",
   "id": "disturbed-answer",
   "metadata": {},
   "source": [
    "#### f)"
   ]
  },
  {
   "cell_type": "code",
   "execution_count": 27,
   "id": "different-steal",
   "metadata": {},
   "outputs": [
    {
     "name": "stdout",
     "output_type": "stream",
     "text": [
      "The mean is 0.238901378476313 \n",
      "The Sharpe ratio is 1.11950689238157\n"
     ]
    }
   ],
   "source": [
    "sharpe = (maxret - rf)/0.2\n",
    "print(\"The mean is\", maxret, \"\\nThe Sharpe ratio is\", sharpe)\n"
   ]
  }
 ],
 "metadata": {
  "kernelspec": {
   "display_name": "Python 3",
   "language": "python",
   "name": "python3"
  },
  "language_info": {
   "codemirror_mode": {
    "name": "ipython",
    "version": 3
   },
   "file_extension": ".py",
   "mimetype": "text/x-python",
   "name": "python",
   "nbconvert_exporter": "python",
   "pygments_lexer": "ipython3",
   "version": "3.8.8"
  }
 },
 "nbformat": 4,
 "nbformat_minor": 5
}
