{
 "cells": [
  {
   "cell_type": "markdown",
   "id": "based-thickness",
   "metadata": {},
   "source": [
    "# Assignment 2"
   ]
  },
  {
   "cell_type": "markdown",
   "id": "laden-fever",
   "metadata": {},
   "source": [
    "## Exercise 1"
   ]
  },
  {
   "cell_type": "code",
   "execution_count": 23,
   "id": "measured-phrase",
   "metadata": {},
   "outputs": [],
   "source": [
    "import wrds\n",
    "import pandas as pd\n",
    "import matplotlib.pyplot as plt\n",
    "import numpy as np"
   ]
  },
  {
   "cell_type": "code",
   "execution_count": 2,
   "id": "strong-balloon",
   "metadata": {},
   "outputs": [
    {
     "name": "stdout",
     "output_type": "stream",
     "text": [
      "Enter your WRDS username [jonkq]:jonkq\n",
      "Enter your password:········\n",
      "WRDS recommends setting up a .pgpass file.\n",
      "You can find more info here:\n",
      "https://www.postgresql.org/docs/9.5/static/libpq-pgpass.html.\n",
      "Loading library list...\n",
      "Done\n"
     ]
    }
   ],
   "source": [
    "db = wrds.Connection(wrds_username='jonkq')\n",
    "db.create_pgpass_file()"
   ]
  },
  {
   "cell_type": "code",
   "execution_count": 3,
   "id": "sustained-spanking",
   "metadata": {},
   "outputs": [],
   "source": [
    "aapl=db.raw_sql(\"select date, ret from crsp.dsf where permco in (7) and date>='1999-12-31' and date<='2020-12-31'\")\n",
    "aapl.to_csv('aapl.csv')\n",
    "\n",
    "gs=db.raw_sql(\"select date, ret from crsp.dsf where permco in (35048) and date>='1999-12-31' and date<='2020-12-31'\")\n",
    "gs.to_csv('gs.csv')\n",
    "\n",
    "msft=db.raw_sql(\"select date, ret from crsp.dsf where permco in (8048) and date>='1999-12-31' and date<='2020-12-31'\")\n",
    "msft.to_csv('msft.csv')\n",
    "\n",
    "pg=db.raw_sql(\"select date, ret from crsp.dsf where permco in (21446) and date>='1999-12-31' and date<='2020-12-31'\")\n",
    "pg.to_csv('pg.csv')\n",
    "\n",
    "ge=db.raw_sql(\"select date, ret from crsp.dsf where permco in (20792) and date>='1999-12-31' and date<='2020-12-31'\")\n",
    "ge.to_csv('ge.csv')"
   ]
  },
  {
   "cell_type": "code",
   "execution_count": 5,
   "id": "expired-eating",
   "metadata": {},
   "outputs": [],
   "source": [
    "aapl = pd.read_csv('aapl.csv', index_col=0)\n",
    "gs = pd.read_csv('gs.csv', usecols=['ret']).squeeze()\n",
    "msft = pd.read_csv('msft.csv', usecols=['ret']).squeeze()\n",
    "pg = pd.read_csv('pg.csv', usecols=['ret']).squeeze()\n",
    "ge = pd.read_csv('ge.csv', usecols=['ret']).squeeze()"
   ]
  },
  {
   "cell_type": "markdown",
   "id": "accepting-farming",
   "metadata": {},
   "source": [
    "#### a)"
   ]
  },
  {
   "cell_type": "code",
   "execution_count": 38,
   "id": "continental-values",
   "metadata": {},
   "outputs": [
    {
     "name": "stdout",
     "output_type": "stream",
     "text": [
      "Mean of daily returns:\n",
      "aapl    0.001317\n",
      "gs      0.000522\n",
      "msft    0.000526\n",
      "pg      0.000378\n",
      "ge      0.000046\n",
      "dtype: float64\n",
      "\n",
      "Std of daily returns:\n",
      "aapl    0.025622\n",
      "gs      0.023606\n",
      "msft    0.019470\n",
      "pg      0.013628\n",
      "ge      0.021166\n",
      "dtype: float64\n"
     ]
    }
   ],
   "source": [
    "aapl.date = pd.to_datetime(aapl.date)\n",
    "ret = pd.DataFrame({'date': aapl.date, 'aapl': aapl.ret, 'gs':gs,\n",
    "                   'msft':msft, 'pg':pg, 'ge':ge})\n",
    "ret = ret.set_index('date')\n",
    "\n",
    "print('Mean of daily returns:',ret.apply(np.mean),sep='\\n')\n",
    "print('\\nStd of daily returns:',ret.apply(np.std),sep='\\n')"
   ]
  },
  {
   "cell_type": "markdown",
   "id": "continuous-laugh",
   "metadata": {},
   "source": [
    "#### b)"
   ]
  },
  {
   "cell_type": "code",
   "execution_count": 31,
   "id": "durable-morgan",
   "metadata": {
    "scrolled": true
   },
   "outputs": [
    {
     "data": {
      "text/plain": [
       "<AxesSubplot:title={'center':'Daily AAPL returns'}, ylabel='Density'>"
      ]
     },
     "execution_count": 31,
     "metadata": {},
     "output_type": "execute_result"
    },
    {
     "data": {
      "image/png": "[encoded data removed]",
      "text/plain": [
       "<Figure size 432x288 with 1 Axes>"
      ]
     },
     "metadata": {
      "needs_background": "light"
     },
     "output_type": "display_data"
    }
   ],
   "source": [
    "N = len(ret)\n",
    "norm_aapl = pd.Series(np.random.normal(ret.aapl.mean(),ret.aapl.std(),N))\n",
    "\n",
    "\n",
    "plt.title('Daily AAPL returns')\n",
    "plt.hist(ret.aapl, bins=50, density=True);\n",
    "norm_aapl.plot.kde();\n"
   ]
  },
  {
   "cell_type": "code",
   "execution_count": 30,
   "id": "supposed-culture",
   "metadata": {
    "scrolled": true
   },
   "outputs": [
    {
     "data": {
      "text/plain": [
       "<AxesSubplot:ylabel='Density'>"
      ]
     },
     "execution_count": 30,
     "metadata": {},
     "output_type": "execute_result"
    },
    {
     "data": {
      "image/png": "[encoded data removed]",
      "text/plain": [
       "<Figure size 432x288 with 1 Axes>"
      ]
     },
     "metadata": {
      "needs_background": "light"
     },
     "output_type": "display_data"
    }
   ],
   "source": [
    "norm_aapl.plot.kde()"
   ]
  }
 ],
 "metadata": {
  "kernelspec": {
   "display_name": "Python 3",
   "language": "python",
   "name": "python3"
  },
  "language_info": {
   "codemirror_mode": {
    "name": "ipython",
    "version": 3
   },
   "file_extension": ".py",
   "mimetype": "text/x-python",
   "name": "python",
   "nbconvert_exporter": "python",
   "pygments_lexer": "ipython3",
   "version": "3.8.8"
  }
 },
 "nbformat": 4,
 "nbformat_minor": 5
}
