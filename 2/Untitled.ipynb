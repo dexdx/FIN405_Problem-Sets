{
 "cells": [
  {
   "cell_type": "markdown",
   "metadata": {},
   "source": [
    "## Exercise 2"
   ]
  },
  {
   "cell_type": "code",
   "execution_count": 1,
   "metadata": {},
   "outputs": [],
   "source": [
    "import wrds\n",
    "import pandas as pd\n",
    "import matplotlib.pyplot as plt\n",
    "import numpy as np"
   ]
  },
  {
   "cell_type": "code",
   "execution_count": 2,
   "metadata": {},
   "outputs": [
    {
     "name": "stdout",
     "output_type": "stream",
     "text": [
      "Enter your WRDS username [felicity]:alina925\n",
      "Enter your password:········\n",
      "WRDS recommends setting up a .pgpass file.\n",
      "You can find more info here:\n",
      "https://www.postgresql.org/docs/9.5/static/libpq-pgpass.html.\n",
      "Loading library list...\n",
      "Done\n"
     ]
    }
   ],
   "source": [
    "db = wrds.Connection()\n",
    "db.create_pgpass_file()"
   ]
  },
  {
   "cell_type": "code",
   "execution_count": 4,
   "metadata": {},
   "outputs": [],
   "source": [
    "# Download data\n",
    "aapl=db.raw_sql(\"select date, ret from crsp.dsf where permco in (7) and date>='2010-01-01' and date<='2020-12-31'\")\n",
    "aapl.to_csv('aapl.csv')\n",
    "\n",
    "pg=db.raw_sql(\"select date, ret from crsp.dsf where permco in (21446) and date>='2010-01-01' and date<='2020-12-31'\")\n",
    "pg.to_csv('pg.csv')"
   ]
  },
  {
   "cell_type": "code",
   "execution_count": 5,
   "metadata": {},
   "outputs": [],
   "source": [
    "aapl = pd.read_csv('aapl.csv', index_col=0)\n",
    "pg = pd.read_csv('pg.csv', usecols=['ret']).squeeze()"
   ]
  },
  {
   "cell_type": "code",
   "execution_count": 8,
   "metadata": {},
   "outputs": [],
   "source": [
    "# convert date string to datetime\n",
    "aapl.date = pd.to_datetime(aapl.date)\n",
    "\n",
    "# concatenate series into one dataframe\n",
    "ret = pd.DataFrame({'date': aapl.date, 'aapl': aapl.ret, 'pg':pg})\n",
    "\n",
    "# set datetime as pd index\n",
    "ret = ret.set_index('date')"
   ]
  },
  {
   "cell_type": "markdown",
   "metadata": {},
   "source": [
    "### a)"
   ]
  },
  {
   "cell_type": "code",
   "execution_count": 10,
   "metadata": {},
   "outputs": [],
   "source": [
    "ret_w = ret.resample('W').sum()"
   ]
  },
  {
   "cell_type": "code",
   "execution_count": 16,
   "metadata": {},
   "outputs": [
    {
     "data": {
      "text/html": [
       "<div>\n",
       "<style scoped>\n",
       "    .dataframe tbody tr th:only-of-type {\n",
       "        vertical-align: middle;\n",
       "    }\n",
       "\n",
       "    .dataframe tbody tr th {\n",
       "        vertical-align: top;\n",
       "    }\n",
       "\n",
       "    .dataframe thead th {\n",
       "        text-align: right;\n",
       "    }\n",
       "</style>\n",
       "<table border=\"1\" class=\"dataframe\">\n",
       "  <thead>\n",
       "    <tr style=\"text-align: right;\">\n",
       "      <th></th>\n",
       "      <th>aapl</th>\n",
       "      <th>pg</th>\n",
       "    </tr>\n",
       "  </thead>\n",
       "  <tbody>\n",
       "    <tr>\n",
       "      <th>count</th>\n",
       "      <td>574.000000</td>\n",
       "      <td>574.000000</td>\n",
       "    </tr>\n",
       "    <tr>\n",
       "      <th>mean</th>\n",
       "      <td>0.006027</td>\n",
       "      <td>0.002321</td>\n",
       "    </tr>\n",
       "    <tr>\n",
       "      <th>std</th>\n",
       "      <td>0.038903</td>\n",
       "      <td>0.021783</td>\n",
       "    </tr>\n",
       "    <tr>\n",
       "      <th>min</th>\n",
       "      <td>-0.180304</td>\n",
       "      <td>-0.110265</td>\n",
       "    </tr>\n",
       "    <tr>\n",
       "      <th>25%</th>\n",
       "      <td>-0.017382</td>\n",
       "      <td>-0.009292</td>\n",
       "    </tr>\n",
       "    <tr>\n",
       "      <th>50%</th>\n",
       "      <td>0.007690</td>\n",
       "      <td>0.002472</td>\n",
       "    </tr>\n",
       "    <tr>\n",
       "      <th>75%</th>\n",
       "      <td>0.029414</td>\n",
       "      <td>0.014700</td>\n",
       "    </tr>\n",
       "    <tr>\n",
       "      <th>max</th>\n",
       "      <td>0.143230</td>\n",
       "      <td>0.111966</td>\n",
       "    </tr>\n",
       "  </tbody>\n",
       "</table>\n",
       "</div>"
      ],
      "text/plain": [
       "             aapl          pg\n",
       "count  574.000000  574.000000\n",
       "mean     0.006027    0.002321\n",
       "std      0.038903    0.021783\n",
       "min     -0.180304   -0.110265\n",
       "25%     -0.017382   -0.009292\n",
       "50%      0.007690    0.002472\n",
       "75%      0.029414    0.014700\n",
       "max      0.143230    0.111966"
      ]
     },
     "execution_count": 16,
     "metadata": {},
     "output_type": "execute_result"
    }
   ],
   "source": [
    "ret_w.describe()"
   ]
  },
  {
   "cell_type": "code",
   "execution_count": 31,
   "metadata": {},
   "outputs": [
    {
     "name": "stdout",
     "output_type": "stream",
     "text": [
      "The expected return of Apple is  0.3134186754922118 standard deviation is 0.2805339934064932 \n",
      "\n",
      "The expected return of P&G is  0.12071312071235513 standard deviation is 0.15708213895976741 \n",
      "\n",
      "The correlation is 0.32075620422298096 \n",
      "\n"
     ]
    }
   ],
   "source": [
    "# expected return\n",
    "e_ret_aapl = ret_w.mean().aapl * 52\n",
    "e_ret_pg = ret_w.mean().pg * 52\n",
    "\n",
    "#std\n",
    "std_aapl = ret_w.std().aapl * np.sqrt(52)\n",
    "std_pg = ret_w.std().pg * np.sqrt(52)\n",
    "\n",
    "#correlation\n",
    "x = ret_w[\"aapl\"]\n",
    "y = ret_w[\"pg\"]\n",
    "coeff = x.corr(y)\n",
    "\n",
    "print(\"The expected return of Apple is \", e_ret_aapl, \"standard deviation is\", std_aapl, \"\\n\")\n",
    "print(\"The expected return of P&G is \", e_ret_pg, \"standard deviation is\", std_pg, \"\\n\")\n",
    "print(\"The correlation is\", coeff, \"\\n\")"
   ]
  },
  {
   "cell_type": "markdown",
   "metadata": {},
   "source": [
    "### b)"
   ]
  },
  {
   "cell_type": "code",
   "execution_count": 37,
   "metadata": {},
   "outputs": [],
   "source": [
    "# set portfolio weights (also including leverage)\n",
    "w = np.arange(-0.5,1.6,0.1)"
   ]
  },
  {
   "cell_type": "code",
   "execution_count": 61,
   "metadata": {},
   "outputs": [
    {
     "data": {
      "image/png": "[encoded data removed]",
      "text/plain": [
       "<Figure size 432x288 with 1 Axes>"
      ]
     },
     "metadata": {
      "needs_background": "light"
     },
     "output_type": "display_data"
    }
   ],
   "source": [
    "# calculate portfolio return and std\n",
    "r_p = w * e_ret_aapl + (1-w) * e_ret_pg\n",
    "std_p = np.sqrt((w*std_aapl)**2 + (1-w)**2*std_pg**2 + 2*w*(1-w)*coeff*std_aapl*std_pg)\n",
    "\n",
    "#plot\n",
    "plt.plot(std_p*100,r_p*100,label=\"Frontier\")\n",
    "plt.xlabel('Portfolio std (%)')\n",
    "plt.ylabel('Portfolio expected return (%)')\n",
    "plt.title('Mean Standard deviation Frontier')\n",
    "plt.plot(std_aapl*100,e_ret_aapl*100,\"ro\", label=\"100% AAPL\")\n",
    "plt.plot(std_pg*100,e_ret_pg*100,\"bo\", label=\"100% P&G\")\n",
    "plt.legend()\n",
    "plt.show()"
   ]
  },
  {
   "cell_type": "markdown",
   "metadata": {},
   "source": [
    "### c)"
   ]
  },
  {
   "cell_type": "code",
   "execution_count": 64,
   "metadata": {},
   "outputs": [
    {
     "name": "stdout",
     "output_type": "stream",
     "text": [
      "The minimum variance portfolio is composed of  14.033845496618047 % of Apple, and  85.96615450338196 % of P&G\n",
      "\n",
      "The expected return is  0.14775712053356085  The std is  0.15230108593641728 \n",
      "\n",
      "The Sharpe Ratio is  0.8716754691360793\n"
     ]
    }
   ],
   "source": [
    "# to minimize variance\n",
    "w_min = (std_pg**2 - coeff*std_aapl*std_pg)/(std_aapl**2 + std_pg**2 - 2*coeff*std_aapl*std_pg)\n",
    "\n",
    "wmin_r_p = w_min * e_ret_aapl + (1-w_min) * e_ret_pg\n",
    "wmin_std_p = np.sqrt((w_min*std_aapl)**2 + (1-w_min)**2*std_pg**2 + 2*w_min*(1-w_min)*coeff*std_aapl*std_pg)\n",
    "\n",
    "rf = 0.015\n",
    "sh = (wmin_r_p - rf)/wmin_std_p\n",
    "\n",
    "print(\"The minimum variance portfolio is composed of \" ,w_min*100, \"% of Apple, and \" ,(1-w_min)*100, \"% of P&G\\n\")\n",
    "print(\"The expected return is \", wmin_r_p, \" The std is \", wmin_std_p, \"\\n\")\n",
    "print(\"The Sharpe Ratio is \", sh)\n",
    "\n",
    "\n"
   ]
  },
  {
   "cell_type": "markdown",
   "metadata": {},
   "source": [
    "### d)"
   ]
  },
  {
   "cell_type": "code",
   "execution_count": 101,
   "metadata": {},
   "outputs": [
    {
     "data": {
      "image/png": "[encoded data removed]",
      "text/plain": [
       "<Figure size 432x288 with 1 Axes>"
      ]
     },
     "metadata": {
      "needs_background": "light"
     },
     "output_type": "display_data"
    }
   ],
   "source": [
    "# invest in two risky and one risk free assets\n",
    "w1 = np.zeros(1)\n",
    "w2 = np.zeros(1)\n",
    "for i in range(11):\n",
    "    temp = np.arange(i/10,1.09,0.1)\n",
    "    num = len(temp)\n",
    "    w2 = np.concatenate((w2,temp))\n",
    "    w1 = np.concatenate((w1,np.ones(len(temp))*i/10))\n",
    "\n",
    "mixr_p = w1*e_ret_aapl + w2*e_ret_pg + (1-w1-w2)*rf\n",
    "mixstd_p = np.sqrt((w1*std_aapl)**2 + w2**2*std_pg**2 + 2*w1*w2*coeff*std_aapl*std_pg)\n",
    "\n",
    "#plot\n",
    "plt.plot(mixstd_p*100,mixr_p*100,label=\"Frontier\")\n",
    "plt.xlabel('Portfolio std (%)')\n",
    "plt.ylabel('Portfolio expected return (%)')\n",
    "plt.title('3 Assets Mean Standard deviation Frontier')\n",
    "plt.plot(std_aapl*100,e_ret_aapl*100,\"ro\", label=\"100% AAPL\")\n",
    "plt.plot(std_pg*100,e_ret_pg*100,\"bo\", label=\"100% P&G\")\n",
    "plt.plot(0,rf*100,\"go\",label=\"risk free\")\n",
    "plt.legend()\n",
    "plt.show()\n"
   ]
  },
  {
   "cell_type": "markdown",
   "metadata": {},
   "source": [
    "### e)"
   ]
  },
  {
   "cell_type": "code",
   "execution_count": 103,
   "metadata": {},
   "outputs": [],
   "source": [
    "from sympy import symbols, solve"
   ]
  },
  {
   "cell_type": "code",
   "execution_count": 171,
   "metadata": {},
   "outputs": [],
   "source": [
    "# check that the result from solver function is real number\n",
    "def goodnumber(str):\n",
    "    try: \n",
    "        float(str)\n",
    "    except TypeError: \n",
    "        return False\n",
    "    return True"
   ]
  },
  {
   "cell_type": "code",
   "execution_count": 177,
   "metadata": {},
   "outputs": [],
   "source": [
    "# std = 0.2\n",
    "w1opt = np.zeros(0)\n",
    "w2opt = np.zeros(0)\n",
    "\n",
    "for ii in range(1001):\n",
    "    w1 = ii/1000\n",
    "    x = symbols('x')\n",
    "    expr = (w1*std_aapl)**2 + x**2*std_pg**2 + 2*w1*x*coeff*std_aapl*std_pg - 0.2**2\n",
    "    w2 = solve(expr)\n",
    "    \n",
    "    if goodnumber(w2[1]):\n",
    "        if w1 + w2[1] < 1:\n",
    "            temp = w2[1]\n",
    "            w1opt = np.concatenate((w1opt,np.ones(1)*w1))\n",
    "            w2opt = np.concatenate((w2opt,np.ones(1)*temp))\n",
    "        "
   ]
  },
  {
   "cell_type": "code",
   "execution_count": 197,
   "metadata": {},
   "outputs": [
    {
     "name": "stdout",
     "output_type": "stream",
     "text": [
      "The optimal weight of Apple is  [61.4] %\n",
      "\n",
      "The optimal weight of P&G is  [38.4742323847997] %\n",
      "\n",
      "The optimal weight of the risk free is [0.125767615200301] %\n",
      "\n"
     ]
    }
   ],
   "source": [
    "# maximize return with given std\n",
    "mixr_p = w1opt*e_ret_aapl + w2opt*e_ret_pg + (1-w1opt-w2opt)*rf\n",
    "maxret = np.amax(mixr_p)\n",
    "index = np.where(mixr_p == maxret)\n",
    "\n",
    "print(\"The optimal weight of Apple is \", w1opt[index]*100, \"%\\n\")\n",
    "print(\"The optimal weight of P&G is \", w2opt[index]*100, \"%\\n\")\n",
    "print(\"The optimal weight of the risk free is\" ,(1-w1opt[index]-w2opt[index])*100, \"%\\n\")"
   ]
  },
  {
   "cell_type": "code",
   "execution_count": 202,
   "metadata": {},
   "outputs": [
    {
     "name": "stdout",
     "output_type": "stream",
     "text": [
      "The value of the risk aversion coefficient is [5.55098285806344]\n"
     ]
    }
   ],
   "source": [
    "# compute risk aversion coefficient\n",
    "## From the First Order Conditions deriving for Apple:\n",
    "a = (e_ret_aapl-rf)/(w1opt[index]*std_aapl**2 + w2opt[index]*coeff*std_aapl*std_pg)\n",
    "print(\"The value of the risk aversion coefficient is\", a)"
   ]
  },
  {
   "cell_type": "markdown",
   "metadata": {},
   "source": [
    "### f"
   ]
  },
  {
   "cell_type": "code",
   "execution_count": 204,
   "metadata": {},
   "outputs": [
    {
     "name": "stdout",
     "output_type": "stream",
     "text": [
      "The mean is 0.238901378476313 \n",
      "The Sharpe ratio is 1.11950689238157\n"
     ]
    }
   ],
   "source": [
    "sharpe = (maxret - rf)/0.2\n",
    "print(\"The mean is\", maxret, \"\\nThe Sharpe ratio is\", sharpe)\n"
   ]
  },
  {
   "cell_type": "code",
   "execution_count": null,
   "metadata": {},
   "outputs": [],
   "source": []
  }
 ],
 "metadata": {
  "kernelspec": {
   "display_name": "Python 3",
   "language": "python",
   "name": "python3"
  },
  "language_info": {
   "codemirror_mode": {
    "name": "ipython",
    "version": 3
   },
   "file_extension": ".py",
   "mimetype": "text/x-python",
   "name": "python",
   "nbconvert_exporter": "python",
   "pygments_lexer": "ipython3",
   "version": "3.7.6"
  }
 },
 "nbformat": 4,
 "nbformat_minor": 4
}
