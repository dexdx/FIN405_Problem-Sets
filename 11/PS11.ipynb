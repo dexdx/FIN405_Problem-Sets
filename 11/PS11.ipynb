{
 "cells": [
  {
   "cell_type": "code",
   "execution_count": 31,
   "id": "aggregate-description",
   "metadata": {},
   "outputs": [],
   "source": [
    "import numpy as np\n",
    "import pandas as pd"
   ]
  },
  {
   "cell_type": "markdown",
   "id": "weekly-filename",
   "metadata": {},
   "source": [
    "## a)"
   ]
  },
  {
   "cell_type": "code",
   "execution_count": 12,
   "id": "referenced-drill",
   "metadata": {},
   "outputs": [],
   "source": [
    "S = np.array([.160, .203, .248, .271, .210, .200, .187])\n",
    "\n",
    "Cor = [[1,     0.488, 0.478, 0.515, 0.439, 0.512, 0.491],\n",
    "       [0.488, 1,     0.664, 0.655, 0.310, 0.608, 0.779],\n",
    "       [0.478, 0.664, 1,     0.861, 0.355, 0.783, 0.668],\n",
    "       [0.515, 0.655, 0.861, 1,     0.354, 0.777, 0.653],\n",
    "       [0.439, 0.310, 0.355, 0.354, 1,     0.405, 0.306],\n",
    "       [0.512, 0.608, 0.783, 0.777, 0.405, 1,     0.652],\n",
    "       [0.491, 0.779, 0.668, 0.653, 0.306, 0.652, 1]]\n",
    "\n",
    "Sigma = np.diag(S) @ Cor @ np.diag(S)\n",
    "\n",
    "w_eq = np.transpose(np.array([.016, .022, .052, .055, .116, .124, .615]))"
   ]
  },
  {
   "cell_type": "code",
   "execution_count": 13,
   "id": "broken-dividend",
   "metadata": {},
   "outputs": [
    {
     "data": {
      "text/plain": [
       "array([0.05512576, 0.09681265, 0.11701321, 0.12638136, 0.06023934,\n",
       "       0.0947477 , 0.10584065])"
      ]
     },
     "execution_count": 13,
     "metadata": {},
     "output_type": "execute_result"
    }
   ],
   "source": [
    "# a)\n",
    "mu_0 = 3.5 * np.matmul(Sigma, w_eq)\n",
    "mu_0"
   ]
  },
  {
   "cell_type": "markdown",
   "id": "threatened-european",
   "metadata": {},
   "source": [
    "## b)"
   ]
  },
  {
   "cell_type": "code",
   "execution_count": 15,
   "id": "electric-tyler",
   "metadata": {},
   "outputs": [
    {
     "name": "stdout",
     "output_type": "stream",
     "text": [
      "weights: \n",
      "[0.02718447 0.03737864 0.08834951 0.0934466  0.19708738 0.21067961\n",
      " 1.04490291]\n",
      "\n",
      "difference:\n",
      "[0.01118447 0.01537864 0.03634951 0.0384466  0.08108738 0.08667961\n",
      " 0.42990291]\n"
     ]
    }
   ],
   "source": [
    "tau = 0.03\n",
    "w2 = np.linalg.inv(2*(1+tau) * Sigma) @ mu_0\n",
    "print(\"weights: \" + \"\\n\" + str(w2) + \"\\n\")\n",
    "print(\"difference:\" + \"\\n\" + str(abs(w2-w_eq)))"
   ]
  },
  {
   "cell_type": "markdown",
   "id": "naval-painting",
   "metadata": {},
   "source": [
    "## c)"
   ]
  },
  {
   "cell_type": "code",
   "execution_count": 72,
   "id": "regulated-white",
   "metadata": {},
   "outputs": [
    {
     "data": {
      "text/plain": [
       "array([[ 0.00533873,  0.00902834,  0.01270213,  0.0274736 ,  0.00278032,\n",
       "         0.00253078,  0.00696171],\n",
       "       [ 0.00119431,  0.0119865 ,  0.00252273,  0.00302968,  0.00123464,\n",
       "         0.000309  , -0.0055593 ]])"
      ]
     },
     "execution_count": 72,
     "metadata": {},
     "output_type": "execute_result"
    }
   ],
   "source": [
    "P@((1+tau)*Sigma)"
   ]
  },
  {
   "cell_type": "code",
   "execution_count": 19,
   "id": "creative-harvest",
   "metadata": {},
   "outputs": [],
   "source": [
    "w_fr = w_eq[2]/(w_eq[5]+w_eq[2])\n",
    "w_uk = w_eq[5]/(w_eq[5]+w_eq[2])\n",
    "Omega = np.array([[0.025*tau, 0],\n",
    "                  [, 0.015*tau]])\n",
    "q = np.transpose(np.array([0.045, 0.02]))\n",
    "P = np.array([[0, 0, -w_fr, 1, 0, -w_uk, 0],\n",
    "              [0, 1, 0, 0, 0, 0, -1]])"
   ]
  },
  {
   "cell_type": "code",
   "execution_count": 20,
   "id": "passive-queens",
   "metadata": {},
   "outputs": [],
   "source": [
    "mu_hat = np.linalg.inv(np.linalg.inv(tau*Sigma) + np.transpose(P) @ np.linalg.inv(Omega) @ P) \\\n",
    "@ (np.linalg.inv(tau*Sigma) @ mu_0 + np.transpose(P) @ np.linalg.inv(Omega) @ q)\n",
    "\n",
    "Sigma_hat = Sigma + np.linalg.inv(np.linalg.inv(tau*Sigma) + np.transpose(P) @ np.linalg.inv(Omega) @ P)"
   ]
  },
  {
   "cell_type": "markdown",
   "id": "sudden-auction",
   "metadata": {},
   "source": [
    "## d)"
   ]
  },
  {
   "cell_type": "code",
   "execution_count": 26,
   "id": "international-indonesia",
   "metadata": {},
   "outputs": [],
   "source": [
    "w_opt = np.linalg.inv(2*Sigma_hat) @ mu_hat"
   ]
  },
  {
   "cell_type": "code",
   "execution_count": 32,
   "id": "coated-dryer",
   "metadata": {},
   "outputs": [],
   "source": [
    "countries = ['Australia','Canada','France','Germany','Japan','UK','USA']"
   ]
  },
  {
   "cell_type": "code",
   "execution_count": 61,
   "id": "intellectual-figure",
   "metadata": {},
   "outputs": [],
   "source": [
    "weights = pd.DataFrame({'w_market':w_eq, 'w_prior':w2, 'w_posterior2':w_opt}, index = countries)"
   ]
  },
  {
   "cell_type": "code",
   "execution_count": 62,
   "id": "latter-legend",
   "metadata": {
    "scrolled": true
   },
   "outputs": [
    {
     "data": {
      "text/html": [
       "<div>\n",
       "<style scoped>\n",
       "    .dataframe tbody tr th:only-of-type {\n",
       "        vertical-align: middle;\n",
       "    }\n",
       "\n",
       "    .dataframe tbody tr th {\n",
       "        vertical-align: top;\n",
       "    }\n",
       "\n",
       "    .dataframe thead th {\n",
       "        text-align: right;\n",
       "    }\n",
       "</style>\n",
       "<table border=\"1\" class=\"dataframe\">\n",
       "  <thead>\n",
       "    <tr style=\"text-align: right;\">\n",
       "      <th></th>\n",
       "      <th>w_market</th>\n",
       "      <th>w_prior</th>\n",
       "      <th>w_posterior2</th>\n",
       "    </tr>\n",
       "  </thead>\n",
       "  <tbody>\n",
       "    <tr>\n",
       "      <th>Australia</th>\n",
       "      <td>0.016</td>\n",
       "      <td>0.027184</td>\n",
       "      <td>0.027184</td>\n",
       "    </tr>\n",
       "    <tr>\n",
       "      <th>Canada</th>\n",
       "      <td>0.022</td>\n",
       "      <td>0.037379</td>\n",
       "      <td>0.467688</td>\n",
       "    </tr>\n",
       "    <tr>\n",
       "      <th>France</th>\n",
       "      <td>0.052</td>\n",
       "      <td>0.088350</td>\n",
       "      <td>0.028856</td>\n",
       "    </tr>\n",
       "    <tr>\n",
       "      <th>Germany</th>\n",
       "      <td>0.055</td>\n",
       "      <td>0.093447</td>\n",
       "      <td>0.294810</td>\n",
       "    </tr>\n",
       "    <tr>\n",
       "      <th>Japan</th>\n",
       "      <td>0.116</td>\n",
       "      <td>0.197087</td>\n",
       "      <td>0.197087</td>\n",
       "    </tr>\n",
       "    <tr>\n",
       "      <th>UK</th>\n",
       "      <td>0.124</td>\n",
       "      <td>0.210680</td>\n",
       "      <td>0.068810</td>\n",
       "    </tr>\n",
       "    <tr>\n",
       "      <th>USA</th>\n",
       "      <td>0.615</td>\n",
       "      <td>1.044903</td>\n",
       "      <td>0.614593</td>\n",
       "    </tr>\n",
       "  </tbody>\n",
       "</table>\n",
       "</div>"
      ],
      "text/plain": [
       "           w_market   w_prior  w_posterior2\n",
       "Australia     0.016  0.027184      0.027184\n",
       "Canada        0.022  0.037379      0.467688\n",
       "France        0.052  0.088350      0.028856\n",
       "Germany       0.055  0.093447      0.294810\n",
       "Japan         0.116  0.197087      0.197087\n",
       "UK            0.124  0.210680      0.068810\n",
       "USA           0.615  1.044903      0.614593"
      ]
     },
     "execution_count": 62,
     "metadata": {},
     "output_type": "execute_result"
    }
   ],
   "source": [
    "weights"
   ]
  },
  {
   "cell_type": "markdown",
   "id": "nearby-static",
   "metadata": {},
   "source": [
    "We see that by incorporating the view that Germany will outperform a market weighted France and UK, the posterior weight of Germany dramatically increases comparing to its prior weight, whereas that of France and UK decrease significantly in the posterior. Moreover, the view that Canada will outperform the US make their posterior weight dramatically increase and decrease respectively. "
   ]
  },
  {
   "cell_type": "markdown",
   "id": "former-salad",
   "metadata": {},
   "source": [
    "## e)"
   ]
  },
  {
   "cell_type": "code",
   "execution_count": 97,
   "id": "baking-newsletter",
   "metadata": {},
   "outputs": [],
   "source": [
    "Lambda = 1/2 * np.linalg.inv( P @ Sigma@ P.T + (1+1/tau)*Omega ) @ ( q - (1/(1+tau))*(P @ mu_0) )"
   ]
  },
  {
   "cell_type": "code",
   "execution_count": 100,
   "id": "republican-cliff",
   "metadata": {},
   "outputs": [
    {
     "name": "stdout",
     "output_type": "stream",
     "text": [
      "The view weights are:\n",
      "lambda_1 = 0.2014\n",
      "lambda_2 = 0.4303\n"
     ]
    }
   ],
   "source": [
    "print('The view weights are:\\nlambda_1 = {:.4}\\nlambda_2 = {:.4}'.format(Lambda[0],Lambda[1]))"
   ]
  },
  {
   "cell_type": "markdown",
   "id": "stretch-sender",
   "metadata": {},
   "source": [
    "## f)"
   ]
  },
  {
   "cell_type": "code",
   "execution_count": 87,
   "id": "buried-context",
   "metadata": {},
   "outputs": [],
   "source": [
    "P_jap = np.array([[0,0,0,0,1,0,0]])\n",
    "P3 = np.concatenate((P, P_jap), 0)\n",
    "q3 = np.append(q, 0.055)\n",
    "Omega3 = np.array([[0.025*tau, 0, 0],\n",
    "                   [0, 0.015*tau, 0],\n",
    "                   [0, 0, 0.04*tau]])"
   ]
  },
  {
   "cell_type": "code",
   "execution_count": 88,
   "id": "obvious-patent",
   "metadata": {},
   "outputs": [],
   "source": [
    "mu_hat3 = np.linalg.inv(np.linalg.inv(tau*Sigma) + np.transpose(P3) @ np.linalg.inv(Omega3) @ P3) \\\n",
    "@ (np.linalg.inv(tau*Sigma) @ mu_0 + np.transpose(P3) @ np.linalg.inv(Omega3) @ q3)\n",
    "\n",
    "Sigma_hat3 = Sigma + np.linalg.inv(np.linalg.inv(tau*Sigma) + np.transpose(P3) @ np.linalg.inv(Omega3) @ P3)"
   ]
  },
  {
   "cell_type": "code",
   "execution_count": 89,
   "id": "useful-manitoba",
   "metadata": {},
   "outputs": [],
   "source": [
    "w_opt3 = np.linalg.inv(2*Sigma_hat3) @ mu_hat3"
   ]
  },
  {
   "cell_type": "code",
   "execution_count": 90,
   "id": "following-sierra",
   "metadata": {
    "scrolled": false
   },
   "outputs": [
    {
     "data": {
      "text/html": [
       "<div>\n",
       "<style scoped>\n",
       "    .dataframe tbody tr th:only-of-type {\n",
       "        vertical-align: middle;\n",
       "    }\n",
       "\n",
       "    .dataframe tbody tr th {\n",
       "        vertical-align: top;\n",
       "    }\n",
       "\n",
       "    .dataframe thead th {\n",
       "        text-align: right;\n",
       "    }\n",
       "</style>\n",
       "<table border=\"1\" class=\"dataframe\">\n",
       "  <thead>\n",
       "    <tr style=\"text-align: right;\">\n",
       "      <th></th>\n",
       "      <th>w_market</th>\n",
       "      <th>w_prior</th>\n",
       "      <th>w_posterior2</th>\n",
       "      <th>w_posterior3</th>\n",
       "    </tr>\n",
       "  </thead>\n",
       "  <tbody>\n",
       "    <tr>\n",
       "      <th>Australia</th>\n",
       "      <td>0.016</td>\n",
       "      <td>0.027184</td>\n",
       "      <td>0.027184</td>\n",
       "      <td>0.027184</td>\n",
       "    </tr>\n",
       "    <tr>\n",
       "      <th>Canada</th>\n",
       "      <td>0.022</td>\n",
       "      <td>0.037379</td>\n",
       "      <td>0.467688</td>\n",
       "      <td>0.468789</td>\n",
       "    </tr>\n",
       "    <tr>\n",
       "      <th>France</th>\n",
       "      <td>0.052</td>\n",
       "      <td>0.088350</td>\n",
       "      <td>0.028856</td>\n",
       "      <td>0.028312</td>\n",
       "    </tr>\n",
       "    <tr>\n",
       "      <th>Germany</th>\n",
       "      <td>0.055</td>\n",
       "      <td>0.093447</td>\n",
       "      <td>0.294810</td>\n",
       "      <td>0.296652</td>\n",
       "    </tr>\n",
       "    <tr>\n",
       "      <th>Japan</th>\n",
       "      <td>0.116</td>\n",
       "      <td>0.197087</td>\n",
       "      <td>0.197087</td>\n",
       "      <td>0.164168</td>\n",
       "    </tr>\n",
       "    <tr>\n",
       "      <th>UK</th>\n",
       "      <td>0.124</td>\n",
       "      <td>0.210680</td>\n",
       "      <td>0.068810</td>\n",
       "      <td>0.067512</td>\n",
       "    </tr>\n",
       "    <tr>\n",
       "      <th>USA</th>\n",
       "      <td>0.615</td>\n",
       "      <td>1.044903</td>\n",
       "      <td>0.614593</td>\n",
       "      <td>0.613492</td>\n",
       "    </tr>\n",
       "  </tbody>\n",
       "</table>\n",
       "</div>"
      ],
      "text/plain": [
       "           w_market   w_prior  w_posterior2  w_posterior3\n",
       "Australia     0.016  0.027184      0.027184      0.027184\n",
       "Canada        0.022  0.037379      0.467688      0.468789\n",
       "France        0.052  0.088350      0.028856      0.028312\n",
       "Germany       0.055  0.093447      0.294810      0.296652\n",
       "Japan         0.116  0.197087      0.197087      0.164168\n",
       "UK            0.124  0.210680      0.068810      0.067512\n",
       "USA           0.615  1.044903      0.614593      0.613492"
      ]
     },
     "execution_count": 90,
     "metadata": {},
     "output_type": "execute_result"
    }
   ],
   "source": [
    "weights['w_posterior3'] = w_opt3\n",
    "weights"
   ]
  },
  {
   "cell_type": "markdown",
   "id": "proof-thirty",
   "metadata": {},
   "source": [
    "Since the view on Japan of 5.5% is lower than the prior on Japan of ~6%, its posterior weight decreases from 0.19 to 0.16. If we reduce Japan's view uncertainty from 0.04 to 0.01, we expect this decrease to be even more pronouced."
   ]
  },
  {
   "cell_type": "code",
   "execution_count": 92,
   "id": "usual-affair",
   "metadata": {},
   "outputs": [
    {
     "data": {
      "text/html": [
       "<div>\n",
       "<style scoped>\n",
       "    .dataframe tbody tr th:only-of-type {\n",
       "        vertical-align: middle;\n",
       "    }\n",
       "\n",
       "    .dataframe tbody tr th {\n",
       "        vertical-align: top;\n",
       "    }\n",
       "\n",
       "    .dataframe thead th {\n",
       "        text-align: right;\n",
       "    }\n",
       "</style>\n",
       "<table border=\"1\" class=\"dataframe\">\n",
       "  <thead>\n",
       "    <tr style=\"text-align: right;\">\n",
       "      <th></th>\n",
       "      <th>w_market</th>\n",
       "      <th>w_prior</th>\n",
       "      <th>w_posterior2</th>\n",
       "      <th>w_posterior3</th>\n",
       "      <th>w_posterior3_2</th>\n",
       "    </tr>\n",
       "  </thead>\n",
       "  <tbody>\n",
       "    <tr>\n",
       "      <th>Australia</th>\n",
       "      <td>0.016</td>\n",
       "      <td>0.027184</td>\n",
       "      <td>0.027184</td>\n",
       "      <td>0.027184</td>\n",
       "      <td>0.027184</td>\n",
       "    </tr>\n",
       "    <tr>\n",
       "      <th>Canada</th>\n",
       "      <td>0.022</td>\n",
       "      <td>0.037379</td>\n",
       "      <td>0.467688</td>\n",
       "      <td>0.468789</td>\n",
       "      <td>0.469417</td>\n",
       "    </tr>\n",
       "    <tr>\n",
       "      <th>France</th>\n",
       "      <td>0.052</td>\n",
       "      <td>0.088350</td>\n",
       "      <td>0.028856</td>\n",
       "      <td>0.028312</td>\n",
       "      <td>0.028001</td>\n",
       "    </tr>\n",
       "    <tr>\n",
       "      <th>Germany</th>\n",
       "      <td>0.055</td>\n",
       "      <td>0.093447</td>\n",
       "      <td>0.294810</td>\n",
       "      <td>0.296652</td>\n",
       "      <td>0.297702</td>\n",
       "    </tr>\n",
       "    <tr>\n",
       "      <th>Japan</th>\n",
       "      <td>0.116</td>\n",
       "      <td>0.197087</td>\n",
       "      <td>0.197087</td>\n",
       "      <td>0.164168</td>\n",
       "      <td>0.145403</td>\n",
       "    </tr>\n",
       "    <tr>\n",
       "      <th>UK</th>\n",
       "      <td>0.124</td>\n",
       "      <td>0.210680</td>\n",
       "      <td>0.068810</td>\n",
       "      <td>0.067512</td>\n",
       "      <td>0.066773</td>\n",
       "    </tr>\n",
       "    <tr>\n",
       "      <th>USA</th>\n",
       "      <td>0.615</td>\n",
       "      <td>1.044903</td>\n",
       "      <td>0.614593</td>\n",
       "      <td>0.613492</td>\n",
       "      <td>0.612865</td>\n",
       "    </tr>\n",
       "  </tbody>\n",
       "</table>\n",
       "</div>"
      ],
      "text/plain": [
       "           w_market   w_prior  w_posterior2  w_posterior3  w_posterior3_2\n",
       "Australia     0.016  0.027184      0.027184      0.027184        0.027184\n",
       "Canada        0.022  0.037379      0.467688      0.468789        0.469417\n",
       "France        0.052  0.088350      0.028856      0.028312        0.028001\n",
       "Germany       0.055  0.093447      0.294810      0.296652        0.297702\n",
       "Japan         0.116  0.197087      0.197087      0.164168        0.145403\n",
       "UK            0.124  0.210680      0.068810      0.067512        0.066773\n",
       "USA           0.615  1.044903      0.614593      0.613492        0.612865"
      ]
     },
     "execution_count": 92,
     "metadata": {},
     "output_type": "execute_result"
    }
   ],
   "source": [
    "Omega3_2 = np.array([[0.025*tau, 0, 0],\n",
    "                   [0, 0.015*tau, 0],\n",
    "                   [0, 0, 0.01*tau]])\n",
    "mu_hat3_2 = np.linalg.inv(np.linalg.inv(tau*Sigma) + np.transpose(P3) @ np.linalg.inv(Omega3_2) @ P3) \\\n",
    "@ (np.linalg.inv(tau*Sigma) @ mu_0 + np.transpose(P3) @ np.linalg.inv(Omega3_2) @ q3)\n",
    "Sigma_hat3_2 = Sigma + np.linalg.inv(np.linalg.inv(tau*Sigma) + np.transpose(P3) @ np.linalg.inv(Omega3_2) @ P3)\n",
    "w_opt3_2 = np.linalg.inv(2*Sigma_hat3_2) @ mu_hat3_2\n",
    "weights['w_posterior3_2'] = w_opt3_2\n",
    "weights"
   ]
  },
  {
   "cell_type": "markdown",
   "id": "simple-tolerance",
   "metadata": {},
   "source": [
    "Indeed, we see that reducing the uncertainty on Japan's view decreases its weight even more from 0.16 to 0.14."
   ]
  },
  {
   "cell_type": "code",
   "execution_count": 102,
   "id": "northern-accused",
   "metadata": {},
   "outputs": [],
   "source": [
    "Lambda3 = 1/2 * np.linalg.inv( P3 @ Sigma @ P3.T + (1+1/tau)*Omega3 ) @ ( q3 - (1/(1+tau))*(P3 @ mu_0) )"
   ]
  },
  {
   "cell_type": "code",
   "execution_count": 104,
   "id": "wired-treaty",
   "metadata": {},
   "outputs": [
    {
     "name": "stdout",
     "output_type": "stream",
     "text": [
      "The view weights are:\n",
      "lambda_1 = 0.2032\n",
      "lambda_2 = 0.4314\n",
      "lambda_3 = -0.03292\n"
     ]
    }
   ],
   "source": [
    "print('The view weights are:\\nlambda_1 = {:.4}\\nlambda_2 = {:.4}\\nlambda_3 = {:.4}'.format(Lambda3[0],Lambda3[1],Lambda3[2]))"
   ]
  }
 ],
 "metadata": {
  "kernelspec": {
   "display_name": "Python 3",
   "language": "python",
   "name": "python3"
  },
  "language_info": {
   "codemirror_mode": {
    "name": "ipython",
    "version": 3
   },
   "file_extension": ".py",
   "mimetype": "text/x-python",
   "name": "python",
   "nbconvert_exporter": "python",
   "pygments_lexer": "ipython3",
   "version": "3.8.8"
  }
 },
 "nbformat": 4,
 "nbformat_minor": 5
}
