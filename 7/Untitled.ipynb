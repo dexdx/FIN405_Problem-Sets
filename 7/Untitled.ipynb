{
 "cells": [
  {
   "cell_type": "markdown",
   "metadata": {},
   "source": [
    "# Assignment 7"
   ]
  },
  {
   "cell_type": "markdown",
   "metadata": {},
   "source": [
    "## 2. Beta and expected returns"
   ]
  },
  {
   "cell_type": "markdown",
   "metadata": {},
   "source": [
    "### a)"
   ]
  },
  {
   "cell_type": "code",
   "execution_count": 80,
   "metadata": {},
   "outputs": [],
   "source": [
    "import wrds\n",
    "import pandas as pd\n",
    "import matplotlib.pyplot as plt\n",
    "import numpy as np\n",
    "from sklearn.linear_model import LinearRegression"
   ]
  },
  {
   "cell_type": "code",
   "execution_count": 2,
   "metadata": {
    "scrolled": true
   },
   "outputs": [
    {
     "name": "stdout",
     "output_type": "stream",
     "text": [
      "Loading library list...\n",
      "Done\n",
      "Enter your WRDS username [jonkq]:jonkq\n",
      "Enter your password:········\n"
     ]
    }
   ],
   "source": [
    "db = wrds.Connection()\n",
    "db.create_pgpass_file()"
   ]
  },
  {
   "cell_type": "code",
   "execution_count": 3,
   "metadata": {},
   "outputs": [],
   "source": [
    "# get rf\n",
    "rf=db.raw_sql(\"select mcaldt, tmytm from crsp.tfz_mth_rf where kytreasnox = 2000001 and mcaldt>='1980-01-01' and mcaldt<='2019-12-31'\")\n",
    "rf.to_csv('rf.csv')\n",
    "# get value-weighted CRSP market return\n",
    "vwret = db.raw_sql(\"select date, vwretd from crsp.msi where date>='1980-01-01' and date<='2019-12-31'\")\n",
    "vwret.to_csv('vwret.csv')"
   ]
  },
  {
   "cell_type": "code",
   "execution_count": 4,
   "metadata": {},
   "outputs": [],
   "source": [
    "rf = pd.read_csv('rf.csv', usecols=['tmytm']).squeeze()\n",
    "#Compute the monthly simple rate\n",
    "rf_m = np.exp(rf/12/100)-1\n",
    "\n",
    "vwret = pd.read_csv('vwret.csv', usecols=['vwretd']).squeeze()"
   ]
  },
  {
   "cell_type": "code",
   "execution_count": 5,
   "metadata": {
    "scrolled": false
   },
   "outputs": [],
   "source": [
    "stocks = db.raw_sql(\"\"\"\n",
    "                select a.permno, a.date, a.ret, b.exchcd, b.shrcd, a.shrout, a.prc \n",
    "\n",
    "                from crsp.msf as a left join crsp.msenames as b \n",
    "                \n",
    "                on a.permno = b.permno and b.namedt <= a.date and a.date<=b.nameendt\n",
    "                \n",
    "                where a.date between '1980-01-01' and '2019-12-31'\n",
    "                and b.exchcd between 1 and 2\n",
    "                and b.shrcd between 10 and 11\"\"\",date_cols=['date'])\n",
    "\n",
    "stocks.to_csv('stocks.csv')"
   ]
  },
  {
   "cell_type": "markdown",
   "metadata": {},
   "source": [
    "### b)"
   ]
  },
  {
   "cell_type": "code",
   "execution_count": 8,
   "metadata": {},
   "outputs": [],
   "source": [
    "stocks_df = pd.pivot_table(data=stocks, values='ret', index='date', columns='permno')"
   ]
  },
  {
   "cell_type": "code",
   "execution_count": 36,
   "metadata": {},
   "outputs": [],
   "source": [
    "s = stocks_df.apply(sum)"
   ]
  },
  {
   "cell_type": "code",
   "execution_count": 37,
   "metadata": {},
   "outputs": [],
   "source": [
    "s = list(s.isna())"
   ]
  },
  {
   "cell_type": "code",
   "execution_count": 43,
   "metadata": {},
   "outputs": [],
   "source": [
    "s_i = []\n",
    "for i in range(len(s)):\n",
    "    if not s[i]:\n",
    "        s_i.append(i)"
   ]
  },
  {
   "cell_type": "code",
   "execution_count": 46,
   "metadata": {},
   "outputs": [],
   "source": [
    "stocks_df = stocks_df.iloc[:,s_i]"
   ]
  },
  {
   "cell_type": "code",
   "execution_count": 50,
   "metadata": {
    "scrolled": true
   },
   "outputs": [],
   "source": [
    "vwret_e = vwret - rf_m"
   ]
  },
  {
   "cell_type": "code",
   "execution_count": 53,
   "metadata": {},
   "outputs": [],
   "source": [
    "stocks_e = stocks_df - rf_m"
   ]
  },
  {
   "cell_type": "code",
   "execution_count": 70,
   "metadata": {},
   "outputs": [],
   "source": [
    "rf_m.index = stocks_df.index\n",
    "stocks_e = stocks_df.subtract(rf_m, axis = 0)"
   ]
  },
  {
   "cell_type": "code",
   "execution_count": 106,
   "metadata": {},
   "outputs": [],
   "source": [
    "N = stocks_e.shape[1]\n",
    "betas = []\n",
    "x = np.array(vwret_e).reshape((-1,1))\n",
    "\n",
    "for i in range(N):\n",
    "    y = np.array(stocks_e.iloc[:,i]).reshape((-1,1))\n",
    "    lm = LinearRegression().fit(x,y)\n",
    "    betas.append(lm.coef_.item())"
   ]
  },
  {
   "cell_type": "code",
   "execution_count": 191,
   "metadata": {},
   "outputs": [],
   "source": [
    "betas_ord = list(np.argsort(betas))\n",
    "betas_sort = list(np.sort(betas))\n",
    "\n",
    "stocks_avg = np.array(stocks_df.apply(np.mean))\n",
    "stocks_avg_sort = stocks_avg[betas_ord]"
   ]
  },
  {
   "cell_type": "code",
   "execution_count": 158,
   "metadata": {},
   "outputs": [],
   "source": [
    "beta_pfs = [betas_sort[i*27:(i+1)*27] for i in range(10)]\n",
    "beta_pfs[9].append(betas_sort[N-1])"
   ]
  },
  {
   "cell_type": "code",
   "execution_count": 161,
   "metadata": {},
   "outputs": [],
   "source": [
    "stocks_avg_sort_pfs = [stocks_avg_sort[i*27:(i+1)*27] for i in range(10)]\n",
    "stocks_avg_sort_pfs[9] = np.append(stocks_avg_sort_pfs[9], stocks_avg_sort[N-1])"
   ]
  },
  {
   "cell_type": "code",
   "execution_count": 162,
   "metadata": {},
   "outputs": [],
   "source": [
    "stocks_avg_sort_pfs_m = []\n",
    "beta_pfs_m = []\n",
    "for i in range(10):\n",
    "    stocks_avg_sort_pfs_m.append(np.mean(stocks_avg_sort_pfs[i]).item())\n",
    "    beta_pfs_m.append(np.mean(beta_pfs[i]).item())"
   ]
  },
  {
   "cell_type": "code",
   "execution_count": 163,
   "metadata": {
    "scrolled": false
   },
   "outputs": [
    {
     "data": {
      "text/plain": [
       "<matplotlib.collections.PathCollection at 0x276dca05eb0>"
      ]
     },
     "execution_count": 163,
     "metadata": {},
     "output_type": "execute_result"
    },
    {
     "data": {
      "image/png": "[encoded data removed]",
      "text/plain": [
       "<Figure size 432x288 with 1 Axes>"
      ]
     },
     "metadata": {
      "needs_background": "light"
     },
     "output_type": "display_data"
    }
   ],
   "source": [
    "plt.scatter(beta_pfs_m, stocks_avg_sort_pfs_m)\n",
    "plt.scatter(1, np.mean(vwret))"
   ]
  },
  {
   "cell_type": "markdown",
   "metadata": {},
   "source": [
    "The fitted line (Security Market Line) between the blue points (portfolios) would not go through the orange point (market). This is not consistent with CAPM since CAPM states that all points should lie on the SML."
   ]
  },
  {
   "cell_type": "markdown",
   "metadata": {},
   "source": [
    "### c)"
   ]
  },
  {
   "cell_type": "code",
   "execution_count": 182,
   "metadata": {},
   "outputs": [],
   "source": [
    "stocks1 = stocks_df.iloc[:12*19+12,:]\n",
    "stocks2 = stocks_df.iloc[12*19+12:,:]\n",
    "vwret1 = vwret.iloc[:12*19+12]\n",
    "vwret2 = vwret.iloc[12*19+12:]"
   ]
  },
  {
   "cell_type": "code",
   "execution_count": 184,
   "metadata": {
    "scrolled": true
   },
   "outputs": [],
   "source": [
    "betas1 = []\n",
    "betas2 = []\n",
    "x1 = np.array(vwret1).reshape((-1,1))\n",
    "x2 = np.array(vwret2).reshape((-1,1))\n",
    "\n",
    "for i in range(N):\n",
    "    y1 = np.array(stocks1.iloc[:,i]).reshape((-1,1))\n",
    "    y2 = np.array(stocks2.iloc[:,i]).reshape((-1,1))\n",
    "    lm1 = LinearRegression().fit(x1,y1)\n",
    "    lm2 = LinearRegression().fit(x2,y2)\n",
    "    betas1.append(lm1.coef_.item())\n",
    "    betas2.append(lm2.coef_.item())"
   ]
  },
  {
   "cell_type": "code",
   "execution_count": 186,
   "metadata": {},
   "outputs": [],
   "source": [
    "betas1_ord = list(np.argsort(betas1))\n",
    "betas2_ord = list(np.argsort(betas2))\n",
    "betas1_sort = list(np.sort(betas1))\n",
    "betas2_sort = list(np.sort(betas2))\n",
    "\n",
    "stocks1_avg = np.array(stocks1.apply(np.mean))\n",
    "stocks2_avg = np.array(stocks2.apply(np.mean))"
   ]
  },
  {
   "cell_type": "code",
   "execution_count": 188,
   "metadata": {},
   "outputs": [],
   "source": [
    "beta1_pfs = [betas1_sort[i*27:(i+1)*27] for i in range(10)]\n",
    "beta1_pfs[9].append(betas1_sort[N-1])\n",
    "beta2_pfs = [betas2_sort[i*27:(i+1)*27] for i in range(10)]\n",
    "beta2_pfs[9].append(betas2_sort[N-1])"
   ]
  },
  {
   "cell_type": "code",
   "execution_count": 190,
   "metadata": {},
   "outputs": [],
   "source": [
    "stocks2_avg_sort = stocks2_avg[betas1_ord]"
   ]
  }
 ],
 "metadata": {
  "kernelspec": {
   "display_name": "Python 3",
   "language": "python",
   "name": "python3"
  },
  "language_info": {
   "codemirror_mode": {
    "name": "ipython",
    "version": 3
   },
   "file_extension": ".py",
   "mimetype": "text/x-python",
   "name": "python",
   "nbconvert_exporter": "python",
   "pygments_lexer": "ipython3",
   "version": "3.8.8"
  }
 },
 "nbformat": 4,
 "nbformat_minor": 4
}
