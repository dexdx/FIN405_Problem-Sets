{
 "cells": [
  {
   "cell_type": "markdown",
   "metadata": {},
   "source": [
    "# Assignment 7"
   ]
  },
  {
   "cell_type": "markdown",
   "metadata": {},
   "source": [
    "## 2. Beta and expected returns"
   ]
  },
  {
   "cell_type": "markdown",
   "metadata": {},
   "source": [
    "### a)"
   ]
  },
  {
   "cell_type": "code",
   "execution_count": 1,
   "metadata": {},
   "outputs": [],
   "source": [
    "import wrds\n",
    "import pandas as pd\n",
    "import matplotlib.pyplot as plt\n",
    "import numpy as np\n",
    "from sklearn.linear_model import LinearRegression"
   ]
  },
  {
   "cell_type": "code",
   "execution_count": 2,
   "metadata": {
    "scrolled": true
   },
   "outputs": [
    {
     "name": "stdout",
     "output_type": "stream",
     "text": [
      "Loading library list...\n",
      "Done\n",
      "Enter your WRDS username [jonkq]:jonkq\n",
      "Enter your password:········\n"
     ]
    }
   ],
   "source": [
    "db = wrds.Connection()\n",
    "db.create_pgpass_file()"
   ]
  },
  {
   "cell_type": "code",
   "execution_count": 3,
   "metadata": {},
   "outputs": [],
   "source": [
    "# get rf\n",
    "rf=db.raw_sql(\"select mcaldt, tmytm from crsp.tfz_mth_rf where kytreasnox = 2000001 and mcaldt>='1980-01-01' and mcaldt<='2019-12-31'\")\n",
    "rf.to_csv('rf.csv')\n",
    "# get value-weighted CRSP market return\n",
    "vwret = db.raw_sql(\"select date, vwretd from crsp.msi where date>='1980-01-01' and date<='2019-12-31'\")\n",
    "vwret.to_csv('vwret.csv')"
   ]
  },
  {
   "cell_type": "code",
   "execution_count": 4,
   "metadata": {},
   "outputs": [],
   "source": [
    "rf = pd.read_csv('rf.csv', usecols=['tmytm']).squeeze()\n",
    "#Compute the monthly simple rate\n",
    "rf_m = np.exp(rf/12/100)-1\n",
    "\n",
    "vwret = pd.read_csv('vwret.csv', usecols=['vwretd']).squeeze()"
   ]
  },
  {
   "cell_type": "code",
   "execution_count": 5,
   "metadata": {
    "scrolled": false
   },
   "outputs": [],
   "source": [
    "stocks = db.raw_sql(\"\"\"\n",
    "                select a.permno, a.date, a.ret, b.exchcd, b.shrcd, a.shrout, a.prc \n",
    "\n",
    "                from crsp.msf as a left join crsp.msenames as b \n",
    "                \n",
    "                on a.permno = b.permno and b.namedt <= a.date and a.date<=b.nameendt\n",
    "                \n",
    "                where a.date between '1980-01-01' and '2019-12-31'\n",
    "                and b.exchcd between 1 and 2\n",
    "                and b.shrcd between 10 and 11\"\"\",date_cols=['date'])\n",
    "\n",
    "stocks.to_csv('stocks.csv')"
   ]
  },
  {
   "cell_type": "markdown",
   "metadata": {},
   "source": [
    "### b)"
   ]
  },
  {
   "cell_type": "code",
   "execution_count": 6,
   "metadata": {},
   "outputs": [],
   "source": [
    "# change table format from long to wide\n",
    "stocks_df = pd.pivot_table(data=stocks, values='ret', index='date', columns='permno')"
   ]
  },
  {
   "cell_type": "code",
   "execution_count": 7,
   "metadata": {},
   "outputs": [],
   "source": [
    "s = stocks_df.apply(sum)"
   ]
  },
  {
   "cell_type": "code",
   "execution_count": 8,
   "metadata": {},
   "outputs": [],
   "source": [
    "s = list(s.isna())"
   ]
  },
  {
   "cell_type": "code",
   "execution_count": 9,
   "metadata": {},
   "outputs": [],
   "source": [
    "s_i = []\n",
    "for i in range(len(s)):\n",
    "    if not s[i]:\n",
    "        s_i.append(i)"
   ]
  },
  {
   "cell_type": "code",
   "execution_count": 10,
   "metadata": {},
   "outputs": [],
   "source": [
    "# removing stocks containing NaN values\n",
    "stocks_df = stocks_df.iloc[:,s_i]"
   ]
  },
  {
   "cell_type": "code",
   "execution_count": 11,
   "metadata": {
    "scrolled": true
   },
   "outputs": [],
   "source": [
    "vwret_e = vwret - rf_m"
   ]
  },
  {
   "cell_type": "code",
   "execution_count": 12,
   "metadata": {},
   "outputs": [],
   "source": [
    "stocks_e = stocks_df - rf_m"
   ]
  },
  {
   "cell_type": "code",
   "execution_count": 13,
   "metadata": {},
   "outputs": [],
   "source": [
    "rf_m.index = stocks_df.index\n",
    "stocks_e = stocks_df.subtract(rf_m, axis = 0)"
   ]
  },
  {
   "cell_type": "code",
   "execution_count": 14,
   "metadata": {},
   "outputs": [],
   "source": [
    "# linear regression for all stocks for the whole period\n",
    "N = stocks_e.shape[1]\n",
    "alphas = []\n",
    "betas = []\n",
    "x = np.array(vwret_e).reshape((-1,1))\n",
    "\n",
    "for i in range(N):\n",
    "    y = np.array(stocks_e.iloc[:,i]).reshape((-1,1))\n",
    "    lm = LinearRegression().fit(x,y)\n",
    "    betas.append(lm.coef_.item())\n",
    "    alphas.append(lm.intercept_.item())"
   ]
  },
  {
   "cell_type": "code",
   "execution_count": 15,
   "metadata": {},
   "outputs": [],
   "source": [
    "# sort betas\n",
    "betas_ord = list(np.argsort(betas))\n",
    "betas_sort = list(np.sort(betas))\n",
    "\n",
    "# compute stocks average return\n",
    "stocks_avg = np.array(stocks_df.apply(np.mean))\n",
    "stocks_avg_sort = stocks_avg[betas_ord]"
   ]
  },
  {
   "cell_type": "code",
   "execution_count": 16,
   "metadata": {},
   "outputs": [],
   "source": [
    "# portfolios of betas\n",
    "beta_pfs = [betas_sort[i*27:(i+1)*27] for i in range(10)]\n",
    "beta_pfs[9].append(betas_sort[N-1])"
   ]
  },
  {
   "cell_type": "code",
   "execution_count": 17,
   "metadata": {},
   "outputs": [],
   "source": [
    "# portolios of average stock returns\n",
    "stocks_avg_sort_pfs = [stocks_avg_sort[i*27:(i+1)*27] for i in range(10)]\n",
    "stocks_avg_sort_pfs[9] = np.append(stocks_avg_sort_pfs[9], stocks_avg_sort[N-1])"
   ]
  },
  {
   "cell_type": "code",
   "execution_count": 18,
   "metadata": {},
   "outputs": [],
   "source": [
    "# average beta and return of sorted portfolios\n",
    "stocks_avg_sort_pfs_m = []\n",
    "beta_pfs_m = []\n",
    "for i in range(10):\n",
    "    stocks_avg_sort_pfs_m.append(np.mean(stocks_avg_sort_pfs[i]).item())\n",
    "    beta_pfs_m.append(np.mean(beta_pfs[i]).item())"
   ]
  },
  {
   "cell_type": "code",
   "execution_count": 19,
   "metadata": {},
   "outputs": [],
   "source": [
    "m1,b1 = np.polyfit(beta_pfs_m, stocks_avg_sort_pfs_m, 1)"
   ]
  },
  {
   "cell_type": "code",
   "execution_count": 38,
   "metadata": {
    "scrolled": true
   },
   "outputs": [
    {
     "data": {
      "image/png": "[encoded data removed]",
      "text/plain": [
       "<Figure size 432x288 with 1 Axes>"
      ]
     },
     "metadata": {
      "needs_background": "light"
     },
     "output_type": "display_data"
    }
   ],
   "source": [
    "plt.scatter(beta_pfs_m, stocks_avg_sort_pfs_m)\n",
    "plt.scatter(1, np.mean(vwret))\n",
    "plt.plot(beta_pfs_m, b1+m1*np.array(beta_pfs_m), label='regression line')\n",
    "plt.legend()\n",
    "plt.title('Decile portfolio beta vs average monthly return');"
   ]
  },
  {
   "cell_type": "markdown",
   "metadata": {},
   "source": [
    "The fitted line (Security Market Line) between the blue points (portfolios) would not go through the orange point (market). This is not consistent with CAPM since CAPM states that all points should lie on the SML."
   ]
  },
  {
   "cell_type": "markdown",
   "metadata": {},
   "source": [
    "### c)"
   ]
  },
  {
   "cell_type": "code",
   "execution_count": 21,
   "metadata": {},
   "outputs": [],
   "source": [
    "# split sets in two periods\n",
    "stocks1 = stocks_df.iloc[:12*19+12,:]\n",
    "stocks2 = stocks_df.iloc[12*19+12:,:]\n",
    "vwret1 = vwret.iloc[:12*19+12]\n",
    "vwret2 = vwret.iloc[12*19+12:]"
   ]
  },
  {
   "cell_type": "code",
   "execution_count": 39,
   "metadata": {
    "scrolled": true
   },
   "outputs": [],
   "source": [
    "# compute betas for the two periods\n",
    "betas1 = []\n",
    "betas2 = []\n",
    "x1 = np.array(vwret1).reshape((-1,1))\n",
    "x2 = np.array(vwret2).reshape((-1,1))\n",
    "\n",
    "for i in range(N):\n",
    "    y1 = np.array(stocks1.iloc[:,i]).reshape((-1,1))\n",
    "    y2 = np.array(stocks2.iloc[:,i]).reshape((-1,1))\n",
    "    lm1 = LinearRegression().fit(x1,y1)\n",
    "    lm2 = LinearRegression().fit(x2,y2)\n",
    "    betas1.append(lm1.coef_.item())\n",
    "    betas2.append(lm2.coef_.item())"
   ]
  },
  {
   "cell_type": "code",
   "execution_count": 23,
   "metadata": {},
   "outputs": [],
   "source": [
    "# sort everything based on order of betas in the first period\n",
    "betas1_ord = list(np.argsort(betas1))\n",
    "betas1_sort = list(np.sort(betas1))\n",
    "betas2_sort = list(np.array(betas2)[betas1_ord])\n",
    "\n",
    "# compute average returns in the two periods\n",
    "stocks1_avg = np.array(stocks1.apply(np.mean))\n",
    "stocks2_avg = np.array(stocks2.apply(np.mean))"
   ]
  },
  {
   "cell_type": "code",
   "execution_count": 24,
   "metadata": {},
   "outputs": [],
   "source": [
    "# portfolios of betas of two periods\n",
    "beta1_pfs = [betas1_sort[i*27:(i+1)*27] for i in range(10)]\n",
    "beta1_pfs[9].append(betas1_sort[N-1])\n",
    "beta2_pfs = [betas2_sort[i*27:(i+1)*27] for i in range(10)]\n",
    "beta2_pfs[9].append(betas2_sort[N-1])"
   ]
  },
  {
   "cell_type": "code",
   "execution_count": 25,
   "metadata": {},
   "outputs": [],
   "source": [
    "stocks2_avg_sort = stocks2_avg[betas1_ord]"
   ]
  },
  {
   "cell_type": "code",
   "execution_count": 26,
   "metadata": {},
   "outputs": [],
   "source": [
    "# portfolios of average returns in second period\n",
    "stocks2_avg_sort_pfs = [stocks2_avg_sort[i*27:(i+1)*27] for i in range(10)]\n",
    "stocks2_avg_sort_pfs[9] = np.append(stocks2_avg_sort_pfs[9], stocks2_avg_sort[N-1])"
   ]
  },
  {
   "cell_type": "code",
   "execution_count": 27,
   "metadata": {},
   "outputs": [],
   "source": [
    "# average return in second period, average beta in first and second period\n",
    "stocks2_avg_sort_pfs_m = []\n",
    "beta1_pfs_m = []\n",
    "beta2_pfs_m = []\n",
    "\n",
    "for i in range(10):\n",
    "    stocks2_avg_sort_pfs_m.append(np.mean(stocks2_avg_sort_pfs[i]).item())\n",
    "    beta1_pfs_m.append(np.mean(beta1_pfs[i]).item())\n",
    "    beta2_pfs_m.append(np.mean(beta2_pfs[i]).item())"
   ]
  },
  {
   "cell_type": "code",
   "execution_count": 28,
   "metadata": {},
   "outputs": [],
   "source": [
    "m2, b2 = np.polyfit(beta1_pfs_m, stocks2_avg_sort_pfs_m, 1)"
   ]
  },
  {
   "cell_type": "code",
   "execution_count": 41,
   "metadata": {
    "scrolled": true
   },
   "outputs": [
    {
     "data": {
      "image/png": "[encoded data removed]",
      "text/plain": [
       "<Figure size 432x288 with 1 Axes>"
      ]
     },
     "metadata": {
      "needs_background": "light"
     },
     "output_type": "display_data"
    }
   ],
   "source": [
    "plt.scatter(beta1_pfs_m, stocks2_avg_sort_pfs_m)\n",
    "plt.plot(beta1_pfs_m, b2+m2*np.array(beta1_pfs_m), label='regression line')\n",
    "plt.scatter(1, np.mean(vwret2))\n",
    "plt.legend()\n",
    "plt.title('Decile portfolio beta in first period vs\\n average return in second period');"
   ]
  },
  {
   "cell_type": "markdown",
   "metadata": {},
   "source": [
    "Neither in-sample (point b) nor out-of-sample (here) findings are consistent with CAPM as (beta, average return) coordinates lie not on a line. Moreover, the market return with its beta of one is far away from other portfolios' points."
   ]
  },
  {
   "cell_type": "code",
   "execution_count": 43,
   "metadata": {
    "scrolled": true
   },
   "outputs": [
    {
     "data": {
      "image/png": "[encoded data removed]",
      "text/plain": [
       "<Figure size 432x288 with 1 Axes>"
      ]
     },
     "metadata": {
      "needs_background": "light"
     },
     "output_type": "display_data"
    }
   ],
   "source": [
    "plt.scatter(beta1_pfs_m, beta2_pfs_m)\n",
    "plt.plot(beta1_pfs_m, beta1_pfs_m, 'r-', label='x=y')\n",
    "plt.legend()\n",
    "plt.title('beta in first period vs beta in second period');"
   ]
  },
  {
   "cell_type": "markdown",
   "metadata": {},
   "source": [
    "Surprisingly enough, portfolio betas are quite stable from period 1980-2000 to period 2000-2020, as the above plot shows."
   ]
  },
  {
   "cell_type": "markdown",
   "metadata": {},
   "source": [
    "### d)"
   ]
  },
  {
   "cell_type": "code",
   "execution_count": 31,
   "metadata": {},
   "outputs": [],
   "source": [
    "# betas of lowest and highest decile portolios\n",
    "beta_L = beta1_pfs_m[0]\n",
    "beta_H = beta1_pfs_m[9]\n",
    "\n",
    "# weights in BAB portfolio of low beta, high beta and risk free portfolio\n",
    "w_L = 1/beta_L\n",
    "w_H = 1/beta_H\n",
    "w_0 = -(w_L+w_H)\n",
    "\n",
    "BAB_beta = w_L*beta_L+w_H*beta_H"
   ]
  },
  {
   "cell_type": "code",
   "execution_count": 32,
   "metadata": {},
   "outputs": [],
   "source": [
    "rf2_m = np.mean(rf_m[12*19+12:])  #mean risk free\n",
    "ret_L_m = np.mean(stocks2_avg_sort_pfs_m[0]) #mean of low beta portfolio\n",
    "ret_H_m = np.mean(stocks2_avg_sort_pfs_m[9]) #mean of high beta portfolio\n",
    "\n",
    "BAB_m = w_L*ret_L_m + w_H*ret_H_m + w_0*rf2_m #mean of BAB portfolio"
   ]
  },
  {
   "cell_type": "code",
   "execution_count": 33,
   "metadata": {
    "scrolled": true
   },
   "outputs": [],
   "source": [
    "BAB_capm = b2 + m2*BAB_beta #capm prediction for BAB\n",
    "BAB_alpha = BAB_m - BAB_capm"
   ]
  },
  {
   "cell_type": "code",
   "execution_count": 34,
   "metadata": {
    "scrolled": false
   },
   "outputs": [
    {
     "name": "stdout",
     "output_type": "stream",
     "text": [
      "Bet against Beta (BAB) monthly return statistics\n",
      "\n",
      "BAB average return: 3.43%\n",
      "BAB CAPM prediction: 1.33%\n",
      "BAB alpha: 2.1%\n",
      "BAB beta: 2.0\n"
     ]
    }
   ],
   "source": [
    "print('Bet against Beta (BAB) monthly return statistics\\n')\n",
    "print('BAB average return: {:.3}%\\nBAB CAPM prediction: {:.3}%\\nBAB alpha: {:.3}%\\nBAB beta: {}'.format(100*BAB_m, 100*BAB_capm, 100*BAB_alpha, BAB_beta))"
   ]
  },
  {
   "cell_type": "markdown",
   "metadata": {},
   "source": [
    "This shows that there indeed exists a bet-against-beta factor which delivers unexplained excess return. Indeed, the beta of this zero-cost portfolio is 2. By looking at point c) out-of-sample SML, the average return CAPM would predict for this BAB portfolio is 1.33% whereas the observed performance is 3.43%, effectively yielding a positive alpha of 2.1%."
   ]
  },
  {
   "cell_type": "markdown",
   "metadata": {},
   "source": [
    "This could be explained by investors thinking high beta stocks deliver higher expected returns and rushing into them while at the same time neglecting low beta stocks. This has the effect of increasing high beta stocks' prices and decreasing low beta stocks' prices, which respectively decreases and increases expected returns. Below is a plot that shows a negative relationshiop between alpha and beta of decile portfolios of point b)."
   ]
  },
  {
   "cell_type": "code",
   "execution_count": 35,
   "metadata": {},
   "outputs": [],
   "source": [
    "alphas_sort = list(np.array(alphas)[betas_ord])\n",
    "alpha_pfs = [alphas_sort[i*27:(i+1)*27] for i in range(10)]\n",
    "alpha_pfs[9].append(alphas_sort[N-1])\n",
    "alpha_pfs_m = []\n",
    "for i in range(10):\n",
    "    alpha_pfs_m.append(np.mean(alpha_pfs[i]).item())"
   ]
  },
  {
   "cell_type": "code",
   "execution_count": 44,
   "metadata": {},
   "outputs": [
    {
     "data": {
      "image/png": "[encoded data removed]",
      "text/plain": [
       "<Figure size 432x288 with 1 Axes>"
      ]
     },
     "metadata": {
      "needs_background": "light"
     },
     "output_type": "display_data"
    }
   ],
   "source": [
    "plt.scatter(beta_pfs_m, alpha_pfs_m);"
   ]
  }
 ],
 "metadata": {
  "kernelspec": {
   "display_name": "Python 3",
   "language": "python",
   "name": "python3"
  },
  "language_info": {
   "codemirror_mode": {
    "name": "ipython",
    "version": 3
   },
   "file_extension": ".py",
   "mimetype": "text/x-python",
   "name": "python",
   "nbconvert_exporter": "python",
   "pygments_lexer": "ipython3",
   "version": "3.8.8"
  }
 },
 "nbformat": 4,
 "nbformat_minor": 4
}
