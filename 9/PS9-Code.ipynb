{
 "cells": [
  {
   "cell_type": "code",
   "execution_count": 1,
   "id": "capital-brook",
   "metadata": {},
   "outputs": [],
   "source": [
    "import wrds\n",
    "import pandas as pd\n",
    "import matplotlib.pyplot as plt\n",
    "import numpy as np\n",
    "from sklearn.linear_model import LinearRegression\n",
    "import scipy"
   ]
  },
  {
   "cell_type": "code",
   "execution_count": 3,
   "id": "after-replication",
   "metadata": {},
   "outputs": [
    {
     "name": "stdout",
     "output_type": "stream",
     "text": [
      "Loading library list...\n",
      "Done\n",
      "Enter your WRDS username [jonkq]:jonkq\n",
      "Enter your password:········\n"
     ]
    }
   ],
   "source": [
    "db = wrds.Connection()\n",
    "db.create_pgpass_file()"
   ]
  },
  {
   "cell_type": "markdown",
   "id": "floral-yahoo",
   "metadata": {},
   "source": [
    "### 1)"
   ]
  },
  {
   "cell_type": "code",
   "execution_count": 4,
   "id": "minor-capture",
   "metadata": {},
   "outputs": [],
   "source": [
    "# get rf\n",
    "rf=db.raw_sql(\"select mcaldt, tmytm from crsp.tfz_mth_rf where kytreasnox = 2000001 and mcaldt>='1980-01-01' and mcaldt<='2019-12-31'\")\n",
    "rf.to_csv('rf.csv')\n",
    "# get value-weighted CRSP market return\n",
    "vwret = db.raw_sql(\"select date, vwretd from crsp.msi where date>='1980-01-01' and date<='2019-12-31'\")\n",
    "vwret.to_csv('vwret.csv')"
   ]
  },
  {
   "cell_type": "code",
   "execution_count": 5,
   "id": "fitted-football",
   "metadata": {},
   "outputs": [],
   "source": [
    "rf = pd.read_csv('rf.csv', usecols=['tmytm']).squeeze()\n",
    "#Compute the monthly simple rate\n",
    "rf_m = np.exp(rf/12/100)-1\n",
    "\n",
    "vwret = pd.read_csv('vwret.csv', usecols=['vwretd']).squeeze()"
   ]
  },
  {
   "cell_type": "code",
   "execution_count": 11,
   "id": "fatal-dubai",
   "metadata": {},
   "outputs": [
    {
     "ename": "IndentationError",
     "evalue": "unexpected indent (<ipython-input-11-d47c6b8bd4e2>, line 3)",
     "output_type": "error",
     "traceback": [
      "\u001b[1;36m  File \u001b[1;32m\"<ipython-input-11-d47c6b8bd4e2>\"\u001b[1;36m, line \u001b[1;32m3\u001b[0m\n\u001b[1;33m    select a.permno, a.date, a.ret, b.exchcd, b.shrcd, a.shrout, a.prc\u001b[0m\n\u001b[1;37m    ^\u001b[0m\n\u001b[1;31mIndentationError\u001b[0m\u001b[1;31m:\u001b[0m unexpected indent\n"
     ]
    }
   ],
   "source": [
    "stocks = db.raw_sql(\"\"\"\n",
    "                select a.permno, a.date, a.ret, b.exchcd, b.shrcd, a.shrout, a.prc \n",
    "\n",
    "                from crsp.msf as a left join crsp.msenames as b \n",
    "                \n",
    "                on a.permno = b.permno and b.namedt <= a.date and a.date<=b.nameendt\n",
    "                \n",
    "                where a.date between '1980-01-01' and '2019-12-31'\n",
    "                and b.exchcd between 1 and 2\n",
    "                and b.shrcd between 10 and 11\"\"\",date_cols=['date'])\n",
    "\n",
    "stocks.to_csv('stocks.csv')"
   ]
  },
  {
   "cell_type": "code",
   "execution_count": 6,
   "id": "political-binary",
   "metadata": {},
   "outputs": [],
   "source": [
    "stocks = pd.read_csv('C:/Users/jonkq/Documents/EPFL/FIN-405/FIN405_Problem-Sets\\8\\stocks.csv')"
   ]
  },
  {
   "cell_type": "code",
   "execution_count": 7,
   "id": "widespread-cattle",
   "metadata": {},
   "outputs": [],
   "source": [
    "stocks = stocks.iloc[:,1:]"
   ]
  },
  {
   "cell_type": "code",
   "execution_count": 8,
   "id": "eastern-junction",
   "metadata": {},
   "outputs": [],
   "source": [
    "# change table format from long to wide\n",
    "stocks_df = pd.pivot_table(data=stocks, values='ret', index='date', columns='permno')"
   ]
  },
  {
   "cell_type": "code",
   "execution_count": 9,
   "id": "abroad-float",
   "metadata": {},
   "outputs": [],
   "source": [
    "s = stocks_df.apply(sum)\n",
    "s = list(s.isna())\n",
    "s_i = []\n",
    "for i in range(len(s)):\n",
    "    if not s[i]:\n",
    "        s_i.append(i)\n",
    "# removing stocks containing NaN values\n",
    "stocks_df = stocks_df.iloc[:,s_i]"
   ]
  },
  {
   "cell_type": "code",
   "execution_count": 10,
   "id": "outstanding-therapy",
   "metadata": {},
   "outputs": [],
   "source": [
    "vwret_e = vwret - rf_m\n",
    "stocks_e = stocks_df - rf_m"
   ]
  },
  {
   "cell_type": "markdown",
   "id": "intelligent-liability",
   "metadata": {},
   "source": [
    "### 2)"
   ]
  },
  {
   "cell_type": "code",
   "execution_count": 11,
   "id": "cardiovascular-turning",
   "metadata": {},
   "outputs": [],
   "source": [
    "N = stocks_df.shape[0]\n",
    "reversal_rets = np.empty(N-1)\n",
    "\n",
    "for m in range(1, N):\n",
    "    last_rets = stocks_df.iloc[m-1,:]\n",
    "    curr_rets = stocks_df.iloc[m,:]\n",
    "    last_rets_ord = list(np.argsort(last_rets))\n",
    "    loosers_idx = last_rets_ord[:10]\n",
    "    winners_idx = last_rets_ord[-10:]\n",
    "    loosers_ret = np.mean(curr_rets.iloc[loosers_idx])\n",
    "    winners_ret = np.mean(curr_rets.iloc[winners_idx])\n",
    "    reversal_ret = loosers_ret - winners_ret\n",
    "    reversal_rets[m-1] = reversal_ret"
   ]
  },
  {
   "cell_type": "markdown",
   "id": "developed-rhythm",
   "metadata": {},
   "source": [
    "### 3)"
   ]
  },
  {
   "cell_type": "code",
   "execution_count": 12,
   "id": "equivalent-voltage",
   "metadata": {
    "scrolled": true
   },
   "outputs": [
    {
     "name": "stdout",
     "output_type": "stream",
     "text": [
      "Reversal strategy monthly return statistics\n",
      "\n",
      "Average: 1.35%\n",
      "Std: 7.58%\n",
      "Sharpe ratio: 0.134\n"
     ]
    }
   ],
   "source": [
    "rev_avg = np.mean(reversal_rets)\n",
    "rev_std = np.std(reversal_rets)\n",
    "rev_sr = (rev_avg - np.mean(rf_m))/rev_std\n",
    "print('Reversal strategy monthly return statistics\\n\\nAverage: {:.3}%\\nStd: {:.3}%\\nSharpe ratio: {:.3}'.format(100*rev_avg, 100*rev_std, rev_sr))"
   ]
  },
  {
   "cell_type": "code",
   "execution_count": 13,
   "id": "broke-stewart",
   "metadata": {
    "scrolled": true
   },
   "outputs": [
    {
     "data": {
      "image/png": "[encoded data removed]",
      "text/plain": [
       "<Figure size 432x288 with 1 Axes>"
      ]
     },
     "metadata": {
      "needs_background": "light"
     },
     "output_type": "display_data"
    }
   ],
   "source": [
    "rev_cum = np.cumprod(1+reversal_rets)\n",
    "plt.plot(rev_cum)\n",
    "plt.title('Reversal strategy cumulative performance');"
   ]
  },
  {
   "cell_type": "markdown",
   "id": "supposed-graphic",
   "metadata": {},
   "source": [
    "### 4)"
   ]
  },
  {
   "cell_type": "code",
   "execution_count": 14,
   "id": "green-horror",
   "metadata": {},
   "outputs": [],
   "source": [
    "x = np.array(vwret[1:]).reshape(-1,1)\n",
    "y = reversal_rets.reshape(-1,1)\n",
    "lm1 = LinearRegression().fit(x, y)"
   ]
  },
  {
   "cell_type": "code",
   "execution_count": 15,
   "id": "peripheral-radar",
   "metadata": {},
   "outputs": [],
   "source": [
    "rev_beta = lm1.coef_.item()\n",
    "rev_alpha = lm1.intercept_.item()\n",
    "lm1_res = lm1.predict(x) - y\n",
    "lm1_ssr = np.square(lm1_res).sum()\n",
    "X = np.concatenate((np.ones(N-1).reshape(-1,1),x), 1)\n",
    "s_hat = lm1_ssr/(N-1-2)\n",
    "var_coefs = np.linalg.inv(X.T@X) * s_hat\n",
    "se_alpha = var_coefs[0,0]**(1/2)\n",
    "dfs = N-1-1-2\n",
    "rev_alpha_t_stat = rev_alpha/se_alpha\n",
    "rev_alpha_p_val = 1-scipy.stats.t(dfs).cdf(rev_alpha_t_stat)"
   ]
  },
  {
   "cell_type": "code",
   "execution_count": 16,
   "id": "seasonal-formation",
   "metadata": {
    "scrolled": true
   },
   "outputs": [
    {
     "name": "stdout",
     "output_type": "stream",
     "text": [
      "Reversal strategy vs CAPM\n",
      "\n",
      "Alpha: 0.0116 (p-value: 0.000553)\n",
      "Beta: 0.195\n"
     ]
    }
   ],
   "source": [
    "print('Reversal strategy vs CAPM\\n\\nAlpha: {:.3} (p-value: {:.3})\\nBeta: {:.3}'\n",
    "     .format(rev_alpha, rev_alpha_p_val, rev_beta))"
   ]
  },
  {
   "cell_type": "markdown",
   "id": "excessive-argentina",
   "metadata": {},
   "source": [
    "This regression clearly shows that the reversal strategy is not consistent with CAPM since this strategy produces a strongly significant monthly alpha of 1.16%."
   ]
  },
  {
   "cell_type": "markdown",
   "id": "iraqi-institution",
   "metadata": {},
   "source": [
    "### 5)"
   ]
  },
  {
   "cell_type": "code",
   "execution_count": 17,
   "id": "negative-genealogy",
   "metadata": {},
   "outputs": [],
   "source": [
    "N = stocks_df.shape[0]\n",
    "momentum_rets = []\n",
    "\n",
    "for m in range(12, N):\n",
    "    last_rets = np.array(stocks_df.iloc[(m-12):(m-1),:])\n",
    "    curr_rets = np.array(stocks_df.iloc[m,:])\n",
    "    last_rets_m = last_rets.mean(0)\n",
    "    last_rets_ord = list(np.argsort(last_rets_m))\n",
    "    loosers_idx = last_rets_ord[:10]\n",
    "    winners_idx = last_rets_ord[-10:]\n",
    "    loosers_ret = np.mean(curr_rets[loosers_idx])\n",
    "    winners_ret = np.mean(curr_rets[winners_idx])\n",
    "    momentum_ret = winners_ret - loosers_ret\n",
    "    momentum_rets.append(momentum_ret)\n",
    "momentum_rets = np.array(momentum_rets)"
   ]
  },
  {
   "cell_type": "markdown",
   "id": "charming-plant",
   "metadata": {},
   "source": [
    "### 6)"
   ]
  },
  {
   "cell_type": "code",
   "execution_count": 18,
   "id": "international-moment",
   "metadata": {},
   "outputs": [
    {
     "name": "stdout",
     "output_type": "stream",
     "text": [
      "Momentum strategy monthly return statistics\n",
      "\n",
      "Average: 0.148%\n",
      "Std: 9.62%\n",
      "Sharpe ratio: -0.0198\n"
     ]
    }
   ],
   "source": [
    "rev_avg = np.mean(momentum_rets)\n",
    "rev_std = np.std(momentum_rets)\n",
    "rev_sr = (rev_avg - np.mean(rf_m))/rev_std\n",
    "print('Momentum strategy monthly return statistics\\n\\nAverage: {:.3}%\\nStd: {:.3}%\\nSharpe ratio: {:.3}'.format(100*rev_avg, 100*rev_std, rev_sr))"
   ]
  },
  {
   "cell_type": "code",
   "execution_count": 19,
   "id": "pursuant-timing",
   "metadata": {},
   "outputs": [
    {
     "data": {
      "image/png": "[encoded data removed]",
      "text/plain": [
       "<Figure size 432x288 with 1 Axes>"
      ]
     },
     "metadata": {
      "needs_background": "light"
     },
     "output_type": "display_data"
    }
   ],
   "source": [
    "mom_cum = np.cumprod(1+momentum_rets)\n",
    "plt.plot(mom_cum)\n",
    "plt.title('Momentum strategy cumulative performance');"
   ]
  },
  {
   "cell_type": "markdown",
   "id": "adaptive-insurance",
   "metadata": {},
   "source": [
    "### 7)"
   ]
  },
  {
   "cell_type": "code",
   "execution_count": 20,
   "id": "southwest-doctor",
   "metadata": {},
   "outputs": [],
   "source": [
    "x1 = np.array(vwret[12:]).reshape(-1,1)\n",
    "x2 = reversal_rets[11:].reshape(-1,1)\n",
    "x = np.concatenate((x1,x2),1)\n",
    "y = momentum_rets.reshape(-1,1)\n",
    "lm2 = LinearRegression().fit(x, y)"
   ]
  },
  {
   "cell_type": "code",
   "execution_count": 21,
   "id": "trying-corporation",
   "metadata": {
    "scrolled": true
   },
   "outputs": [],
   "source": [
    "mom_beta_mkt = lm2.coef_[0][0].item()\n",
    "mom_beta_rev = lm2.coef_[0][1].item()\n",
    "mom_alpha = lm2.intercept_.item()\n",
    "lm2_res = lm2.predict(x) - y\n",
    "lm2_ssr = np.square(lm2_res).sum()\n",
    "X = np.concatenate((np.ones(N-12).reshape(-1,1),x), 1)\n",
    "s_hat = lm2_ssr/(N-12-2)\n",
    "var_coefs = np.linalg.inv(X.T@X) * s_hat\n",
    "se_alpha = var_coefs[0,0]**(1/2)\n",
    "dfs = N-12-1-2\n",
    "mom_alpha_t_stat = mom_alpha/se_alpha\n",
    "mom_alpha_p_val = 1-scipy.stats.t(dfs).cdf(mom_alpha_t_stat)\n",
    "mom_beta_mkt_pval = 1-scipy.stats.t(dfs).cdf(mom_beta_mkt/(var_coefs[1,1]**.5))\n",
    "mom_beta_rev_pval = 1-scipy.stats.t(dfs).cdf(mom_beta_rev/(var_coefs[2,2]**.5))"
   ]
  },
  {
   "cell_type": "code",
   "execution_count": 22,
   "id": "adolescent-version",
   "metadata": {
    "scrolled": true
   },
   "outputs": [
    {
     "name": "stdout",
     "output_type": "stream",
     "text": [
      "Momentum strategy vs CAPM and Reversal\n",
      "\n",
      "Alpha: 0.00141 (p-value: 0.379)\n",
      "Beta to market: -0.192 (p-value: 0.969)\n",
      "Beta to reversal: 0.147 (p-value: 0.00633)\n"
     ]
    }
   ],
   "source": [
    "print('Momentum strategy vs CAPM and Reversal\\n\\nAlpha: {:.3} (p-value: {:.3})\\nBeta to market: {:.3} (p-value: {:.3})\\nBeta to reversal: {:.3} (p-value: {:.3})'\n",
    "     .format(mom_alpha, mom_alpha_p_val, mom_beta_mkt, mom_beta_mkt_pval, mom_beta_rev, mom_beta_rev_pval))"
   ]
  },
  {
   "cell_type": "markdown",
   "id": "meaningful-immigration",
   "metadata": {},
   "source": [
    "The momentum strategy's alpha of 0.141% is not at all significant which implies that CAPM (or 2 factor model?) holds for this strategy."
   ]
  },
  {
   "cell_type": "markdown",
   "id": "detected-leader",
   "metadata": {},
   "source": [
    "### 8)"
   ]
  },
  {
   "cell_type": "code",
   "execution_count": 52,
   "id": "japanese-vegetable",
   "metadata": {},
   "outputs": [],
   "source": [
    "# Find the slope portfolio between Momentum, Reversal and Market portfolios\n",
    "pfs = np.concatenate((y,x2,x1),1)\n",
    "mu = pfs.mean(0)\n",
    "sig = np.cov(pfs, rowvar=False)\n",
    "sig_inv = np.linalg.inv(sig)\n",
    "B = sig_inv.sum(0) @ mu\n",
    "\n",
    "w = (sig_inv @ mu)/B"
   ]
  },
  {
   "cell_type": "code",
   "execution_count": 61,
   "id": "cutting-favorite",
   "metadata": {},
   "outputs": [
    {
     "name": "stdout",
     "output_type": "stream",
     "text": [
      "The optimal portfolio composition is:\n",
      "Momentum: 2.3%\n",
      "Reversal: 28.2%\n",
      "Market: 69.5%\n",
      "Total: 100.0%\n"
     ]
    }
   ],
   "source": [
    "print('The optimal portfolio composition is:\\nMomentum: {:.3}%\\nReversal: {:.3}%\\nMarket: {:.3}%\\nTotal: {}%'\n",
    "      .format(100*w[0], 100*w[1], 100*w[2], 100*w.sum()))"
   ]
  },
  {
   "cell_type": "code",
   "execution_count": 72,
   "id": "immediate-living",
   "metadata": {},
   "outputs": [],
   "source": [
    "pf_mu = w.dot(mu)\n",
    "pf_var = w.dot(sig).dot(w)\n",
    "pf_SR = (pf_mu-rf_m.mean())/np.sqrt(pf_var)"
   ]
  },
  {
   "cell_type": "code",
   "execution_count": 75,
   "id": "based-compound",
   "metadata": {},
   "outputs": [
    {
     "name": "stdout",
     "output_type": "stream",
     "text": [
      "The maximum Sharpe ratio that can be obtained with these three portfolios is 0.177.\n"
     ]
    }
   ],
   "source": [
    "print('The maximum Sharpe ratio that can be obtained with these three portfolios is {:.3}.'.format(pf_SR))"
   ]
  }
 ],
 "metadata": {
  "kernelspec": {
   "display_name": "Python 3",
   "language": "python",
   "name": "python3"
  },
  "language_info": {
   "codemirror_mode": {
    "name": "ipython",
    "version": 3
   },
   "file_extension": ".py",
   "mimetype": "text/x-python",
   "name": "python",
   "nbconvert_exporter": "python",
   "pygments_lexer": "ipython3",
   "version": "3.8.8"
  }
 },
 "nbformat": 4,
 "nbformat_minor": 5
}
