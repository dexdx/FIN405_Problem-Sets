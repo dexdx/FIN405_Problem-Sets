{
 "cells": [
  {
   "cell_type": "markdown",
   "metadata": {},
   "source": [
    "# Assignment 3\n"
   ]
  },
  {
   "cell_type": "markdown",
   "metadata": {},
   "source": [
    "## Exercise 2"
   ]
  },
  {
   "cell_type": "code",
   "execution_count": 2,
   "metadata": {},
   "outputs": [],
   "source": [
    "import wrds\n",
    "import pandas as pd\n",
    "import matplotlib.pyplot as plt\n",
    "import numpy as np\n"
   ]
  },
  {
   "cell_type": "code",
   "execution_count": 4,
   "metadata": {},
   "outputs": [
    {
     "name": "stdout",
     "output_type": "stream",
     "text": [
      "Enter your WRDS username [felicity]:alina925\n",
      "Enter your password:········\n",
      "WRDS recommends setting up a .pgpass file.\n",
      "You can find more info here:\n",
      "https://www.postgresql.org/docs/9.5/static/libpq-pgpass.html.\n",
      "Loading library list...\n",
      "Done\n"
     ]
    }
   ],
   "source": [
    "db = wrds.Connection()\n",
    "db.create_pgpass_file()"
   ]
  },
  {
   "cell_type": "code",
   "execution_count": 14,
   "metadata": {},
   "outputs": [],
   "source": []
  },
  {
   "cell_type": "code",
   "execution_count": 11,
   "metadata": {},
   "outputs": [],
   "source": [
    "#Get stocks\n",
    "stock1=db.raw_sql(\"select date, ret from crsp.msf where permco in (11308) and date>='1978-01-01' and date<='2020-12-31'\")\n",
    "stock1.to_csv('stock1.csv')\n",
    "\n",
    "stock2=db.raw_sql(\"select date, ret from crsp.msf where permco in (11850) and date>='1978-01-01' and date<='2020-12-31'\")\n",
    "stock2.to_csv('stock2.csv')\n",
    "\n",
    "stock3=db.raw_sql(\"select date, ret from crsp.msf where permco in (12490) and date>='1978-01-01' and date<='2020-12-31'\")\n",
    "stock3.to_csv('stock3.csv')\n",
    "\n",
    "stock4=db.raw_sql(\"select date, ret from crsp.msf where permco in (14541) and date>='1978-01-01' and date<='2020-12-31'\")\n",
    "stock4.to_csv('stock4.csv')\n",
    "\n",
    "stock5=db.raw_sql(\"select date, ret from crsp.msf where permco in (17830) and date>='1978-01-01' and date<='2020-12-31'\")\n",
    "stock5.to_csv('stock5.csv')\n",
    "\n",
    "stock6=db.raw_sql(\"select date, ret from crsp.msf where permco in (18163) and date>='1978-01-01' and date<='2020-12-31'\")\n",
    "stock6.to_csv('stock6.csv')\n",
    "\n",
    "stock7=db.raw_sql(\"select date, ret from crsp.msf where permco in (18542) and date>='1978-01-01' and date<='2020-12-31'\")\n",
    "stock7.to_csv('stock7.csv')\n",
    "\n",
    "stock8=db.raw_sql(\"select date, ret from crsp.msf where permco in (19502) and date>='1978-01-01' and date<='2020-12-31'\")\n",
    "stock8.to_csv('stock8.csv')\n",
    "\n",
    "stock9=db.raw_sql(\"select date, ret from crsp.msf where permco in (19561) and date>='1978-01-01' and date<='2020-12-31'\")\n",
    "stock9.to_csv('stock9.csv')\n",
    "\n",
    "stock10=db.raw_sql(\"select date, ret from crsp.msf where permco in (21936) and date>='1978-01-01' and date<='2020-12-31'\")\n",
    "stock10.to_csv('stock10.csv')\n",
    "\n",
    "stock11=db.raw_sql(\"select date, ret from crsp.msf where permco in (22111) and date>='1978-01-01' and date<='2020-12-31'\")\n",
    "stock11.to_csv('stock11.csv')\n",
    "\n",
    "stock12=db.raw_sql(\"select date, ret from crsp.msf where permco in (22592) and date>='1978-01-01' and date<='2020-12-31'\")\n",
    "stock12.to_csv('stock12.csv')\n",
    "\n",
    "stock13=db.raw_sql(\"select date, ret from crsp.msf where permco in (22752) and date>='1978-01-01' and date<='2020-12-31'\")\n",
    "stock13.to_csv('stock13.csv')\n",
    "\n",
    "stock14=db.raw_sql(\"select date, ret from crsp.msf where permco in (26403) and date>='1978-01-01' and date<='2020-12-31'\")\n",
    "stock14.to_csv('stock14.csv')\n",
    "\n",
    "stock15=db.raw_sql(\"select date, ret from crsp.msf where permco in (43449) and date>='1978-01-01' and date<='2020-12-31'\")\n",
    "stock15.to_csv('stock15.csv')\n",
    "\n",
    "stock16=db.raw_sql(\"select date, ret from crsp.msf where permco in (47896) and date>='1978-01-01' and date<='2020-12-31'\")\n",
    "stock16.to_csv('stock16.csv')\n",
    "\n",
    "stock17=db.raw_sql(\"select date, ret from crsp.msf where permco in (55976) and date>='1978-01-01' and date<='2020-12-31'\")\n",
    "stock17.to_csv('stock17.csv')\n",
    "\n",
    "stock18=db.raw_sql(\"select date, ret from crsp.msf where permco in (59176) and date>='1978-01-01' and date<='2020-12-31'\")\n",
    "stock18.to_csv('stock18.csv')\n",
    "\n",
    "stock19=db.raw_sql(\"select date, ret from crsp.msf where permco in (59328) and date>='1978-01-01' and date<='2020-12-31'\")\n",
    "stock19.to_csv('stock19.csv')\n",
    "\n",
    "stock20=db.raw_sql(\"select date, ret from crsp.msf where permco in (59459) and date>='1978-01-01' and date<='2020-12-31'\")\n",
    "stock20.to_csv('stock20.csv')"
   ]
  },
  {
   "cell_type": "code",
   "execution_count": 6,
   "metadata": {},
   "outputs": [],
   "source": [
    "#Read stocks\n",
    "stock = pd.read_csv('stock1.csv', index_col=0)\n",
    "s2 = pd.read_csv('stock2.csv', usecols=['ret']).squeeze()\n",
    "s3 = pd.read_csv('stock3.csv', usecols=['ret']).squeeze()\n",
    "s4 = pd.read_csv('stock4.csv', usecols=['ret']).squeeze()\n",
    "s5 = pd.read_csv('stock5.csv', usecols=['ret']).squeeze()\n",
    "s6 = pd.read_csv('stock6.csv', usecols=['ret']).squeeze()\n",
    "s7 = pd.read_csv('stock7.csv', usecols=['ret']).squeeze()\n",
    "s8 = pd.read_csv('stock8.csv', usecols=['ret']).squeeze()\n",
    "s9 = pd.read_csv('stock9.csv', usecols=['ret']).squeeze()\n",
    "s10 = pd.read_csv('stock10.csv', usecols=['ret']).squeeze()\n",
    "s11 = pd.read_csv('stock11.csv', usecols=['ret']).squeeze()\n",
    "s12 = pd.read_csv('stock12.csv', usecols=['ret']).squeeze()\n",
    "s13 = pd.read_csv('stock13.csv', usecols=['ret']).squeeze()\n",
    "s14 = pd.read_csv('stock14.csv', usecols=['ret']).squeeze()\n",
    "s15 = pd.read_csv('stock15.csv', usecols=['ret']).squeeze()\n",
    "s16 = pd.read_csv('stock16.csv', usecols=['ret']).squeeze()\n",
    "s17 = pd.read_csv('stock17.csv', usecols=['ret']).squeeze()\n",
    "s18 = pd.read_csv('stock18.csv', usecols=['ret']).squeeze()\n",
    "s19 = pd.read_csv('stock19.csv', usecols=['ret']).squeeze()\n",
    "s20 = pd.read_csv('stock20.csv', usecols=['ret']).squeeze()\n",
    "\n",
    "stock.date = pd.to_datetime(stock.date)\n",
    "ret = pd.DataFrame({'date': stock.date, 's1': stock.ret, 's2':s2,'s3':s3, 's4':s4, 's5':s5, 's6':s6, 's7':s7,\n",
    "                   's8':s8, 's9':s9, 's10':s10, 's11':s11, 's12':s12, 's13':s13, 's14':s14, 's15':s15,\n",
    "                   's16':s16, 's17':s17, 's18':s18, 's19':s19, 's20':s20 })\n",
    "ret = ret.set_index('date')"
   ]
  },
  {
   "cell_type": "code",
   "execution_count": 9,
   "metadata": {},
   "outputs": [
    {
     "data": {
      "text/plain": [
       "Series([], Name: ret, dtype: object)"
      ]
     },
     "execution_count": 9,
     "metadata": {},
     "output_type": "execute_result"
    }
   ],
   "source": [
    "s2"
   ]
  },
  {
   "cell_type": "code",
   "execution_count": null,
   "metadata": {},
   "outputs": [],
   "source": []
  },
  {
   "cell_type": "code",
   "execution_count": null,
   "metadata": {},
   "outputs": [],
   "source": []
  },
  {
   "cell_type": "code",
   "execution_count": null,
   "metadata": {},
   "outputs": [],
   "source": []
  },
  {
   "cell_type": "code",
   "execution_count": null,
   "metadata": {},
   "outputs": [],
   "source": []
  },
  {
   "cell_type": "code",
   "execution_count": null,
   "metadata": {},
   "outputs": [],
   "source": []
  },
  {
   "cell_type": "code",
   "execution_count": null,
   "metadata": {},
   "outputs": [],
   "source": []
  },
  {
   "cell_type": "code",
   "execution_count": null,
   "metadata": {},
   "outputs": [],
   "source": []
  },
  {
   "cell_type": "code",
   "execution_count": null,
   "metadata": {},
   "outputs": [],
   "source": []
  },
  {
   "cell_type": "code",
   "execution_count": null,
   "metadata": {},
   "outputs": [],
   "source": []
  },
  {
   "cell_type": "code",
   "execution_count": null,
   "metadata": {},
   "outputs": [],
   "source": []
  },
  {
   "cell_type": "code",
   "execution_count": null,
   "metadata": {},
   "outputs": [],
   "source": []
  },
  {
   "cell_type": "code",
   "execution_count": null,
   "metadata": {},
   "outputs": [],
   "source": []
  },
  {
   "cell_type": "code",
   "execution_count": null,
   "metadata": {},
   "outputs": [],
   "source": []
  },
  {
   "cell_type": "code",
   "execution_count": null,
   "metadata": {},
   "outputs": [],
   "source": []
  },
  {
   "cell_type": "code",
   "execution_count": null,
   "metadata": {},
   "outputs": [],
   "source": []
  },
  {
   "cell_type": "code",
   "execution_count": null,
   "metadata": {},
   "outputs": [],
   "source": []
  },
  {
   "cell_type": "code",
   "execution_count": null,
   "metadata": {},
   "outputs": [],
   "source": []
  },
  {
   "cell_type": "code",
   "execution_count": null,
   "metadata": {},
   "outputs": [],
   "source": []
  },
  {
   "cell_type": "code",
   "execution_count": null,
   "metadata": {},
   "outputs": [],
   "source": []
  }
 ],
 "metadata": {
  "kernelspec": {
   "display_name": "Python 3",
   "language": "python",
   "name": "python3"
  },
  "language_info": {
   "codemirror_mode": {
    "name": "ipython",
    "version": 3
   },
   "file_extension": ".py",
   "mimetype": "text/x-python",
   "name": "python",
   "nbconvert_exporter": "python",
   "pygments_lexer": "ipython3",
   "version": "3.7.6"
  }
 },
 "nbformat": 4,
 "nbformat_minor": 4
}
