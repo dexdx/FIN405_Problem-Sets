{
 "cells": [
  {
   "cell_type": "markdown",
   "id": "social-jones",
   "metadata": {},
   "source": [
    "# Assignment 3"
   ]
  },
  {
   "cell_type": "markdown",
   "id": "studied-presence",
   "metadata": {},
   "source": [
    "## Exercise 2"
   ]
  },
  {
   "cell_type": "markdown",
   "id": "hidden-archives",
   "metadata": {},
   "source": [
    "Global minimum variance portfolio implicitly assumes that assets have positive definite covariance matrix and since the weights has no influence from the mean, there is no restriction.\n",
    "\n",
    "The risk parity portfolio implicitly assumes that assets have positive definite covariance matrix and the mean should have little inherent uncertainty.\n",
    "\n",
    "The equally weighted portfolio implicitly assumes that assets have positive definite covariance matrix and the mean should have little inherent uncertainty, and follows normal distribution.\n"
   ]
  },
  {
   "cell_type": "code",
   "execution_count": 1,
   "id": "fewer-supervisor",
   "metadata": {},
   "outputs": [],
   "source": [
    "import wrds\n",
    "import pandas as pd\n",
    "import matplotlib.pyplot as plt\n",
    "import numpy as np"
   ]
  },
  {
   "cell_type": "code",
   "execution_count": 4,
   "id": "together-representation",
   "metadata": {},
   "outputs": [
    {
     "name": "stdout",
     "output_type": "stream",
     "text": [
      "Enter your WRDS username [felicity]:alina925\n",
      "Enter your password:········\n",
      "WRDS recommends setting up a .pgpass file.\n",
      "You can find more info here:\n",
      "https://www.postgresql.org/docs/9.5/static/libpq-pgpass.html.\n",
      "Loading library list...\n",
      "Done\n"
     ]
    }
   ],
   "source": [
    "db = wrds.Connection()\n",
    "db.create_pgpass_file()"
   ]
  },
  {
   "cell_type": "code",
   "execution_count": null,
   "id": "cooperative-proxy",
   "metadata": {},
   "outputs": [],
   "source": [
    "#Get stocks\n",
    "stock1=db.raw_sql(\"select date, ret from crsp.msf where permno in (11308) and date>='1978-01-01' and date<='2020-12-31'\")\n",
    "stock1.to_csv('stock1.csv')\n",
    "\n",
    "stock2=db.raw_sql(\"select date, ret from crsp.msf where permno in (11850) and date>='1978-01-01' and date<='2020-12-31'\")\n",
    "stock2.to_csv('stock2.csv')\n",
    "\n",
    "stock3=db.raw_sql(\"select date, ret from crsp.msf where permno in (12490) and date>='1978-01-01' and date<='2020-12-31'\")\n",
    "stock3.to_csv('stock3.csv')\n",
    "\n",
    "stock4=db.raw_sql(\"select date, ret from crsp.msf where permno in (14541) and date>='1978-01-01' and date<='2020-12-31'\")\n",
    "stock4.to_csv('stock4.csv')\n",
    "\n",
    "stock5=db.raw_sql(\"select date, ret from crsp.msf where permno in (17830) and date>='1978-01-01' and date<='2020-12-31'\")\n",
    "stock5.to_csv('stock5.csv')\n",
    "\n",
    "stock6=db.raw_sql(\"select date, ret from crsp.msf where permno in (18163) and date>='1978-01-01' and date<='2020-12-31'\")\n",
    "stock6.to_csv('stock6.csv')\n",
    "\n",
    "stock7=db.raw_sql(\"select date, ret from crsp.msf where permno in (18542) and date>='1978-01-01' and date<='2020-12-31'\")\n",
    "stock7.to_csv('stock7.csv')\n",
    "\n",
    "stock8=db.raw_sql(\"select date, ret from crsp.msf where permno in (19502) and date>='1978-01-01' and date<='2020-12-31'\")\n",
    "stock8.to_csv('stock8.csv')\n",
    "\n",
    "stock9=db.raw_sql(\"select date, ret from crsp.msf where permno in (19561) and date>='1978-01-01' and date<='2020-12-31'\")\n",
    "stock9.to_csv('stock9.csv')\n",
    "\n",
    "stock10=db.raw_sql(\"select date, ret from crsp.msf where permno in (21936) and date>='1978-01-01' and date<='2020-12-31'\")\n",
    "stock10.to_csv('stock10.csv')\n",
    "\n",
    "stock11=db.raw_sql(\"select date, ret from crsp.msf where permno in (22111) and date>='1978-01-01' and date<='2020-12-31'\")\n",
    "stock11.to_csv('stock11.csv')\n",
    "\n",
    "stock12=db.raw_sql(\"select date, ret from crsp.msf where permno in (22592) and date>='1978-01-01' and date<='2020-12-31'\")\n",
    "stock12.to_csv('stock12.csv')\n",
    "\n",
    "stock13=db.raw_sql(\"select date, ret from crsp.msf where permno in (22752) and date>='1978-01-01' and date<='2020-12-31'\")\n",
    "stock13.to_csv('stock13.csv')\n",
    "\n",
    "stock14=db.raw_sql(\"select date, ret from crsp.msf where permno in (26403) and date>='1978-01-01' and date<='2020-12-31'\")\n",
    "stock14.to_csv('stock14.csv')\n",
    "\n",
    "stock15=db.raw_sql(\"select date, ret from crsp.msf where permno in (43449) and date>='1978-01-01' and date<='2020-12-31'\")\n",
    "stock15.to_csv('stock15.csv')\n",
    "\n",
    "stock16=db.raw_sql(\"select date, ret from crsp.msf where permno in (47896) and date>='1978-01-01' and date<='2020-12-31'\")\n",
    "stock16.to_csv('stock16.csv')\n",
    "\n",
    "stock17=db.raw_sql(\"select date, ret from crsp.msf where permno in (55976) and date>='1978-01-01' and date<='2020-12-31'\")\n",
    "stock17.to_csv('stock17.csv')\n",
    "\n",
    "stock18=db.raw_sql(\"select date, ret from crsp.msf where permno in (59176) and date>='1978-01-01' and date<='2020-12-31'\")\n",
    "stock18.to_csv('stock18.csv')\n",
    "\n",
    "stock19=db.raw_sql(\"select date, ret from crsp.msf where permno in (59328) and date>='1978-01-01' and date<='2020-12-31'\")\n",
    "stock19.to_csv('stock19.csv')\n",
    "\n",
    "stock20=db.raw_sql(\"select date, ret from crsp.msf where permno in (59459) and date>='1978-01-01' and date<='2020-12-31'\")\n",
    "stock20.to_csv('stock20.csv')"
   ]
  },
  {
   "cell_type": "code",
   "execution_count": 2,
   "id": "general-amino",
   "metadata": {},
   "outputs": [],
   "source": [
    "#Read stocks\n",
    "stock = pd.read_csv('stock1.csv', index_col=0)\n",
    "s2 = pd.read_csv('stock2.csv', usecols=['ret']).squeeze()\n",
    "s3 = pd.read_csv('stock3.csv', usecols=['ret']).squeeze()\n",
    "s4 = pd.read_csv('stock4.csv', usecols=['ret']).squeeze()\n",
    "s5 = pd.read_csv('stock5.csv', usecols=['ret']).squeeze()\n",
    "s6 = pd.read_csv('stock6.csv', usecols=['ret']).squeeze()\n",
    "s7 = pd.read_csv('stock7.csv', usecols=['ret']).squeeze()\n",
    "s8 = pd.read_csv('stock8.csv', usecols=['ret']).squeeze()\n",
    "s9 = pd.read_csv('stock9.csv', usecols=['ret']).squeeze()\n",
    "s10 = pd.read_csv('stock10.csv', usecols=['ret']).squeeze()\n",
    "s11 = pd.read_csv('stock11.csv', usecols=['ret']).squeeze()\n",
    "s12 = pd.read_csv('stock12.csv', usecols=['ret']).squeeze()\n",
    "s13 = pd.read_csv('stock13.csv', usecols=['ret']).squeeze()\n",
    "s14 = pd.read_csv('stock14.csv', usecols=['ret']).squeeze()\n",
    "s15 = pd.read_csv('stock15.csv', usecols=['ret']).squeeze()\n",
    "s16 = pd.read_csv('stock16.csv', usecols=['ret']).squeeze()\n",
    "s17 = pd.read_csv('stock17.csv', usecols=['ret']).squeeze()\n",
    "s18 = pd.read_csv('stock18.csv', usecols=['ret']).squeeze()\n",
    "s19 = pd.read_csv('stock19.csv', usecols=['ret']).squeeze()\n",
    "s20 = pd.read_csv('stock20.csv', usecols=['ret']).squeeze()\n",
    "\n",
    "stock.date = pd.to_datetime(stock.date)\n",
    "ret = pd.DataFrame({'date': stock.date, 's1': stock.ret, 's2':s2,'s3':s3, 's4':s4, 's5':s5, 's6':s6, 's7':s7,\n",
    "                   's8':s8, 's9':s9, 's10':s10, 's11':s11, 's12':s12, 's13':s13, 's14':s14, 's15':s15,\n",
    "                   's16':s16, 's17':s17, 's18':s18, 's19':s19, 's20':s20 })\n",
    "ret = ret.set_index('date')"
   ]
  },
  {
   "cell_type": "code",
   "execution_count": 3,
   "id": "genetic-surface",
   "metadata": {},
   "outputs": [],
   "source": [
    "rf = pd.read_csv('rf.csv', usecols=['tmytm']).squeeze()\n",
    "#Compute the monthly simple rate\n",
    "rf_m = (np.exp(rf/100)-1)/12"
   ]
  },
  {
   "cell_type": "markdown",
   "id": "operating-fountain",
   "metadata": {},
   "source": [
    "#### a)"
   ]
  },
  {
   "cell_type": "markdown",
   "id": "national-thesaurus",
   "metadata": {},
   "source": [
    "Functions for different portfolio weights"
   ]
  },
  {
   "cell_type": "code",
   "execution_count": 4,
   "id": "independent-accounting",
   "metadata": {},
   "outputs": [],
   "source": [
    "#tangency portfolio\n",
    "def w_tan(cov, mu, rf):\n",
    "    cov_inv = np.linalg.inv(cov)\n",
    "    A = cov_inv.sum()\n",
    "    B = cov_inv.sum(0) @ mu\n",
    "    w = (cov_inv @ (mu-rf))/(B-A*rf)\n",
    "    return w\n",
    "\n",
    "#global minimum-variance portfolio\n",
    "def w_min(cov):\n",
    "    cov_inv = np.linalg.inv(cov)\n",
    "    return cov_inv.sum(1)/cov_inv.sum()\n",
    "\n",
    "#risk parity portfolio\n",
    "def w_rp(rets):\n",
    "    sd = np.apply_along_axis(np.std, 0, rets)\n",
    "    sd_inv = 1/sd\n",
    "    return sd_inv/sd_inv.sum()\n",
    "\n",
    "#equally weighted portfolio\n",
    "def w_ew(rets):\n",
    "    n = rets.shape[1]\n",
    "    return np.full(n,1/n)"
   ]
  },
  {
   "cell_type": "markdown",
   "id": "elementary-remedy",
   "metadata": {},
   "source": [
    "Loop set-up, create portfolio monthly returns array"
   ]
  },
  {
   "cell_type": "code",
   "execution_count": 5,
   "id": "institutional-jones",
   "metadata": {
    "scrolled": true
   },
   "outputs": [],
   "source": [
    "trade_months = (2020-1988+1)*12\n",
    "trade_periods = range(120,ret.shape[0])\n",
    "n = ret.shape[1]\n",
    "pfs_rets = np.empty((trade_months,4))"
   ]
  },
  {
   "cell_type": "markdown",
   "id": "beautiful-charleston",
   "metadata": {},
   "source": [
    "Compute monthly rebalanced returns with 10-year rolling window"
   ]
  },
  {
   "cell_type": "code",
   "execution_count": 13,
   "id": "three-capability",
   "metadata": {},
   "outputs": [],
   "source": [
    "for i in trade_periods:\n",
    "    train = ret.iloc[(i-120):i,:]\n",
    "    rets = np.array(ret.iloc[i,:])\n",
    "    cov = np.cov(train, rowvar=False)\n",
    "    mu = np.apply_along_axis(np.mean, 0, train)\n",
    "    rff = rf_m[i-120]\n",
    "    \n",
    "    wtan = w_tan(cov,mu,rff)\n",
    "    wmin = w_min(cov)\n",
    "    wrp = w_rp(train)\n",
    "    wew = w_ew(train)\n",
    "    \n",
    "    W = np.stack((wtan,wmin,wrp,wew), axis=1)\n",
    "    pfs_ret = rets @ W\n",
    "    pfs_rets[i-120,:] = pfs_ret\n",
    "       "
   ]
  },
  {
   "cell_type": "code",
   "execution_count": 14,
   "id": "spare-essex",
   "metadata": {},
   "outputs": [],
   "source": [
    "# there are some abnormal values (<-1) and some positive outliers (>1) for the TAN pf\n",
    "tan = pfs_rets[:,0]\n",
    "a = tan < -1\n",
    "b = tan > 1\n",
    "c = []\n",
    "for i in range(len(a)):\n",
    "    c.append(a[i] or b[i])\n",
    "\n",
    "outl = []\n",
    "for i in range(len(a)):\n",
    "    if c[i] == True:\n",
    "        outl.append(i)\n",
    "\n",
    "# replace them by 0\n",
    "pfs_rets[outl,0] = 0"
   ]
  },
  {
   "cell_type": "markdown",
   "id": "bronze-candidate",
   "metadata": {},
   "source": [
    "Numpy array to pandas dataframe"
   ]
  },
  {
   "cell_type": "code",
   "execution_count": 15,
   "id": "greater-survivor",
   "metadata": {
    "scrolled": false
   },
   "outputs": [
    {
     "data": {
      "text/html": [
       "<div>\n",
       "<style scoped>\n",
       "    .dataframe tbody tr th:only-of-type {\n",
       "        vertical-align: middle;\n",
       "    }\n",
       "\n",
       "    .dataframe tbody tr th {\n",
       "        vertical-align: top;\n",
       "    }\n",
       "\n",
       "    .dataframe thead th {\n",
       "        text-align: right;\n",
       "    }\n",
       "</style>\n",
       "<table border=\"1\" class=\"dataframe\">\n",
       "  <thead>\n",
       "    <tr style=\"text-align: right;\">\n",
       "      <th></th>\n",
       "      <th>TAN</th>\n",
       "      <th>MIN</th>\n",
       "      <th>RP</th>\n",
       "      <th>EW</th>\n",
       "    </tr>\n",
       "    <tr>\n",
       "      <th>date</th>\n",
       "      <th></th>\n",
       "      <th></th>\n",
       "      <th></th>\n",
       "      <th></th>\n",
       "    </tr>\n",
       "  </thead>\n",
       "  <tbody>\n",
       "    <tr>\n",
       "      <th>1988-01-29</th>\n",
       "      <td>-0.160205</td>\n",
       "      <td>0.018610</td>\n",
       "      <td>0.037312</td>\n",
       "      <td>0.041143</td>\n",
       "    </tr>\n",
       "    <tr>\n",
       "      <th>1988-02-29</th>\n",
       "      <td>0.093124</td>\n",
       "      <td>0.011767</td>\n",
       "      <td>0.044241</td>\n",
       "      <td>0.048118</td>\n",
       "    </tr>\n",
       "    <tr>\n",
       "      <th>1988-03-31</th>\n",
       "      <td>0.081497</td>\n",
       "      <td>-0.057729</td>\n",
       "      <td>-0.034916</td>\n",
       "      <td>-0.032432</td>\n",
       "    </tr>\n",
       "    <tr>\n",
       "      <th>1988-04-29</th>\n",
       "      <td>0.047814</td>\n",
       "      <td>0.038754</td>\n",
       "      <td>0.016548</td>\n",
       "      <td>0.016976</td>\n",
       "    </tr>\n",
       "    <tr>\n",
       "      <th>1988-05-31</th>\n",
       "      <td>0.081039</td>\n",
       "      <td>0.018833</td>\n",
       "      <td>0.021081</td>\n",
       "      <td>0.023103</td>\n",
       "    </tr>\n",
       "    <tr>\n",
       "      <th>...</th>\n",
       "      <td>...</td>\n",
       "      <td>...</td>\n",
       "      <td>...</td>\n",
       "      <td>...</td>\n",
       "    </tr>\n",
       "    <tr>\n",
       "      <th>2020-08-31</th>\n",
       "      <td>0.151606</td>\n",
       "      <td>0.075923</td>\n",
       "      <td>0.052117</td>\n",
       "      <td>0.050741</td>\n",
       "    </tr>\n",
       "    <tr>\n",
       "      <th>2020-09-30</th>\n",
       "      <td>0.068692</td>\n",
       "      <td>0.021074</td>\n",
       "      <td>-0.027456</td>\n",
       "      <td>-0.030192</td>\n",
       "    </tr>\n",
       "    <tr>\n",
       "      <th>2020-10-30</th>\n",
       "      <td>-0.057397</td>\n",
       "      <td>-0.049000</td>\n",
       "      <td>-0.035461</td>\n",
       "      <td>-0.036529</td>\n",
       "    </tr>\n",
       "    <tr>\n",
       "      <th>2020-11-30</th>\n",
       "      <td>0.039990</td>\n",
       "      <td>0.047664</td>\n",
       "      <td>0.138716</td>\n",
       "      <td>0.154692</td>\n",
       "    </tr>\n",
       "    <tr>\n",
       "      <th>2020-12-31</th>\n",
       "      <td>-0.045120</td>\n",
       "      <td>0.010586</td>\n",
       "      <td>0.033382</td>\n",
       "      <td>0.035279</td>\n",
       "    </tr>\n",
       "  </tbody>\n",
       "</table>\n",
       "<p>396 rows × 4 columns</p>\n",
       "</div>"
      ],
      "text/plain": [
       "                 TAN       MIN        RP        EW\n",
       "date                                              \n",
       "1988-01-29 -0.160205  0.018610  0.037312  0.041143\n",
       "1988-02-29  0.093124  0.011767  0.044241  0.048118\n",
       "1988-03-31  0.081497 -0.057729 -0.034916 -0.032432\n",
       "1988-04-29  0.047814  0.038754  0.016548  0.016976\n",
       "1988-05-31  0.081039  0.018833  0.021081  0.023103\n",
       "...              ...       ...       ...       ...\n",
       "2020-08-31  0.151606  0.075923  0.052117  0.050741\n",
       "2020-09-30  0.068692  0.021074 -0.027456 -0.030192\n",
       "2020-10-30 -0.057397 -0.049000 -0.035461 -0.036529\n",
       "2020-11-30  0.039990  0.047664  0.138716  0.154692\n",
       "2020-12-31 -0.045120  0.010586  0.033382  0.035279\n",
       "\n",
       "[396 rows x 4 columns]"
      ]
     },
     "execution_count": 15,
     "metadata": {},
     "output_type": "execute_result"
    }
   ],
   "source": [
    "pf_dates = ret.index\n",
    "pf_dates = pf_dates[120:]\n",
    "pfs_rets_df = pd.DataFrame(pfs_rets)\n",
    "pfs_rets_df['date'] = pf_dates\n",
    "pfs_rets_df = pfs_rets_df.set_index('date')\n",
    "pfs_rets_df = pfs_rets_df.rename(columns={0:'TAN',1:'MIN',2:'RP',3:'EW'})\n",
    "pfs_rets_df"
   ]
  },
  {
   "cell_type": "code",
   "execution_count": 16,
   "id": "worst-gasoline",
   "metadata": {},
   "outputs": [
    {
     "name": "stdout",
     "output_type": "stream",
     "text": [
      "Mean return of portfolios (in %):\n",
      "TAN    0.566531\n",
      "MIN    0.860826\n",
      "RP     1.166221\n",
      "EW     1.206063\n",
      "dtype: float64\n",
      "\n",
      "Std of returns of portfolios (in %):\n",
      "TAN    14.005882\n",
      "MIN     3.834793\n",
      "RP      3.987687\n",
      "EW      4.161575\n",
      "dtype: float64\n",
      "\n",
      "Sharpe ratios of portfolios:\n",
      "TAN    0.051003\n",
      "MIN    0.452126\n",
      "RP     0.700086\n",
      "EW     0.703999\n",
      "dtype: float64\n"
     ]
    }
   ],
   "source": [
    "pf_mu = pfs_rets_df.apply(np.mean, axis=0)\n",
    "pf_sd = pfs_rets_df.apply(np.std, axis=0)\n",
    "print('Mean return of portfolios (in %):',pf_mu*100,sep='\\n')\n",
    "print('\\nStd of returns of portfolios (in %):',pf_sd*100,sep='\\n')\n",
    "\n",
    "rf_mu = rf_m.mean()\n",
    "pf_sr = ((pf_mu-rf_mu)/pf_sd)*np.sqrt(12)\n",
    "print('\\nSharpe ratios of portfolios:', pf_sr, sep='\\n')"
   ]
  },
  {
   "cell_type": "markdown",
   "id": "weird-scotland",
   "metadata": {},
   "source": [
    "#### b）"
   ]
  },
  {
   "cell_type": "markdown",
   "id": "auburn-english",
   "metadata": {},
   "source": [
    "The tangency portfolio has the largest mean return, while at the same time, the largest variance.\n",
    "The global minimum-variance portfolio has the smallest mean return, and the smallest variance. \n",
    "This is owing to the fact that portafolio with higher risks are typically with higher mean expected return.\n",
    "Considering how much excess return you may get in taking the extra risk, we look at the Sharpe ratio. Comparing the four portfolios, the risk parity portfolio and the equally weighted portfolio has a larger Sharpe ratio, in other words, more favorable for investors.\n"
   ]
  },
  {
   "cell_type": "markdown",
   "id": "diagnostic-disaster",
   "metadata": {},
   "source": [
    "#### c)"
   ]
  },
  {
   "cell_type": "code",
   "execution_count": 17,
   "id": "continuing-assurance",
   "metadata": {},
   "outputs": [
    {
     "data": {
      "image/png": "[encoded data removed]",
      "text/plain": [
       "<Figure size 432x288 with 1 Axes>"
      ]
     },
     "metadata": {
      "needs_background": "light"
     },
     "output_type": "display_data"
    }
   ],
   "source": [
    "# Actually the data used is until 2020, instead of 2018 for convenience\n",
    "mu = np.apply_along_axis(np.mean, 0, ret)\n",
    "cov_inv = np.linalg.inv(cov)\n",
    "A = cov_inv.sum()\n",
    "B = cov_inv.sum(0) @ mu\n",
    "C = np.matrix.transpose(mu) @ cov_inv @ mu\n",
    "D = A*C - B**2\n",
    "\n",
    "#plot of minimum variance frontier\n",
    "mu_p = np.linspace(0, 0.1, 50, endpoint=True)\n",
    "sigma_p = np.sqrt((A*mu_p**2 - 2*B*mu_p + C)/D)\n",
    "\n",
    "plt.plot(sigma_p,mu_p,label=\"Frontier\")\n",
    "plt.xlabel('Standard deviation')\n",
    "plt.ylabel('Expected return')\n",
    "plt.title('Minimum variance Frontier')\n",
    "plt.plot(pf_sd[0],pf_mu[0],\"ro\", label=\"TAN\")\n",
    "plt.plot(pf_sd[1],pf_mu[1],\"go\", label=\"MIN\")\n",
    "plt.plot(pf_sd[2],pf_mu[2],\"bo\", label=\"RP\")\n",
    "plt.plot(pf_sd[3],pf_mu[3],\"yo\", label=\"EW\")\n",
    "plt.legend()\n",
    "plt.show()"
   ]
  },
  {
   "cell_type": "markdown",
   "id": "tropical-connection",
   "metadata": {},
   "source": [
    "In the plot, we can see that all the four portfolios are to the right of the minimum variance frontier. Ideally, the tangency portfolio should be on the frontier. In this task, we have 20 stocks, and therefore, quite a couple of parameters to optimize. Then, due to the existence of outliers, it is unstable. Except for the tangency portfolio, the other three portfolios have quite similar ex post performances, i.e. they have similar expected return as well as standard deviation."
   ]
  },
  {
   "cell_type": "markdown",
   "id": "hydraulic-latitude",
   "metadata": {},
   "source": [
    "#### d)"
   ]
  },
  {
   "cell_type": "code",
   "execution_count": 91,
   "id": "former-strip",
   "metadata": {},
   "outputs": [],
   "source": [
    "row = pfs_rets_df.shape[0]\n",
    "r_tbill = np.array(rf_m[(rf_m.shape[0]-pfs_rets_df.shape[0]):rf_m.shape[0]])\n",
    "\n",
    "cul = np.ones((row+1,5))\n",
    "r_port = np.array(pfs_rets_df)"
   ]
  },
  {
   "cell_type": "code",
   "execution_count": 95,
   "id": "continent-learning",
   "metadata": {},
   "outputs": [],
   "source": [
    "for j in range(row):\n",
    "    cul[(j+1,0)] = cul[(j,0)]*(1+r_tbill[j])\n",
    "    cul[(j+1,1)] = cul[(j,1)]*(1+r_port[(j,0)])\n",
    "    cul[(j+1,2)] = cul[(j,2)]*(1+r_port[(j,1)])\n",
    "    cul[(j+1,3)] = cul[(j,3)]*(1+r_port[(j,2)])\n",
    "    cul[(j+1,4)] = cul[(j,4)]*(1+r_port[(j,3)])\n",
    "    "
   ]
  },
  {
   "cell_type": "code",
   "execution_count": 102,
   "id": "abroad-translator",
   "metadata": {},
   "outputs": [
    {
     "data": {
      "image/png": "[encoded data removed]",
      "text/plain": [
       "<Figure size 432x288 with 1 Axes>"
      ]
     },
     "metadata": {
      "needs_background": "light"
     },
     "output_type": "display_data"
    }
   ],
   "source": [
    "#plot\n",
    "plt.plot(cul[:,0],label=\"Tbill\")\n",
    "plt.plot(cul[:,1], label=\"TAN\")\n",
    "plt.plot(cul[:,2], label=\"MIN\")\n",
    "plt.plot(cul[:,3], label=\"RP\")\n",
    "plt.plot(cul[:,4], label=\"EW\")\n",
    "plt.xlabel('Time (months)')\n",
    "plt.ylabel('Value US$')\n",
    "plt.title('Culmulative performance 1988~2020')\n",
    "plt.legend()\n",
    "plt.show()"
   ]
  },
  {
   "cell_type": "code",
   "execution_count": null,
   "id": "olympic-pierce",
   "metadata": {},
   "outputs": [],
   "source": []
  }
 ],
 "metadata": {
  "kernelspec": {
   "display_name": "Python 3",
   "language": "python",
   "name": "python3"
  },
  "language_info": {
   "codemirror_mode": {
    "name": "ipython",
    "version": 3
   },
   "file_extension": ".py",
   "mimetype": "text/x-python",
   "name": "python",
   "nbconvert_exporter": "python",
   "pygments_lexer": "ipython3",
   "version": "3.8.8"
  }
 },
 "nbformat": 4,
 "nbformat_minor": 5
}
