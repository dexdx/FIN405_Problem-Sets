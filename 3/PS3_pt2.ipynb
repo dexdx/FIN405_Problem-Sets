{
 "cells": [
  {
   "cell_type": "code",
   "execution_count": 1,
   "id": "occupied-franchise",
   "metadata": {},
   "outputs": [],
   "source": [
    "import wrds\n",
    "import pandas as pd\n",
    "import matplotlib.pyplot as plt\n",
    "import numpy as np"
   ]
  },
  {
   "cell_type": "code",
   "execution_count": 2,
   "id": "entertaining-delhi",
   "metadata": {},
   "outputs": [],
   "source": [
    "#Read stocks\n",
    "stock = pd.read_csv('stock1.csv', index_col=0)\n",
    "s2 = pd.read_csv('stock2.csv', usecols=['ret']).squeeze()\n",
    "s3 = pd.read_csv('stock3.csv', usecols=['ret']).squeeze()\n",
    "s4 = pd.read_csv('stock4.csv', usecols=['ret']).squeeze()\n",
    "s5 = pd.read_csv('stock5.csv', usecols=['ret']).squeeze()\n",
    "s6 = pd.read_csv('stock6.csv', usecols=['ret']).squeeze()\n",
    "s7 = pd.read_csv('stock7.csv', usecols=['ret']).squeeze()\n",
    "s8 = pd.read_csv('stock8.csv', usecols=['ret']).squeeze()\n",
    "s9 = pd.read_csv('stock9.csv', usecols=['ret']).squeeze()\n",
    "s10 = pd.read_csv('stock10.csv', usecols=['ret']).squeeze()\n",
    "s11 = pd.read_csv('stock11.csv', usecols=['ret']).squeeze()\n",
    "s12 = pd.read_csv('stock12.csv', usecols=['ret']).squeeze()\n",
    "s13 = pd.read_csv('stock13.csv', usecols=['ret']).squeeze()\n",
    "s14 = pd.read_csv('stock14.csv', usecols=['ret']).squeeze()\n",
    "s15 = pd.read_csv('stock15.csv', usecols=['ret']).squeeze()\n",
    "s16 = pd.read_csv('stock16.csv', usecols=['ret']).squeeze()\n",
    "s17 = pd.read_csv('stock17.csv', usecols=['ret']).squeeze()\n",
    "s18 = pd.read_csv('stock18.csv', usecols=['ret']).squeeze()\n",
    "s19 = pd.read_csv('stock19.csv', usecols=['ret']).squeeze()\n",
    "s20 = pd.read_csv('stock20.csv', usecols=['ret']).squeeze()\n",
    "\n",
    "stock.date = pd.to_datetime(stock.date)\n",
    "ret = pd.DataFrame({'date': stock.date, 's1': stock.ret, 's2':s2,'s3':s3, 's4':s4, 's5':s5, 's6':s6, 's7':s7,\n",
    "                   's8':s8, 's9':s9, 's10':s10, 's11':s11, 's12':s12, 's13':s13, 's14':s14, 's15':s15,\n",
    "                   's16':s16, 's17':s17, 's18':s18, 's19':s19, 's20':s20 })\n",
    "ret = ret.set_index('date')"
   ]
  },
  {
   "cell_type": "code",
   "execution_count": 3,
   "id": "brief-myrtle",
   "metadata": {},
   "outputs": [],
   "source": [
    "rf = pd.read_csv('rf.csv', usecols=['tmytm']).squeeze()\n",
    "#Compute the monthly simple rate\n",
    "rf_m = (np.exp(rf/100)-1)/12"
   ]
  },
  {
   "cell_type": "code",
   "execution_count": 40,
   "id": "double-failing",
   "metadata": {},
   "outputs": [
    {
     "data": {
      "text/plain": [
       "array([ 3., 12., 21.])"
      ]
     },
     "execution_count": 40,
     "metadata": {},
     "output_type": "execute_result"
    }
   ],
   "source": [
    "x = np.arange(9).reshape((3,3))\n",
    "b = np.ones(3)\n",
    "x @ b"
   ]
  },
  {
   "cell_type": "code",
   "execution_count": 91,
   "id": "outer-dealer",
   "metadata": {},
   "outputs": [],
   "source": [
    "def w_tan(cov, mu, rf):\n",
    "    cov_inv = np.linalg.inv(cov)\n",
    "    A = cov_inv.sum()\n",
    "    B = cov_inv.sum(0) @ mu\n",
    "    w = (cov_inv @ (mu-rf))/(B-A*rf)\n",
    "    return w\n",
    "\n",
    "def w_min(cov):\n",
    "    cov_inv = np.linalg.inv(cov)\n",
    "    return cov_inv.sum(1)/cov_inv.sum()\n",
    "\n",
    "def w_rp(rets):\n",
    "    sd = np.apply_along_axis(np.std, 0, rets)\n",
    "    sd_inv = 1/sd\n",
    "    return sd_inv/sd_inv.sum()\n",
    "\n",
    "def w_ew(rets):\n",
    "    n = rets.shape[1]\n",
    "    return np.full(n,1/n)"
   ]
  },
  {
   "cell_type": "code",
   "execution_count": 66,
   "id": "later-suite",
   "metadata": {},
   "outputs": [],
   "source": [
    "x = ret.iloc[:119,:]\n",
    "cov = np.cov(x, rowvar=False)\n",
    "mu = np.apply_along_axis(np.mean, 0, x)\n",
    "rff = rf_m[0]"
   ]
  },
  {
   "cell_type": "code",
   "execution_count": 92,
   "id": "basic-commissioner",
   "metadata": {
    "scrolled": true
   },
   "outputs": [
    {
     "data": {
      "text/plain": [
       "array([0.05, 0.05, 0.05, 0.05, 0.05, 0.05, 0.05, 0.05, 0.05, 0.05, 0.05,\n",
       "       0.05, 0.05, 0.05, 0.05, 0.05, 0.05, 0.05, 0.05, 0.05])"
      ]
     },
     "execution_count": 92,
     "metadata": {},
     "output_type": "execute_result"
    }
   ],
   "source": []
  }
 ],
 "metadata": {
  "kernelspec": {
   "display_name": "Python 3",
   "language": "python",
   "name": "python3"
  },
  "language_info": {
   "codemirror_mode": {
    "name": "ipython",
    "version": 3
   },
   "file_extension": ".py",
   "mimetype": "text/x-python",
   "name": "python",
   "nbconvert_exporter": "python",
   "pygments_lexer": "ipython3",
   "version": "3.8.8"
  }
 },
 "nbformat": 4,
 "nbformat_minor": 5
}
