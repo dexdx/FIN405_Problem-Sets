{
 "cells": [
  {
   "cell_type": "code",
   "execution_count": 1,
   "id": "precise-quarterly",
   "metadata": {},
   "outputs": [],
   "source": [
    "import wrds\n",
    "import pandas as pd\n",
    "import matplotlib.pyplot as plt\n",
    "import numpy as np"
   ]
  },
  {
   "cell_type": "code",
   "execution_count": 2,
   "id": "stupid-workshop",
   "metadata": {},
   "outputs": [],
   "source": [
    "#Read stocks\n",
    "stock = pd.read_csv('stock1.csv', index_col=0)\n",
    "s2 = pd.read_csv('stock2.csv', usecols=['ret']).squeeze()\n",
    "s3 = pd.read_csv('stock3.csv', usecols=['ret']).squeeze()\n",
    "s4 = pd.read_csv('stock4.csv', usecols=['ret']).squeeze()\n",
    "s5 = pd.read_csv('stock5.csv', usecols=['ret']).squeeze()\n",
    "s6 = pd.read_csv('stock6.csv', usecols=['ret']).squeeze()\n",
    "s7 = pd.read_csv('stock7.csv', usecols=['ret']).squeeze()\n",
    "s8 = pd.read_csv('stock8.csv', usecols=['ret']).squeeze()\n",
    "s9 = pd.read_csv('stock9.csv', usecols=['ret']).squeeze()\n",
    "s10 = pd.read_csv('stock10.csv', usecols=['ret']).squeeze()\n",
    "s11 = pd.read_csv('stock11.csv', usecols=['ret']).squeeze()\n",
    "s12 = pd.read_csv('stock12.csv', usecols=['ret']).squeeze()\n",
    "s13 = pd.read_csv('stock13.csv', usecols=['ret']).squeeze()\n",
    "s14 = pd.read_csv('stock14.csv', usecols=['ret']).squeeze()\n",
    "s15 = pd.read_csv('stock15.csv', usecols=['ret']).squeeze()\n",
    "s16 = pd.read_csv('stock16.csv', usecols=['ret']).squeeze()\n",
    "s17 = pd.read_csv('stock17.csv', usecols=['ret']).squeeze()\n",
    "s18 = pd.read_csv('stock18.csv', usecols=['ret']).squeeze()\n",
    "s19 = pd.read_csv('stock19.csv', usecols=['ret']).squeeze()\n",
    "s20 = pd.read_csv('stock20.csv', usecols=['ret']).squeeze()\n",
    "\n",
    "stock.date = pd.to_datetime(stock.date)\n",
    "ret = pd.DataFrame({'date': stock.date, 's1': stock.ret, 's2':s2,'s3':s3, 's4':s4, 's5':s5, 's6':s6, 's7':s7,\n",
    "                   's8':s8, 's9':s9, 's10':s10, 's11':s11, 's12':s12, 's13':s13, 's14':s14, 's15':s15,\n",
    "                   's16':s16, 's17':s17, 's18':s18, 's19':s19, 's20':s20 })\n",
    "ret = ret.set_index('date')"
   ]
  },
  {
   "cell_type": "code",
   "execution_count": 4,
   "id": "surrounded-vacuum",
   "metadata": {},
   "outputs": [],
   "source": [
    "rf = pd.read_csv('rf.csv', usecols=['tmytm']).squeeze()\n",
    "#Compute the monthly simple rate\n",
    "rf_m = (np.exp(rf/100)-1)/12"
   ]
  },
  {
   "cell_type": "markdown",
   "id": "leading-vacation",
   "metadata": {},
   "source": [
    "#### a)"
   ]
  },
  {
   "cell_type": "markdown",
   "id": "agreed-address",
   "metadata": {},
   "source": [
    "Functions for different portfolio weights"
   ]
  },
  {
   "cell_type": "code",
   "execution_count": 5,
   "id": "italic-sentence",
   "metadata": {},
   "outputs": [],
   "source": [
    "def w_tan(cov, mu, rf):\n",
    "    cov_inv = np.linalg.inv(cov)\n",
    "    A = cov_inv.sum()\n",
    "    B = cov_inv.sum(0) @ mu\n",
    "    w = (cov_inv @ (mu-rf))/(B-A*rf)\n",
    "    return w\n",
    "\n",
    "def w_min(cov):\n",
    "    cov_inv = np.linalg.inv(cov)\n",
    "    return cov_inv.sum(1)/cov_inv.sum()\n",
    "\n",
    "def w_rp(rets):\n",
    "    sd = np.apply_along_axis(np.std, 0, rets)\n",
    "    sd_inv = 1/sd\n",
    "    return sd_inv/sd_inv.sum()\n",
    "\n",
    "def w_ew(rets):\n",
    "    n = rets.shape[1]\n",
    "    return np.full(n,1/n)"
   ]
  },
  {
   "cell_type": "markdown",
   "id": "ultimate-armor",
   "metadata": {},
   "source": [
    "Loop set-up, create portfolio monthly returns array"
   ]
  },
  {
   "cell_type": "code",
   "execution_count": 6,
   "id": "opened-jewel",
   "metadata": {
    "scrolled": true
   },
   "outputs": [],
   "source": [
    "trade_months = (2020-1988+1)*12\n",
    "trade_periods = range(120,ret.shape[0])\n",
    "n = ret.shape[1]\n",
    "pfs_rets = np.empty((trade_months,4))"
   ]
  },
  {
   "cell_type": "markdown",
   "id": "international-harbor",
   "metadata": {},
   "source": [
    "Compute monthly rebalanced returns with 10-year rolling window"
   ]
  },
  {
   "cell_type": "code",
   "execution_count": 7,
   "id": "economic-limit",
   "metadata": {},
   "outputs": [],
   "source": [
    "for i in trade_periods:\n",
    "    train = ret.iloc[(i-120):i,:]\n",
    "    rets = np.array(ret.iloc[i,:])\n",
    "    cov = np.cov(train, rowvar=False)\n",
    "    mu = np.apply_along_axis(np.mean, 0, train)\n",
    "    rff = rf_m[i-120]\n",
    "    \n",
    "    wtan = w_tan(cov,mu,rff)\n",
    "    wmin = w_min(cov)\n",
    "    wrp = w_rp(train)\n",
    "    wew = w_ew(train)\n",
    "    \n",
    "    W = np.stack((wtan,wmin,wrp,wew), axis=1)\n",
    "    pfs_ret = rets @ W\n",
    "    pfs_rets[i-120,:] = pfs_ret\n",
    "       "
   ]
  },
  {
   "cell_type": "code",
   "execution_count": 8,
   "id": "modular-retro",
   "metadata": {},
   "outputs": [],
   "source": [
    "# there are some abnormal values (<-1) for the TAN pf\n",
    "tan = pfs_rets[:,0]\n",
    "a = tan < -1\n",
    "outl = []\n",
    "for i in range(len(a)):\n",
    "    if a[i] == True:\n",
    "        outl.append(i)\n",
    "\n",
    "# replace them by 0\n",
    "pfs_rets[outl,0] = 0"
   ]
  },
  {
   "cell_type": "markdown",
   "id": "threaded-collar",
   "metadata": {},
   "source": [
    "Numpy array to pandas dataframe"
   ]
  },
  {
   "cell_type": "code",
   "execution_count": 9,
   "id": "final-major",
   "metadata": {
    "scrolled": false
   },
   "outputs": [
    {
     "data": {
      "text/html": [
       "<div>\n",
       "<style scoped>\n",
       "    .dataframe tbody tr th:only-of-type {\n",
       "        vertical-align: middle;\n",
       "    }\n",
       "\n",
       "    .dataframe tbody tr th {\n",
       "        vertical-align: top;\n",
       "    }\n",
       "\n",
       "    .dataframe thead th {\n",
       "        text-align: right;\n",
       "    }\n",
       "</style>\n",
       "<table border=\"1\" class=\"dataframe\">\n",
       "  <thead>\n",
       "    <tr style=\"text-align: right;\">\n",
       "      <th></th>\n",
       "      <th>TAN</th>\n",
       "      <th>MIN</th>\n",
       "      <th>RP</th>\n",
       "      <th>EW</th>\n",
       "    </tr>\n",
       "    <tr>\n",
       "      <th>date</th>\n",
       "      <th></th>\n",
       "      <th></th>\n",
       "      <th></th>\n",
       "      <th></th>\n",
       "    </tr>\n",
       "  </thead>\n",
       "  <tbody>\n",
       "    <tr>\n",
       "      <th>1988-01-29</th>\n",
       "      <td>-0.160205</td>\n",
       "      <td>0.018610</td>\n",
       "      <td>0.037312</td>\n",
       "      <td>0.041143</td>\n",
       "    </tr>\n",
       "    <tr>\n",
       "      <th>1988-02-29</th>\n",
       "      <td>0.093124</td>\n",
       "      <td>0.011767</td>\n",
       "      <td>0.044241</td>\n",
       "      <td>0.048118</td>\n",
       "    </tr>\n",
       "    <tr>\n",
       "      <th>1988-03-31</th>\n",
       "      <td>0.081497</td>\n",
       "      <td>-0.057729</td>\n",
       "      <td>-0.034916</td>\n",
       "      <td>-0.032432</td>\n",
       "    </tr>\n",
       "    <tr>\n",
       "      <th>1988-04-29</th>\n",
       "      <td>0.047814</td>\n",
       "      <td>0.038754</td>\n",
       "      <td>0.016548</td>\n",
       "      <td>0.016976</td>\n",
       "    </tr>\n",
       "    <tr>\n",
       "      <th>1988-05-31</th>\n",
       "      <td>0.081039</td>\n",
       "      <td>0.018833</td>\n",
       "      <td>0.021081</td>\n",
       "      <td>0.023103</td>\n",
       "    </tr>\n",
       "    <tr>\n",
       "      <th>...</th>\n",
       "      <td>...</td>\n",
       "      <td>...</td>\n",
       "      <td>...</td>\n",
       "      <td>...</td>\n",
       "    </tr>\n",
       "    <tr>\n",
       "      <th>2020-08-31</th>\n",
       "      <td>0.151606</td>\n",
       "      <td>0.075923</td>\n",
       "      <td>0.052117</td>\n",
       "      <td>0.050741</td>\n",
       "    </tr>\n",
       "    <tr>\n",
       "      <th>2020-09-30</th>\n",
       "      <td>0.068692</td>\n",
       "      <td>0.021074</td>\n",
       "      <td>-0.027456</td>\n",
       "      <td>-0.030192</td>\n",
       "    </tr>\n",
       "    <tr>\n",
       "      <th>2020-10-30</th>\n",
       "      <td>-0.057397</td>\n",
       "      <td>-0.049000</td>\n",
       "      <td>-0.035461</td>\n",
       "      <td>-0.036529</td>\n",
       "    </tr>\n",
       "    <tr>\n",
       "      <th>2020-11-30</th>\n",
       "      <td>0.039990</td>\n",
       "      <td>0.047664</td>\n",
       "      <td>0.138716</td>\n",
       "      <td>0.154692</td>\n",
       "    </tr>\n",
       "    <tr>\n",
       "      <th>2020-12-31</th>\n",
       "      <td>-0.045120</td>\n",
       "      <td>0.010586</td>\n",
       "      <td>0.033382</td>\n",
       "      <td>0.035279</td>\n",
       "    </tr>\n",
       "  </tbody>\n",
       "</table>\n",
       "<p>396 rows × 4 columns</p>\n",
       "</div>"
      ],
      "text/plain": [
       "                 TAN       MIN        RP        EW\n",
       "date                                              \n",
       "1988-01-29 -0.160205  0.018610  0.037312  0.041143\n",
       "1988-02-29  0.093124  0.011767  0.044241  0.048118\n",
       "1988-03-31  0.081497 -0.057729 -0.034916 -0.032432\n",
       "1988-04-29  0.047814  0.038754  0.016548  0.016976\n",
       "1988-05-31  0.081039  0.018833  0.021081  0.023103\n",
       "...              ...       ...       ...       ...\n",
       "2020-08-31  0.151606  0.075923  0.052117  0.050741\n",
       "2020-09-30  0.068692  0.021074 -0.027456 -0.030192\n",
       "2020-10-30 -0.057397 -0.049000 -0.035461 -0.036529\n",
       "2020-11-30  0.039990  0.047664  0.138716  0.154692\n",
       "2020-12-31 -0.045120  0.010586  0.033382  0.035279\n",
       "\n",
       "[396 rows x 4 columns]"
      ]
     },
     "execution_count": 9,
     "metadata": {},
     "output_type": "execute_result"
    }
   ],
   "source": [
    "pf_dates = ret.index\n",
    "pf_dates = pf_dates[120:]\n",
    "pfs_rets_df = pd.DataFrame(pfs_rets)\n",
    "pfs_rets_df['date'] = pf_dates\n",
    "pfs_rets_df = pfs_rets_df.set_index('date')\n",
    "pfs_rets_df = pfs_rets_df.rename(columns={0:'TAN',1:'MIN',2:'RP',3:'EW'})\n",
    "pfs_rets_df"
   ]
  },
  {
   "cell_type": "code",
   "execution_count": 32,
   "id": "boring-jesus",
   "metadata": {},
   "outputs": [
    {
     "name": "stdout",
     "output_type": "stream",
     "text": [
      "Mean return of portfolios (in %):\n",
      "TAN    3.460854\n",
      "MIN    0.860826\n",
      "RP     1.166221\n",
      "EW     1.206063\n",
      "dtype: float64\n",
      "\n",
      "Std of returns of portfolios (in %):\n",
      "TAN    41.534356\n",
      "MIN     3.834793\n",
      "RP      3.987687\n",
      "EW      4.161575\n",
      "dtype: float64\n",
      "\n",
      "Sharpe ratios of portfolios:\n",
      "TAN    0.258595\n",
      "MIN    0.452126\n",
      "RP     0.700086\n",
      "EW     0.703999\n",
      "dtype: float64\n"
     ]
    }
   ],
   "source": [
    "pf_mu = pfs_rets_df.apply(np.mean, axis=0)\n",
    "pf_sd = pfs_rets_df.apply(np.std, axis=0)\n",
    "print('Mean return of portfolios (in %):',pf_mu*100,sep='\\n')\n",
    "print('\\nStd of returns of portfolios (in %):',pf_sd*100,sep='\\n')\n",
    "\n",
    "rf_mu = rf_m.mean()\n",
    "pf_sr = ((pf_mu-rf_mu)/pf_sd)*np.sqrt(12)\n",
    "print('\\nSharpe ratios of portfolios:', pf_sr, sep='\\n')"
   ]
  }
 ],
 "metadata": {
  "kernelspec": {
   "display_name": "Python 3",
   "language": "python",
   "name": "python3"
  },
  "language_info": {
   "codemirror_mode": {
    "name": "ipython",
    "version": 3
   },
   "file_extension": ".py",
   "mimetype": "text/x-python",
   "name": "python",
   "nbconvert_exporter": "python",
   "pygments_lexer": "ipython3",
   "version": "3.8.8"
  }
 },
 "nbformat": 4,
 "nbformat_minor": 5
}
