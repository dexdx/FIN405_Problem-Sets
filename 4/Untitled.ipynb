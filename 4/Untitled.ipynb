{
 "cells": [
  {
   "cell_type": "code",
   "execution_count": 120,
   "id": "attached-effort",
   "metadata": {},
   "outputs": [],
   "source": [
    "import wrds\n",
    "import matplotlib.pyplot as plt\n",
    "import pandas as pd"
   ]
  },
  {
   "cell_type": "code",
   "execution_count": 3,
   "id": "purple-bradley",
   "metadata": {},
   "outputs": [
    {
     "name": "stdout",
     "output_type": "stream",
     "text": [
      "Loading library list...\n",
      "Done\n",
      "Enter your WRDS username [jonkq]:jonkq\n",
      "Enter your password:········\n"
     ]
    }
   ],
   "source": [
    "db = wrds.Connection()\n",
    "db.create_pgpass_file()"
   ]
  },
  {
   "cell_type": "code",
   "execution_count": 4,
   "id": "better-works",
   "metadata": {},
   "outputs": [],
   "source": [
    "amzn = db.raw_sql(\"select date, ret from crsp.dsf where permno in (84788) and date>='2010-01-01' and date<='2019-12-31'\")\n",
    "amzn.to_csv('amzn.csv')"
   ]
  },
  {
   "cell_type": "code",
   "execution_count": 5,
   "id": "precious-identification",
   "metadata": {},
   "outputs": [
    {
     "data": {
      "text/plain": [
       "2516"
      ]
     },
     "execution_count": 5,
     "metadata": {},
     "output_type": "execute_result"
    }
   ],
   "source": [
    "len(amzn)"
   ]
  },
  {
   "cell_type": "code",
   "execution_count": 6,
   "id": "terminal-freight",
   "metadata": {},
   "outputs": [],
   "source": [
    "mkt = db.raw_sql(\"select date, vwretd from crsp.dsi where date>='2010-01-01' and date<='2019-12-31'\")\n",
    "mkt.to_csv('mkt.csv')"
   ]
  },
  {
   "cell_type": "code",
   "execution_count": 72,
   "id": "prescription-criticism",
   "metadata": {},
   "outputs": [],
   "source": [
    "dates = mkt['date']"
   ]
  },
  {
   "cell_type": "code",
   "execution_count": 8,
   "id": "pretty-blanket",
   "metadata": {},
   "outputs": [],
   "source": [
    "rf = db.raw_sql(\"select caldt, tdyld from crsp.tfz_dly_rf2 where caldt>='2010-01-01' and caldt<='2019-12-31'\")\n",
    "rf.to_csv('rf.csv')"
   ]
  },
  {
   "cell_type": "code",
   "execution_count": 106,
   "id": "amino-singing",
   "metadata": {
    "scrolled": true
   },
   "outputs": [
    {
     "ename": "KeyError",
     "evalue": "'caldt'",
     "output_type": "error",
     "traceback": [
      "\u001b[1;31m---------------------------------------------------------------------------\u001b[0m",
      "\u001b[1;31mKeyError\u001b[0m                                  Traceback (most recent call last)",
      "\u001b[1;32mc:\\users\\jonkq\\appdata\\local\\programs\\python\\python38\\lib\\site-packages\\pandas\\core\\indexes\\base.py\u001b[0m in \u001b[0;36mget_loc\u001b[1;34m(self, key, method, tolerance)\u001b[0m\n\u001b[0;32m   3079\u001b[0m             \u001b[1;32mtry\u001b[0m\u001b[1;33m:\u001b[0m\u001b[1;33m\u001b[0m\u001b[1;33m\u001b[0m\u001b[0m\n\u001b[1;32m-> 3080\u001b[1;33m                 \u001b[1;32mreturn\u001b[0m \u001b[0mself\u001b[0m\u001b[1;33m.\u001b[0m\u001b[0m_engine\u001b[0m\u001b[1;33m.\u001b[0m\u001b[0mget_loc\u001b[0m\u001b[1;33m(\u001b[0m\u001b[0mcasted_key\u001b[0m\u001b[1;33m)\u001b[0m\u001b[1;33m\u001b[0m\u001b[1;33m\u001b[0m\u001b[0m\n\u001b[0m\u001b[0;32m   3081\u001b[0m             \u001b[1;32mexcept\u001b[0m \u001b[0mKeyError\u001b[0m \u001b[1;32mas\u001b[0m \u001b[0merr\u001b[0m\u001b[1;33m:\u001b[0m\u001b[1;33m\u001b[0m\u001b[1;33m\u001b[0m\u001b[0m\n",
      "\u001b[1;32mpandas\\_libs\\index.pyx\u001b[0m in \u001b[0;36mpandas._libs.index.IndexEngine.get_loc\u001b[1;34m()\u001b[0m\n",
      "\u001b[1;32mpandas\\_libs\\index.pyx\u001b[0m in \u001b[0;36mpandas._libs.index.IndexEngine.get_loc\u001b[1;34m()\u001b[0m\n",
      "\u001b[1;32mpandas\\_libs\\hashtable_class_helper.pxi\u001b[0m in \u001b[0;36mpandas._libs.hashtable.PyObjectHashTable.get_item\u001b[1;34m()\u001b[0m\n",
      "\u001b[1;32mpandas\\_libs\\hashtable_class_helper.pxi\u001b[0m in \u001b[0;36mpandas._libs.hashtable.PyObjectHashTable.get_item\u001b[1;34m()\u001b[0m\n",
      "\u001b[1;31mKeyError\u001b[0m: 'caldt'",
      "\nThe above exception was the direct cause of the following exception:\n",
      "\u001b[1;31mKeyError\u001b[0m                                  Traceback (most recent call last)",
      "\u001b[1;32m<ipython-input-106-05ef11067580>\u001b[0m in \u001b[0;36m<module>\u001b[1;34m\u001b[0m\n\u001b[1;32m----> 1\u001b[1;33m \u001b[0mdates2\u001b[0m \u001b[1;33m=\u001b[0m \u001b[0mrf\u001b[0m\u001b[1;33m[\u001b[0m\u001b[1;34m'caldt'\u001b[0m\u001b[1;33m]\u001b[0m\u001b[1;33m\u001b[0m\u001b[1;33m\u001b[0m\u001b[0m\n\u001b[0m\u001b[0;32m      2\u001b[0m \u001b[0md2\u001b[0m \u001b[1;33m=\u001b[0m \u001b[0mset\u001b[0m\u001b[1;33m(\u001b[0m\u001b[0mdates2\u001b[0m\u001b[1;33m)\u001b[0m\u001b[1;33m\u001b[0m\u001b[1;33m\u001b[0m\u001b[0m\n",
      "\u001b[1;32mc:\\users\\jonkq\\appdata\\local\\programs\\python\\python38\\lib\\site-packages\\pandas\\core\\frame.py\u001b[0m in \u001b[0;36m__getitem__\u001b[1;34m(self, key)\u001b[0m\n\u001b[0;32m   3022\u001b[0m             \u001b[1;32mif\u001b[0m \u001b[0mself\u001b[0m\u001b[1;33m.\u001b[0m\u001b[0mcolumns\u001b[0m\u001b[1;33m.\u001b[0m\u001b[0mnlevels\u001b[0m \u001b[1;33m>\u001b[0m \u001b[1;36m1\u001b[0m\u001b[1;33m:\u001b[0m\u001b[1;33m\u001b[0m\u001b[1;33m\u001b[0m\u001b[0m\n\u001b[0;32m   3023\u001b[0m                 \u001b[1;32mreturn\u001b[0m \u001b[0mself\u001b[0m\u001b[1;33m.\u001b[0m\u001b[0m_getitem_multilevel\u001b[0m\u001b[1;33m(\u001b[0m\u001b[0mkey\u001b[0m\u001b[1;33m)\u001b[0m\u001b[1;33m\u001b[0m\u001b[1;33m\u001b[0m\u001b[0m\n\u001b[1;32m-> 3024\u001b[1;33m             \u001b[0mindexer\u001b[0m \u001b[1;33m=\u001b[0m \u001b[0mself\u001b[0m\u001b[1;33m.\u001b[0m\u001b[0mcolumns\u001b[0m\u001b[1;33m.\u001b[0m\u001b[0mget_loc\u001b[0m\u001b[1;33m(\u001b[0m\u001b[0mkey\u001b[0m\u001b[1;33m)\u001b[0m\u001b[1;33m\u001b[0m\u001b[1;33m\u001b[0m\u001b[0m\n\u001b[0m\u001b[0;32m   3025\u001b[0m             \u001b[1;32mif\u001b[0m \u001b[0mis_integer\u001b[0m\u001b[1;33m(\u001b[0m\u001b[0mindexer\u001b[0m\u001b[1;33m)\u001b[0m\u001b[1;33m:\u001b[0m\u001b[1;33m\u001b[0m\u001b[1;33m\u001b[0m\u001b[0m\n\u001b[0;32m   3026\u001b[0m                 \u001b[0mindexer\u001b[0m \u001b[1;33m=\u001b[0m \u001b[1;33m[\u001b[0m\u001b[0mindexer\u001b[0m\u001b[1;33m]\u001b[0m\u001b[1;33m\u001b[0m\u001b[1;33m\u001b[0m\u001b[0m\n",
      "\u001b[1;32mc:\\users\\jonkq\\appdata\\local\\programs\\python\\python38\\lib\\site-packages\\pandas\\core\\indexes\\base.py\u001b[0m in \u001b[0;36mget_loc\u001b[1;34m(self, key, method, tolerance)\u001b[0m\n\u001b[0;32m   3080\u001b[0m                 \u001b[1;32mreturn\u001b[0m \u001b[0mself\u001b[0m\u001b[1;33m.\u001b[0m\u001b[0m_engine\u001b[0m\u001b[1;33m.\u001b[0m\u001b[0mget_loc\u001b[0m\u001b[1;33m(\u001b[0m\u001b[0mcasted_key\u001b[0m\u001b[1;33m)\u001b[0m\u001b[1;33m\u001b[0m\u001b[1;33m\u001b[0m\u001b[0m\n\u001b[0;32m   3081\u001b[0m             \u001b[1;32mexcept\u001b[0m \u001b[0mKeyError\u001b[0m \u001b[1;32mas\u001b[0m \u001b[0merr\u001b[0m\u001b[1;33m:\u001b[0m\u001b[1;33m\u001b[0m\u001b[1;33m\u001b[0m\u001b[0m\n\u001b[1;32m-> 3082\u001b[1;33m                 \u001b[1;32mraise\u001b[0m \u001b[0mKeyError\u001b[0m\u001b[1;33m(\u001b[0m\u001b[0mkey\u001b[0m\u001b[1;33m)\u001b[0m \u001b[1;32mfrom\u001b[0m \u001b[0merr\u001b[0m\u001b[1;33m\u001b[0m\u001b[1;33m\u001b[0m\u001b[0m\n\u001b[0m\u001b[0;32m   3083\u001b[0m \u001b[1;33m\u001b[0m\u001b[0m\n\u001b[0;32m   3084\u001b[0m         \u001b[1;32mif\u001b[0m \u001b[0mtolerance\u001b[0m \u001b[1;32mis\u001b[0m \u001b[1;32mnot\u001b[0m \u001b[1;32mNone\u001b[0m\u001b[1;33m:\u001b[0m\u001b[1;33m\u001b[0m\u001b[1;33m\u001b[0m\u001b[0m\n",
      "\u001b[1;31mKeyError\u001b[0m: 'caldt'"
     ]
    }
   ],
   "source": [
    "dates2 = rf['caldt']"
   ]
  },
  {
   "cell_type": "code",
   "execution_count": 10,
   "id": "iraqi-andorra",
   "metadata": {},
   "outputs": [
    {
     "name": "stdout",
     "output_type": "stream",
     "text": [
      "2516 2516 7503\n"
     ]
    }
   ],
   "source": [
    "print(len(amzn),len(mkt),len(rf))\n",
    "# not same length"
   ]
  },
  {
   "cell_type": "code",
   "execution_count": 31,
   "id": "global-daily",
   "metadata": {},
   "outputs": [],
   "source": [
    "rf = rf.set_index('caldt')"
   ]
  },
  {
   "cell_type": "code",
   "execution_count": 94,
   "id": "opened-teens",
   "metadata": {
    "scrolled": false
   },
   "outputs": [
    {
     "data": {
      "text/plain": [
       "2.5007044889028336e-06"
      ]
     },
     "execution_count": 94,
     "metadata": {},
     "output_type": "execute_result"
    }
   ],
   "source": [
    "i=0\n",
    "rf.loc[dates[i]].mean().item()"
   ]
  },
  {
   "cell_type": "code",
   "execution_count": 123,
   "id": "soviet-error",
   "metadata": {},
   "outputs": [],
   "source": [
    "rf2 = [rf.loc[d2[i]].mean().item() for i in range(len(d2))]"
   ]
  },
  {
   "cell_type": "code",
   "execution_count": 113,
   "id": "forty-portland",
   "metadata": {},
   "outputs": [],
   "source": [
    "d2 = set(dates2)\n",
    "d2 = list(d2)\n",
    "d2.sort()"
   ]
  },
  {
   "cell_type": "code",
   "execution_count": 125,
   "id": "color-catch",
   "metadata": {},
   "outputs": [],
   "source": [
    "rf2 = pd.DataFrame({'rf':rf2, 'date':d2})"
   ]
  },
  {
   "cell_type": "code",
   "execution_count": 127,
   "id": "distinct-pharmacy",
   "metadata": {},
   "outputs": [],
   "source": [
    "rf2 = rf2.set_index('date')"
   ]
  },
  {
   "cell_type": "code",
   "execution_count": 155,
   "id": "stainless-ecology",
   "metadata": {},
   "outputs": [
    {
     "name": "stdout",
     "output_type": "stream",
     "text": [
      "[datetime.date(2010, 10, 11), datetime.date(2010, 11, 11), datetime.date(2011, 10, 10), datetime.date(2011, 11, 11), datetime.date(2012, 10, 8), datetime.date(2012, 11, 12), datetime.date(2013, 10, 14), datetime.date(2013, 11, 11), datetime.date(2014, 10, 13), datetime.date(2014, 11, 11), datetime.date(2015, 10, 12), datetime.date(2015, 11, 11), datetime.date(2016, 10, 10), datetime.date(2016, 11, 11), datetime.date(2017, 10, 9), datetime.date(2018, 10, 8), datetime.date(2018, 11, 12), datetime.date(2019, 10, 14), datetime.date(2019, 11, 11)] [datetime.date(2010, 4, 2), datetime.date(2012, 4, 6), datetime.date(2012, 10, 29), datetime.date(2015, 4, 3)]\n"
     ]
    }
   ],
   "source": [
    "d1 = list(dates)\n",
    "\n",
    "mis1 = [d1[i] for i in range(len(d1)) if d1[i] not in d2]\n",
    "mis2 = [d2[i] for i in range(len(d2)) if d2[i] not in d1]\n",
    "\n",
    "print(mis1,mis2)"
   ]
  }
 ],
 "metadata": {
  "kernelspec": {
   "display_name": "Python 3",
   "language": "python",
   "name": "python3"
  },
  "language_info": {
   "codemirror_mode": {
    "name": "ipython",
    "version": 3
   },
   "file_extension": ".py",
   "mimetype": "text/x-python",
   "name": "python",
   "nbconvert_exporter": "python",
   "pygments_lexer": "ipython3",
   "version": "3.8.8"
  }
 },
 "nbformat": 4,
 "nbformat_minor": 5
}
