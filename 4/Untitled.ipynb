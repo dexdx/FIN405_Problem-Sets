{
 "cells": [
  {
   "cell_type": "code",
   "execution_count": 1,
   "id": "attached-effort",
   "metadata": {},
   "outputs": [],
   "source": [
    "import wrds\n",
    "import matplotlib.pyplot as plt\n",
    "import pandas as pd"
   ]
  },
  {
   "cell_type": "code",
   "execution_count": 2,
   "id": "purple-bradley",
   "metadata": {},
   "outputs": [
    {
     "name": "stdout",
     "output_type": "stream",
     "text": [
      "Loading library list...\n",
      "Done\n",
      "Enter your WRDS username [jonkq]:jonkq\n",
      "Enter your password:········\n"
     ]
    }
   ],
   "source": [
    "db = wrds.Connection()\n",
    "db.create_pgpass_file()"
   ]
  },
  {
   "cell_type": "code",
   "execution_count": 3,
   "id": "better-works",
   "metadata": {},
   "outputs": [],
   "source": [
    "amzn = db.raw_sql(\"select date, ret from crsp.dsf where permno in (84788) and date>='2010-01-01' and date<='2019-12-31'\")\n",
    "amzn.to_csv('amzn.csv')"
   ]
  },
  {
   "cell_type": "code",
   "execution_count": 12,
   "id": "terminal-freight",
   "metadata": {},
   "outputs": [],
   "source": [
    "mkt = db.raw_sql(\"select date, vwretd from crsp.dsi where date>='2010-01-01' and date<='2019-12-31'\")\n",
    "mkt.to_csv('mkt.csv')"
   ]
  },
  {
   "cell_type": "code",
   "execution_count": 13,
   "id": "pretty-blanket",
   "metadata": {},
   "outputs": [],
   "source": [
    "rf = db.raw_sql(\"select caldt, tdyld from crsp.tfz_dly_rf2 where caldt>='2010-01-01' and caldt<='2019-12-31'\")\n",
    "rf.to_csv('rf.csv')"
   ]
  },
  {
   "cell_type": "markdown",
   "id": "british-imagination",
   "metadata": {},
   "source": [
    "### Data Cleaning"
   ]
  },
  {
   "cell_type": "code",
   "execution_count": 14,
   "id": "decreased-music",
   "metadata": {},
   "outputs": [],
   "source": [
    "d1 = mkt['date']\n",
    "d2 = rf['caldt']"
   ]
  },
  {
   "cell_type": "code",
   "execution_count": 18,
   "id": "young-skating",
   "metadata": {},
   "outputs": [],
   "source": [
    "d2 = set(d2)\n",
    "d2 = list(d2)\n",
    "d2.sort()"
   ]
  },
  {
   "cell_type": "code",
   "execution_count": 15,
   "id": "mobile-encoding",
   "metadata": {},
   "outputs": [],
   "source": [
    "rf = rf.set_index('caldt')"
   ]
  },
  {
   "cell_type": "code",
   "execution_count": 19,
   "id": "surprising-plate",
   "metadata": {},
   "outputs": [],
   "source": [
    "rf2 = [rf.loc[d2[i]].mean().item() for i in range(len(d2))]"
   ]
  },
  {
   "cell_type": "code",
   "execution_count": 20,
   "id": "nearby-child",
   "metadata": {},
   "outputs": [],
   "source": [
    "rf2 = pd.DataFrame({'rf':rf2, 'date':d2})"
   ]
  },
  {
   "cell_type": "code",
   "execution_count": 21,
   "id": "above-capability",
   "metadata": {},
   "outputs": [],
   "source": [
    "rf2 = rf2.set_index('date')"
   ]
  },
  {
   "cell_type": "code",
   "execution_count": 23,
   "id": "southern-setting",
   "metadata": {},
   "outputs": [],
   "source": [
    "d1 = list(d1)\n",
    "\n",
    "c2 = [d2[i] for i in range(len(d2)) if d2[i] in d1]\n",
    "rf2 = rf2.loc[c2]\n",
    "\n",
    "d1 = [d1[i] for i in range(len(d1)) if d1[i] in d2]"
   ]
  },
  {
   "cell_type": "code",
   "execution_count": 26,
   "id": "flush-morris",
   "metadata": {},
   "outputs": [
    {
     "name": "stdout",
     "output_type": "stream",
     "text": [
      "2497 2497\n"
     ]
    }
   ],
   "source": [
    "print(len(d1),len(c2))"
   ]
  }
 ],
 "metadata": {
  "kernelspec": {
   "display_name": "Python 3",
   "language": "python",
   "name": "python3"
  },
  "language_info": {
   "codemirror_mode": {
    "name": "ipython",
    "version": 3
   },
   "file_extension": ".py",
   "mimetype": "text/x-python",
   "name": "python",
   "nbconvert_exporter": "python",
   "pygments_lexer": "ipython3",
   "version": "3.8.8"
  }
 },
 "nbformat": 4,
 "nbformat_minor": 5
}
