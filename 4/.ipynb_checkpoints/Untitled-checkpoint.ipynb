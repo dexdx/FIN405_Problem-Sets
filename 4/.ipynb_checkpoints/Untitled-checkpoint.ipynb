{
 "cells": [
  {
   "cell_type": "code",
   "execution_count": 22,
   "id": "attached-effort",
   "metadata": {},
   "outputs": [],
   "source": [
    "import wrds\n",
    "import matplotlib.pyplot as plt"
   ]
  },
  {
   "cell_type": "code",
   "execution_count": 2,
   "id": "purple-bradley",
   "metadata": {},
   "outputs": [
    {
     "name": "stdout",
     "output_type": "stream",
     "text": [
      "Loading library list...\n",
      "Done\n",
      "Enter your WRDS username [jonkq]:jonkq\n",
      "Enter your password:········\n"
     ]
    }
   ],
   "source": [
    "db = wrds.Connection()\n",
    "db.create_pgpass_file()"
   ]
  },
  {
   "cell_type": "code",
   "execution_count": 3,
   "id": "better-works",
   "metadata": {},
   "outputs": [],
   "source": [
    "amzn = db.raw_sql(\"select date, ret from crsp.msf where permno in (84788) and date>='2010-01-01' and date<='2019-12-31'\")\n",
    "amzn.to_csv('amzn.csv')\n",
    "amzn = amzn.set_index('date')"
   ]
  },
  {
   "cell_type": "code",
   "execution_count": 27,
   "id": "terminal-freight",
   "metadata": {},
   "outputs": [],
   "source": [
    "mkt = db.raw_sql(\"select date, vwretd from crsp.dsi where date>='2010-01-01' and date<='2019-12-31'\")\n",
    "mkt.to_csv('mkt.csv')"
   ]
  },
  {
   "cell_type": "code",
   "execution_count": 30,
   "id": "pretty-blanket",
   "metadata": {},
   "outputs": [],
   "source": [
    "rf = db.raw_sql(\"select caldt, tdyld from crsp.tfz_dly_rf2 where caldt>='2010-01-01' and caldt<='2019-12-31'\")\n",
    "rf.to_csv('rf.csv')"
   ]
  },
  {
   "cell_type": "code",
   "execution_count": 31,
   "id": "iraqi-andorra",
   "metadata": {},
   "outputs": [
    {
     "name": "stdout",
     "output_type": "stream",
     "text": [
      "120 2516 7503\n"
     ]
    }
   ],
   "source": [
    "print(len(amzn),len(mkt),len(rf))\n",
    "# not same length"
   ]
  }
 ],
 "metadata": {
  "kernelspec": {
   "display_name": "Python 3",
   "language": "python",
   "name": "python3"
  },
  "language_info": {
   "codemirror_mode": {
    "name": "ipython",
    "version": 3
   },
   "file_extension": ".py",
   "mimetype": "text/x-python",
   "name": "python",
   "nbconvert_exporter": "python",
   "pygments_lexer": "ipython3",
   "version": "3.8.8"
  }
 },
 "nbformat": 4,
 "nbformat_minor": 5
}
