{
 "cells": [
  {
   "cell_type": "markdown",
   "id": "armed-precipitation",
   "metadata": {},
   "source": [
    "# Problem 2"
   ]
  },
  {
   "cell_type": "code",
   "execution_count": 1,
   "id": "attached-effort",
   "metadata": {},
   "outputs": [],
   "source": [
    "import wrds\n",
    "import matplotlib.pyplot as plt\n",
    "import pandas as pd\n",
    "import numpy as np\n",
    "from sklearn.linear_model import LinearRegression"
   ]
  },
  {
   "cell_type": "code",
   "execution_count": 2,
   "id": "purple-bradley",
   "metadata": {
    "scrolled": true
   },
   "outputs": [
    {
     "name": "stdout",
     "output_type": "stream",
     "text": [
      "Loading library list...\n",
      "Done\n",
      "Enter your WRDS username [jonkq]:jonkq\n",
      "Enter your password:········\n"
     ]
    }
   ],
   "source": [
    "db = wrds.Connection()\n",
    "db.create_pgpass_file()"
   ]
  },
  {
   "cell_type": "markdown",
   "id": "million-trigger",
   "metadata": {},
   "source": [
    "#### 1)"
   ]
  },
  {
   "cell_type": "code",
   "execution_count": 3,
   "id": "better-works",
   "metadata": {},
   "outputs": [],
   "source": [
    "amzn = db.raw_sql(\"select date, ret from crsp.dsf where permno in (84788) and date>='2010-01-01' and date<='2019-12-31'\")\n",
    "amzn.to_csv('amzn.csv')\n",
    "mkt = db.raw_sql(\"select date, vwretd from crsp.dsi where date>='2010-01-01' and date<='2019-12-31'\")\n",
    "mkt.to_csv('mkt.csv')\n",
    "rf = db.raw_sql(\"select caldt, tdyld from crsp.tfz_dly_rf2 where caldt>='2010-01-01' and caldt<='2019-12-31'\")\n",
    "rf.to_csv('rf.csv')"
   ]
  },
  {
   "cell_type": "markdown",
   "id": "british-imagination",
   "metadata": {},
   "source": [
    "Data Cleaning"
   ]
  },
  {
   "cell_type": "code",
   "execution_count": 4,
   "id": "decreased-music",
   "metadata": {},
   "outputs": [],
   "source": [
    "d1 = list(mkt['date'])\n",
    "d2 = rf['caldt']\n",
    "d2 = list(set(d2))\n",
    "d2.sort()"
   ]
  },
  {
   "cell_type": "code",
   "execution_count": 5,
   "id": "mobile-encoding",
   "metadata": {},
   "outputs": [],
   "source": [
    "# rf has multiple values for single dates -> take mean\n",
    "rf = rf.set_index('caldt')\n",
    "rf = [rf.loc[d2[i]].mean().item() for i in range(len(d2))]\n",
    "rf = pd.DataFrame({'rf':rf, 'date':d2})\n",
    "rf = rf.set_index('date')"
   ]
  },
  {
   "cell_type": "code",
   "execution_count": 6,
   "id": "southern-setting",
   "metadata": {},
   "outputs": [],
   "source": [
    "# keep dates in d2 (and rf) that also are in d1\n",
    "c2 = [d2[i] for i in range(len(d2)) if d2[i] in d1]\n",
    "rf = rf.loc[c2]\n",
    "# keep dates in d1 (amzn/mkt) that also are in c2 (rf)\n",
    "d1 = [d1[i] for i in range(len(d1)) if d1[i] in d2]"
   ]
  },
  {
   "cell_type": "code",
   "execution_count": 9,
   "id": "formed-costs",
   "metadata": {},
   "outputs": [],
   "source": [
    "# construct complete dataframe\n",
    "data = amzn\n",
    "mrkt = mkt.vwretd.squeeze()\n",
    "data['mrkt'] = mrkt\n",
    "data = data.set_index('date')\n",
    "data = data.rename(columns={'ret':'amzn'})\n",
    "data = data.loc[d1]\n",
    "data['rf'] = rf.squeeze()\n",
    "#dti = pd.DatetimeIndex(data.index)\n",
    "#data['dti'] = dti\n",
    "#data.set_index(dti)"
   ]
  },
  {
   "cell_type": "markdown",
   "id": "solid-seeking",
   "metadata": {},
   "source": [
    "#### 2)"
   ]
  },
  {
   "cell_type": "code",
   "execution_count": 10,
   "id": "dimensional-cabin",
   "metadata": {},
   "outputs": [],
   "source": [
    "# Assuming one month contains 20 trading days, we use rolling windows of 120 observations (6 trading months)\n",
    "# for the the rolling estimates\n",
    "\n",
    "# compute excess returns for amzn and mrkt\n",
    "excess = data.copy(deep=True)\n",
    "excess.amzn -= excess.rf\n",
    "excess.mrkt -= excess.rf"
   ]
  },
  {
   "cell_type": "code",
   "execution_count": 12,
   "id": "opening-usage",
   "metadata": {},
   "outputs": [],
   "source": [
    "betas = []\n",
    "alphas = []\n",
    "\n",
    "for i in range(120,len(excess)):\n",
    "    train = excess.iloc[(i-120):i,:]\n",
    "    x = np.asarray(train.iloc[:,1]).reshape(-1,1)\n",
    "    y = np.asarray(train.iloc[:,0]).reshape(-1,1)\n",
    "    lm_fit = LinearRegression().fit(x, y)\n",
    "    betas.append(lm_fit.coef_.item())\n",
    "    alphas.append(lm_fit.intercept_.item())\n"
   ]
  },
  {
   "cell_type": "code",
   "execution_count": 13,
   "id": "dutch-launch",
   "metadata": {},
   "outputs": [
    {
     "data": {
      "text/plain": [
       "[<matplotlib.lines.Line2D at 0x12d1c5cb6a0>]"
      ]
     },
     "execution_count": 13,
     "metadata": {},
     "output_type": "execute_result"
    },
    {
     "data": {
      "image/png": "[encoded data removed]",
      "text/plain": [
       "<Figure size 432x288 with 1 Axes>"
      ]
     },
     "metadata": {
      "needs_background": "light"
     },
     "output_type": "display_data"
    }
   ],
   "source": [
    "plt.plot(betas)"
   ]
  },
  {
   "cell_type": "markdown",
   "id": "painted-oakland",
   "metadata": {},
   "source": [
    "#### 3)"
   ]
  },
  {
   "cell_type": "code",
   "execution_count": 43,
   "id": "painful-holder",
   "metadata": {},
   "outputs": [],
   "source": [
    "y = np.asarray(excess.amzn).reshape(-1,1)\n",
    "x = np.asarray(excess.mrkt).reshape(-1,1)\n",
    "# satisfies CAPM <=> no intercept\n",
    "lm = LinearRegression(fit_intercept=False).fit(x,y)\n",
    "beta = lm.coef_.item()\n",
    "resid = y - lm.predict(x)\n",
    "idio_risk = np.var(resid)"
   ]
  },
  {
   "cell_type": "code",
   "execution_count": 48,
   "id": "devoted-nurse",
   "metadata": {},
   "outputs": [],
   "source": [
    "errors = np.random.normal(scale=idio_risk, size=len(y))\n",
    "new_excess = beta*excess.mrkt + errors"
   ]
  },
  {
   "cell_type": "code",
   "execution_count": 62,
   "id": "packed-press",
   "metadata": {},
   "outputs": [],
   "source": [
    "betas_new = []\n",
    "alphas_new = []\n",
    "\n",
    "for i in range(120,len(excess)):\n",
    "    train = excess.iloc[(i-120):i,:]\n",
    "    x = np.asarray(train.iloc[:,1]).reshape(-1,1)\n",
    "    y = np.asarray(new_excess[(i-120):i,]).reshape(-1,1)\n",
    "    lm_fit = LinearRegression().fit(x, y)\n",
    "    betas_new.append(lm_fit.coef_.item())\n",
    "    alphas_new.append(lm_fit.intercept_.item())\n",
    "\n"
   ]
  },
  {
   "cell_type": "code",
   "execution_count": 63,
   "id": "limited-pocket",
   "metadata": {},
   "outputs": [],
   "source": [
    "betas_new = np.asarray(betas_new)\n",
    "adj_beta = 2/3*betas_new + 1/3*beta"
   ]
  },
  {
   "cell_type": "code",
   "execution_count": 64,
   "id": "intended-circumstances",
   "metadata": {
    "scrolled": true
   },
   "outputs": [
    {
     "data": {
      "text/plain": [
       "[<matplotlib.lines.Line2D at 0x12d1c49eee0>]"
      ]
     },
     "execution_count": 64,
     "metadata": {},
     "output_type": "execute_result"
    },
    {
     "data": {
      "image/png": "[encoded data removed]",
      "text/plain": [
       "<Figure size 432x288 with 1 Axes>"
      ]
     },
     "metadata": {
      "needs_background": "light"
     },
     "output_type": "display_data"
    }
   ],
   "source": [
    "plt.plot(betas_new)\n",
    "plt.plot(np.full(len(new_excess),beta))\n",
    "plt.plot(adj_beta)"
   ]
  }
 ],
 "metadata": {
  "kernelspec": {
   "display_name": "Python 3",
   "language": "python",
   "name": "python3"
  },
  "language_info": {
   "codemirror_mode": {
    "name": "ipython",
    "version": 3
   },
   "file_extension": ".py",
   "mimetype": "text/x-python",
   "name": "python",
   "nbconvert_exporter": "python",
   "pygments_lexer": "ipython3",
   "version": "3.8.8"
  }
 },
 "nbformat": 4,
 "nbformat_minor": 5
}
