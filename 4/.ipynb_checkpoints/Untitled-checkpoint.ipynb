{
 "cells": [
  {
   "cell_type": "code",
   "execution_count": 1,
   "id": "attached-effort",
   "metadata": {},
   "outputs": [],
   "source": [
    "import wrds\n",
    "import matplotlib.pyplot as plt\n",
    "import pandas as pd"
   ]
  },
  {
   "cell_type": "code",
   "execution_count": 2,
   "id": "purple-bradley",
   "metadata": {},
   "outputs": [
    {
     "name": "stdout",
     "output_type": "stream",
     "text": [
      "Loading library list...\n",
      "Done\n",
      "Enter your WRDS username [jonkq]:jonkq\n",
      "Enter your password:········\n"
     ]
    }
   ],
   "source": [
    "db = wrds.Connection()\n",
    "db.create_pgpass_file()"
   ]
  },
  {
   "cell_type": "code",
   "execution_count": 104,
   "id": "better-works",
   "metadata": {},
   "outputs": [],
   "source": [
    "amzn = db.raw_sql(\"select date, ret from crsp.dsf where permno in (84788) and date>='2010-01-01' and date<='2019-12-31'\")\n",
    "amzn.to_csv('amzn.csv')\n",
    "mkt = db.raw_sql(\"select date, vwretd from crsp.dsi where date>='2010-01-01' and date<='2019-12-31'\")\n",
    "mkt.to_csv('mkt.csv')\n",
    "rf = db.raw_sql(\"select caldt, tdyld from crsp.tfz_dly_rf2 where caldt>='2010-01-01' and caldt<='2019-12-31'\")\n",
    "rf.to_csv('rf.csv')"
   ]
  },
  {
   "cell_type": "markdown",
   "id": "british-imagination",
   "metadata": {},
   "source": [
    "### Data Cleaning"
   ]
  },
  {
   "cell_type": "code",
   "execution_count": 79,
   "id": "decreased-music",
   "metadata": {},
   "outputs": [],
   "source": [
    "d1 = list(mkt['date'])\n",
    "d2 = rf['caldt']\n",
    "d2 = list(set(d2))\n",
    "d2.sort()"
   ]
  },
  {
   "cell_type": "code",
   "execution_count": 112,
   "id": "mobile-encoding",
   "metadata": {},
   "outputs": [],
   "source": [
    "# rf has multiple values for single dates -> take mean\n",
    "rf = rf.set_index('caldt')\n",
    "rf = [rf.loc[d2[i]].mean().item() for i in range(len(d2))]\n",
    "rf = pd.DataFrame({'rf':rf, 'date':d2})\n",
    "rf = rf.set_index('date')"
   ]
  },
  {
   "cell_type": "code",
   "execution_count": 113,
   "id": "southern-setting",
   "metadata": {},
   "outputs": [],
   "source": [
    "# keep dates in d2 (and rf) that also are in d1\n",
    "c2 = [d2[i] for i in range(len(d2)) if d2[i] in d1]\n",
    "rf = rf.loc[c2]\n",
    "# keep dates in d1 (amzn/mkt) that also are in c2 (rf)\n",
    "d1 = [d1[i] for i in range(len(d1)) if d1[i] in d2]"
   ]
  },
  {
   "cell_type": "code",
   "execution_count": 109,
   "id": "answering-willow",
   "metadata": {},
   "outputs": [],
   "source": [
    "# construct complete dataframe\n",
    "data = amzn\n",
    "mrkt = mkt.vwretd.squeeze()\n",
    "data['mrkt'] = mrkt\n",
    "data = data.set_index('date')\n",
    "data = data.rename(columns={'ret':'amzn'})\n",
    "data = data.loc[d1]\n",
    "data['rf'] = rf.squeeze()"
   ]
  }
 ],
 "metadata": {
  "kernelspec": {
   "display_name": "Python 3",
   "language": "python",
   "name": "python3"
  },
  "language_info": {
   "codemirror_mode": {
    "name": "ipython",
    "version": 3
   },
   "file_extension": ".py",
   "mimetype": "text/x-python",
   "name": "python",
   "nbconvert_exporter": "python",
   "pygments_lexer": "ipython3",
   "version": "3.8.8"
  }
 },
 "nbformat": 4,
 "nbformat_minor": 5
}
